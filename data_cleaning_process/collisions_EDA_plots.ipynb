version https://git-lfs.github.com/spec/v1
oid sha256:e8e23d3c5c10fb54e33878b5e0fbd8bb52ea8cf015e2df4c0b98079b6b396efd
size 1369859

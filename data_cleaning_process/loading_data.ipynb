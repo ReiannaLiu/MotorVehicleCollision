{
 "cells": [
  {
   "cell_type": "code",
   "execution_count": 1,
   "metadata": {},
   "outputs": [],
   "source": [
    "import pandas as pd \n",
    "from sqlalchemy import create_engine, MetaData, Table, Column, Integer, String, Float, DateTime\n",
    "from sqlalchemy.dialects.sqlite import DATETIME"
   ]
  },
  {
   "cell_type": "code",
   "execution_count": 2,
   "metadata": {},
   "outputs": [],
   "source": [
    "df = pd.read_csv('../Resources/collision_2022.csv')"
   ]
  },
  {
   "cell_type": "code",
   "execution_count": 3,
   "metadata": {},
   "outputs": [],
   "source": [
    "df = df.drop_duplicates(subset=['collision_id'], keep='first').set_index('collision_id')"
   ]
  },
  {
   "cell_type": "code",
   "execution_count": 4,
   "metadata": {},
   "outputs": [],
   "source": [
    "df['zip_code'] = df['zip_code'].astype(str)"
   ]
  },
  {
   "cell_type": "code",
   "execution_count": 5,
   "metadata": {},
   "outputs": [],
   "source": [
    "df['crash_datetime'] = pd.to_datetime(df['crash_datetime'])"
   ]
  },
  {
   "cell_type": "code",
   "execution_count": 6,
   "metadata": {},
   "outputs": [],
   "source": [
    "df.drop(columns='location', inplace=True)"
   ]
  },
  {
   "cell_type": "code",
   "execution_count": 7,
   "metadata": {},
   "outputs": [],
   "source": [
    "df.rename(columns={'vehicle_type_code1': 'vehicle_type_code_1', 'vehicle_type_code2':'vehicle_type_code_2'}, inplace=True)"
   ]
  },
  {
   "cell_type": "code",
   "execution_count": 8,
   "metadata": {},
   "outputs": [],
   "source": [
    "import requests\n",
    "import pandas as pd\n",
    "\n",
    "# Fetch data from the API\n",
    "additional_columns = requests.get(\"https://data.cityofnewyork.us/resource/h9gi-nx95.json\")\n",
    "additional_columns_data = additional_columns.json()\n",
    "additional_df = pd.DataFrame(additional_columns_data)\n",
    "additional_df.set_index('collision_id', inplace=True)"
   ]
  },
  {
   "cell_type": "code",
   "execution_count": 9,
   "metadata": {},
   "outputs": [],
   "source": [
    "df.index = df.index.astype(str)\n",
    "additional_df.index = additional_df.index.astype(str)"
   ]
  },
  {
   "cell_type": "code",
   "execution_count": 10,
   "metadata": {},
   "outputs": [],
   "source": [
    "# rename columns contributing_factor_vehicle to contributing_factor_vehicle_1 \n",
    "df.rename(columns={'contributing_factor_vehicle':'contributing_factor_vehicle_1'}, inplace=True)"
   ]
  },
  {
   "cell_type": "code",
   "execution_count": 11,
   "metadata": {},
   "outputs": [],
   "source": [
    "df['contributing_factor_vehicle_2'] = additional_df['contributing_factor_vehicle_2']\n",
    "df['contributing_factor_vehicle_3'] = additional_df['contributing_factor_vehicle_3']\n",
    "df['contributing_factor_vehicle_4'] = additional_df['contributing_factor_vehicle_4']\n",
    "df['contributing_factor_vehicle_5'] = additional_df['contributing_factor_vehicle_5']"
   ]
  },
  {
   "cell_type": "code",
   "execution_count": 12,
   "metadata": {},
   "outputs": [],
   "source": [
    "df['vehicle_type_code_1'] = additional_df['vehicle_type_code1']\n",
    "df['vehicle_type_code_2'] = additional_df['vehicle_type_code2']\n",
    "df['vehicle_type_code_3'] = additional_df['vehicle_type_code_3']\n",
    "df['vehicle_type_code_4'] = additional_df['vehicle_type_code_4']\n",
    "df['vehicle_type_code_5'] = additional_df['vehicle_type_code_5']"
   ]
  },
  {
   "cell_type": "code",
   "execution_count": 13,
   "metadata": {},
   "outputs": [],
   "source": [
    "crash_datetime = df['crash_datetime']\n",
    "df.drop(labels=['crash_datetime'], axis=1, inplace=True)\n",
    "df.insert(0, 'crash_datetime', crash_datetime)"
   ]
  },
  {
   "cell_type": "code",
   "execution_count": 14,
   "metadata": {},
   "outputs": [],
   "source": [
    "demo_df = pd.read_excel('../Resources/NewYork_DemographicsByZipCode.xlsx')\n",
    "demo_df = demo_df.iloc[3:]\n",
    "demo_df = demo_df.rename(columns={'Geography': 'zip_code'}, inplace=False)\n",
    "demo_df = demo_df.rename(columns={'Best Population Estimate': 'Population'}, inplace=False)\n",
    "demo_df = demo_df.rename(columns={demo_df.columns[7]: 'Population Density'}, inplace=False)\n",
    "demo_df = demo_df[(demo_df['zip_code'] != \"New York\") & (demo_df['zip_code'] != \"name\")]"
   ]
  },
  {
   "cell_type": "code",
   "execution_count": 15,
   "metadata": {},
   "outputs": [],
   "source": [
    "demo_df = demo_df[['zip_code','Population']].reset_index(drop=True)"
   ]
  },
  {
   "cell_type": "code",
   "execution_count": 16,
   "metadata": {},
   "outputs": [],
   "source": [
    "df = df.reset_index().merge(demo_df, on='zip_code', how='left').set_index('collision_id')\n",
    "df[\"Population\"] = df[\"Population\"].astype(\"float\")"
   ]
  },
  {
   "cell_type": "code",
   "execution_count": 17,
   "metadata": {},
   "outputs": [
    {
     "data": {
      "text/html": [
       "<div>\n",
       "<style scoped>\n",
       "    .dataframe tbody tr th:only-of-type {\n",
       "        vertical-align: middle;\n",
       "    }\n",
       "\n",
       "    .dataframe tbody tr th {\n",
       "        vertical-align: top;\n",
       "    }\n",
       "\n",
       "    .dataframe thead th {\n",
       "        text-align: right;\n",
       "    }\n",
       "</style>\n",
       "<table border=\"1\" class=\"dataframe\">\n",
       "  <thead>\n",
       "    <tr style=\"text-align: right;\">\n",
       "      <th></th>\n",
       "      <th># of Collisions</th>\n",
       "    </tr>\n",
       "    <tr>\n",
       "      <th>zipcodes</th>\n",
       "      <th></th>\n",
       "    </tr>\n",
       "  </thead>\n",
       "  <tbody>\n",
       "    <tr>\n",
       "      <th>10000</th>\n",
       "      <td>30</td>\n",
       "    </tr>\n",
       "    <tr>\n",
       "      <th>10001</th>\n",
       "      <td>590</td>\n",
       "    </tr>\n",
       "    <tr>\n",
       "      <th>10002</th>\n",
       "      <td>880</td>\n",
       "    </tr>\n",
       "    <tr>\n",
       "      <th>10003</th>\n",
       "      <td>415</td>\n",
       "    </tr>\n",
       "    <tr>\n",
       "      <th>10004</th>\n",
       "      <td>89</td>\n",
       "    </tr>\n",
       "  </tbody>\n",
       "</table>\n",
       "</div>"
      ],
      "text/plain": [
       "          # of Collisions\n",
       "zipcodes                 \n",
       "10000                  30\n",
       "10001                 590\n",
       "10002                 880\n",
       "10003                 415\n",
       "10004                  89"
      ]
     },
     "execution_count": 17,
     "metadata": {},
     "output_type": "execute_result"
    }
   ],
   "source": [
    "collision_by_zip_df = df.groupby('zip_code').size()\n",
    "collision_by_zip_df = collision_by_zip_df.reset_index().rename(columns={\"zip_code\":\"zipcodes\",0:\"# of Collisions\"})\n",
    "collision_by_zip_df['# of Collisions'] = collision_by_zip_df['# of Collisions'].astype('int')\n",
    "collision_by_zip_df['zipcodes'] = collision_by_zip_df['zipcodes'].astype('str')\n",
    "collision_by_zip_df.set_index('zipcodes', inplace=True)\n",
    "collision_by_zip_df.head()"
   ]
  },
  {
   "cell_type": "code",
   "execution_count": 18,
   "metadata": {},
   "outputs": [],
   "source": [
    "engine = create_engine('sqlite:///../Resources/collision_db.sqlite')\n",
    "metadata = MetaData()"
   ]
  },
  {
   "cell_type": "code",
   "execution_count": 19,
   "metadata": {},
   "outputs": [],
   "source": [
    "collision_by_zip = Table('collision_by_zip', metadata,\n",
    "    Column('zipcodes', String, primary_key=True),\n",
    "    Column('# of Collisions', Integer),\n",
    ")\n",
    "metadata.create_all(engine)"
   ]
  },
  {
   "cell_type": "code",
   "execution_count": 20,
   "metadata": {},
   "outputs": [
    {
     "data": {
      "text/plain": [
       "245"
      ]
     },
     "execution_count": 20,
     "metadata": {},
     "output_type": "execute_result"
    }
   ],
   "source": [
    "collision_by_zip_df.to_sql('collision_by_zip', engine, if_exists='append', index=True)"
   ]
  },
  {
   "cell_type": "code",
   "execution_count": 21,
   "metadata": {},
   "outputs": [],
   "source": [
    "## add an attribute that classifies the hour of the day\n",
    "df[\"crash_hour\"] = df['crash_datetime'].dt.hour\n",
    "\n",
    "def classify_hour(hour):\n",
    "    if 4 <= hour < 7:\n",
    "        return 'Early Morning'\n",
    "    elif 7 <= hour < 10 or 15 <= hour < 20:\n",
    "        return 'Rush Hours'\n",
    "    elif 22 <= hour or hour < 4:\n",
    "        return 'Late Night'\n",
    "    else:\n",
    "        return 'Other Hours'\n",
    "\n",
    "df['crash_hour_category'] = df['crash_hour'].apply(classify_hour)    \n",
    "df = df.drop('crash_hour', axis=1)\n",
    "column_to_move = df.pop('crash_hour_category')\n",
    "df.insert(2, 'crash_hour_category', column_to_move)"
   ]
  },
  {
   "cell_type": "code",
   "execution_count": 22,
   "metadata": {},
   "outputs": [],
   "source": [
    "## check for missing values:\n",
    "# drop attributes of contributing factors that only have value \"unspecified\":\n",
    "contributing_factor_columns = [\n",
    "    'contributing_factor_vehicle_1',\n",
    "    'contributing_factor_vehicle_2',\n",
    "    'contributing_factor_vehicle_3',\n",
    "    'contributing_factor_vehicle_4',\n",
    "    'contributing_factor_vehicle_5'\n",
    "]\n",
    "\n",
    "# Check if all values in each contributing factor column are \"Unspecified\"\n",
    "columns_to_drop = [col for col in contributing_factor_columns if all(df[col].dropna() == 'Unspecified')]\n",
    "\n",
    "# Drop the columns\n",
    "df.drop(columns=columns_to_drop, inplace=True)\n",
    "\n",
    "#drop attributes of which all the values are missing:\n",
    "df.dropna(axis=1, how='all',inplace = True)"
   ]
  },
  {
   "cell_type": "code",
   "execution_count": 23,
   "metadata": {},
   "outputs": [],
   "source": [
    "# combine the contributing factors into one attribute:\n",
    "df[\"contributing_factor\"] = df[\"contributing_factor_vehicle_1\"]\n",
    "df.drop([\"contributing_factor_vehicle_1\",\"contributing_factor_vehicle_2\"],axis = 1,inplace= True)"
   ]
  },
  {
   "cell_type": "code",
   "execution_count": 24,
   "metadata": {},
   "outputs": [
    {
     "data": {
      "text/plain": [
       "collision_id\n",
       "4524418         7514\n",
       "4526434         7307\n",
       "4527885         7006\n",
       "4528539         7047\n",
       "4562093    113541906\n",
       "4585574         8721\n",
       "4591216         7305\n",
       "4591962         8721\n",
       "Name: zip_code, dtype: object"
      ]
     },
     "execution_count": 24,
     "metadata": {},
     "output_type": "execute_result"
    }
   ],
   "source": [
    "df['zip_code'] = df['zip_code'].astype('str')\n",
    "df[df['zip_code'].str.len() != 5]['zip_code']"
   ]
  },
  {
   "cell_type": "code",
   "execution_count": 25,
   "metadata": {},
   "outputs": [],
   "source": [
    "df.loc[df['zip_code'] == '113541906','zip_code'] = \"11354\""
   ]
  },
  {
   "cell_type": "code",
   "execution_count": 26,
   "metadata": {},
   "outputs": [],
   "source": [
    "## drop the rows that have four-digit zip code\n",
    "df.drop(df[df['zip_code'].str.len() != 5].index, inplace = True)"
   ]
  },
  {
   "cell_type": "code",
   "execution_count": 27,
   "metadata": {},
   "outputs": [],
   "source": [
    "df[\"number_of_injuries\"] = df[\"number_of_cyclist_injured\"] + df[\"number_of_motorist_injured\"] + df[\"number_of_pedestrians_injured\"] + df[\"number_of_persons_injured\"]\n",
    "df[\"number_of_deaths\"] = df[\"number_of_cyclist_killed\"] + df[\"number_of_motorist_killed\"] + df[\"number_of_pedestrians_killed\"] + df[\"number_of_persons_killed\"]\n",
    "df[\"injuries_rate\"] = df[\"number_of_injuries\"]/df[\"Population\"]\n",
    "df[\"death_rate\"] = df[\"number_of_deaths\"] /df[\"Population\"]"
   ]
  },
  {
   "cell_type": "code",
   "execution_count": 28,
   "metadata": {},
   "outputs": [
    {
     "data": {
      "text/html": [
       "<div>\n",
       "<style scoped>\n",
       "    .dataframe tbody tr th:only-of-type {\n",
       "        vertical-align: middle;\n",
       "    }\n",
       "\n",
       "    .dataframe tbody tr th {\n",
       "        vertical-align: top;\n",
       "    }\n",
       "\n",
       "    .dataframe thead th {\n",
       "        text-align: right;\n",
       "    }\n",
       "</style>\n",
       "<table border=\"1\" class=\"dataframe\">\n",
       "  <thead>\n",
       "    <tr style=\"text-align: right;\">\n",
       "      <th></th>\n",
       "      <th>number_of_injuries</th>\n",
       "      <th>number_of_deaths</th>\n",
       "      <th>death_rate</th>\n",
       "      <th>injuries_rate</th>\n",
       "      <th>count</th>\n",
       "      <th>total_involved</th>\n",
       "    </tr>\n",
       "  </thead>\n",
       "  <tbody>\n",
       "    <tr>\n",
       "      <th>0</th>\n",
       "      <td>0</td>\n",
       "      <td>0</td>\n",
       "      <td>0.000000</td>\n",
       "      <td>0.000000</td>\n",
       "      <td>64393</td>\n",
       "      <td>0</td>\n",
       "    </tr>\n",
       "    <tr>\n",
       "      <th>1</th>\n",
       "      <td>0</td>\n",
       "      <td>1</td>\n",
       "      <td>0.000011</td>\n",
       "      <td>0.000000</td>\n",
       "      <td>2</td>\n",
       "      <td>1</td>\n",
       "    </tr>\n",
       "    <tr>\n",
       "      <th>2</th>\n",
       "      <td>0</td>\n",
       "      <td>1</td>\n",
       "      <td>0.000011</td>\n",
       "      <td>0.000000</td>\n",
       "      <td>3</td>\n",
       "      <td>1</td>\n",
       "    </tr>\n",
       "    <tr>\n",
       "      <th>3</th>\n",
       "      <td>0</td>\n",
       "      <td>1</td>\n",
       "      <td>0.000012</td>\n",
       "      <td>0.000000</td>\n",
       "      <td>1</td>\n",
       "      <td>1</td>\n",
       "    </tr>\n",
       "    <tr>\n",
       "      <th>4</th>\n",
       "      <td>0</td>\n",
       "      <td>1</td>\n",
       "      <td>0.000012</td>\n",
       "      <td>0.000000</td>\n",
       "      <td>1</td>\n",
       "      <td>1</td>\n",
       "    </tr>\n",
       "    <tr>\n",
       "      <th>...</th>\n",
       "      <td>...</td>\n",
       "      <td>...</td>\n",
       "      <td>...</td>\n",
       "      <td>...</td>\n",
       "      <td>...</td>\n",
       "      <td>...</td>\n",
       "    </tr>\n",
       "    <tr>\n",
       "      <th>1280</th>\n",
       "      <td>28</td>\n",
       "      <td>0</td>\n",
       "      <td>0.000000</td>\n",
       "      <td>0.002475</td>\n",
       "      <td>1</td>\n",
       "      <td>28</td>\n",
       "    </tr>\n",
       "    <tr>\n",
       "      <th>1281</th>\n",
       "      <td>30</td>\n",
       "      <td>0</td>\n",
       "      <td>0.000000</td>\n",
       "      <td>0.000301</td>\n",
       "      <td>1</td>\n",
       "      <td>30</td>\n",
       "    </tr>\n",
       "    <tr>\n",
       "      <th>1282</th>\n",
       "      <td>30</td>\n",
       "      <td>0</td>\n",
       "      <td>0.000000</td>\n",
       "      <td>0.000377</td>\n",
       "      <td>1</td>\n",
       "      <td>30</td>\n",
       "    </tr>\n",
       "    <tr>\n",
       "      <th>1283</th>\n",
       "      <td>30</td>\n",
       "      <td>0</td>\n",
       "      <td>0.000000</td>\n",
       "      <td>0.000674</td>\n",
       "      <td>1</td>\n",
       "      <td>30</td>\n",
       "    </tr>\n",
       "    <tr>\n",
       "      <th>1284</th>\n",
       "      <td>80</td>\n",
       "      <td>0</td>\n",
       "      <td>0.000000</td>\n",
       "      <td>0.001797</td>\n",
       "      <td>1</td>\n",
       "      <td>80</td>\n",
       "    </tr>\n",
       "  </tbody>\n",
       "</table>\n",
       "<p>1285 rows × 6 columns</p>\n",
       "</div>"
      ],
      "text/plain": [
       "      number_of_injuries  number_of_deaths  death_rate  injuries_rate  count  \\\n",
       "0                      0                 0    0.000000       0.000000  64393   \n",
       "1                      0                 1    0.000011       0.000000      2   \n",
       "2                      0                 1    0.000011       0.000000      3   \n",
       "3                      0                 1    0.000012       0.000000      1   \n",
       "4                      0                 1    0.000012       0.000000      1   \n",
       "...                  ...               ...         ...            ...    ...   \n",
       "1280                  28                 0    0.000000       0.002475      1   \n",
       "1281                  30                 0    0.000000       0.000301      1   \n",
       "1282                  30                 0    0.000000       0.000377      1   \n",
       "1283                  30                 0    0.000000       0.000674      1   \n",
       "1284                  80                 0    0.000000       0.001797      1   \n",
       "\n",
       "      total_involved  \n",
       "0                  0  \n",
       "1                  1  \n",
       "2                  1  \n",
       "3                  1  \n",
       "4                  1  \n",
       "...              ...  \n",
       "1280              28  \n",
       "1281              30  \n",
       "1282              30  \n",
       "1283              30  \n",
       "1284              80  \n",
       "\n",
       "[1285 rows x 6 columns]"
      ]
     },
     "execution_count": 28,
     "metadata": {},
     "output_type": "execute_result"
    }
   ],
   "source": [
    "# create a result table that records every count of injuries & deaths combination \n",
    "injuries_deaths_df = df.groupby([\"number_of_injuries\", \"number_of_deaths\",\"death_rate\",\"injuries_rate\"]).size().reset_index(name='count')\n",
    "injuries_deaths_df[\"total_involved\"] = injuries_deaths_df[\"number_of_deaths\"] + injuries_deaths_df[\"number_of_injuries\"]\n",
    "injuries_deaths_df"
   ]
  },
  {
   "cell_type": "code",
   "execution_count": 29,
   "metadata": {},
   "outputs": [
    {
     "data": {
      "text/html": [
       "<div>\n",
       "<style scoped>\n",
       "    .dataframe tbody tr th:only-of-type {\n",
       "        vertical-align: middle;\n",
       "    }\n",
       "\n",
       "    .dataframe tbody tr th {\n",
       "        vertical-align: top;\n",
       "    }\n",
       "\n",
       "    .dataframe thead th {\n",
       "        text-align: right;\n",
       "    }\n",
       "</style>\n",
       "<table border=\"1\" class=\"dataframe\">\n",
       "  <thead>\n",
       "    <tr style=\"text-align: right;\">\n",
       "      <th></th>\n",
       "      <th>number_of_injuries</th>\n",
       "      <th>number_of_deaths</th>\n",
       "      <th>death_rate</th>\n",
       "      <th>injuries_rate</th>\n",
       "      <th>count</th>\n",
       "      <th>total_involved</th>\n",
       "    </tr>\n",
       "  </thead>\n",
       "  <tbody>\n",
       "    <tr>\n",
       "      <th>1</th>\n",
       "      <td>0</td>\n",
       "      <td>1</td>\n",
       "      <td>0.000011</td>\n",
       "      <td>0.000000</td>\n",
       "      <td>2</td>\n",
       "      <td>1</td>\n",
       "    </tr>\n",
       "    <tr>\n",
       "      <th>2</th>\n",
       "      <td>0</td>\n",
       "      <td>1</td>\n",
       "      <td>0.000011</td>\n",
       "      <td>0.000000</td>\n",
       "      <td>3</td>\n",
       "      <td>1</td>\n",
       "    </tr>\n",
       "    <tr>\n",
       "      <th>3</th>\n",
       "      <td>0</td>\n",
       "      <td>1</td>\n",
       "      <td>0.000012</td>\n",
       "      <td>0.000000</td>\n",
       "      <td>1</td>\n",
       "      <td>1</td>\n",
       "    </tr>\n",
       "    <tr>\n",
       "      <th>4</th>\n",
       "      <td>0</td>\n",
       "      <td>1</td>\n",
       "      <td>0.000012</td>\n",
       "      <td>0.000000</td>\n",
       "      <td>1</td>\n",
       "      <td>1</td>\n",
       "    </tr>\n",
       "    <tr>\n",
       "      <th>5</th>\n",
       "      <td>0</td>\n",
       "      <td>1</td>\n",
       "      <td>0.000012</td>\n",
       "      <td>0.000000</td>\n",
       "      <td>1</td>\n",
       "      <td>1</td>\n",
       "    </tr>\n",
       "    <tr>\n",
       "      <th>...</th>\n",
       "      <td>...</td>\n",
       "      <td>...</td>\n",
       "      <td>...</td>\n",
       "      <td>...</td>\n",
       "      <td>...</td>\n",
       "      <td>...</td>\n",
       "    </tr>\n",
       "    <tr>\n",
       "      <th>1280</th>\n",
       "      <td>28</td>\n",
       "      <td>0</td>\n",
       "      <td>0.000000</td>\n",
       "      <td>0.002475</td>\n",
       "      <td>1</td>\n",
       "      <td>28</td>\n",
       "    </tr>\n",
       "    <tr>\n",
       "      <th>1281</th>\n",
       "      <td>30</td>\n",
       "      <td>0</td>\n",
       "      <td>0.000000</td>\n",
       "      <td>0.000301</td>\n",
       "      <td>1</td>\n",
       "      <td>30</td>\n",
       "    </tr>\n",
       "    <tr>\n",
       "      <th>1282</th>\n",
       "      <td>30</td>\n",
       "      <td>0</td>\n",
       "      <td>0.000000</td>\n",
       "      <td>0.000377</td>\n",
       "      <td>1</td>\n",
       "      <td>30</td>\n",
       "    </tr>\n",
       "    <tr>\n",
       "      <th>1283</th>\n",
       "      <td>30</td>\n",
       "      <td>0</td>\n",
       "      <td>0.000000</td>\n",
       "      <td>0.000674</td>\n",
       "      <td>1</td>\n",
       "      <td>30</td>\n",
       "    </tr>\n",
       "    <tr>\n",
       "      <th>1284</th>\n",
       "      <td>80</td>\n",
       "      <td>0</td>\n",
       "      <td>0.000000</td>\n",
       "      <td>0.001797</td>\n",
       "      <td>1</td>\n",
       "      <td>80</td>\n",
       "    </tr>\n",
       "  </tbody>\n",
       "</table>\n",
       "<p>1284 rows × 6 columns</p>\n",
       "</div>"
      ],
      "text/plain": [
       "      number_of_injuries  number_of_deaths  death_rate  injuries_rate  count  \\\n",
       "1                      0                 1    0.000011       0.000000      2   \n",
       "2                      0                 1    0.000011       0.000000      3   \n",
       "3                      0                 1    0.000012       0.000000      1   \n",
       "4                      0                 1    0.000012       0.000000      1   \n",
       "5                      0                 1    0.000012       0.000000      1   \n",
       "...                  ...               ...         ...            ...    ...   \n",
       "1280                  28                 0    0.000000       0.002475      1   \n",
       "1281                  30                 0    0.000000       0.000301      1   \n",
       "1282                  30                 0    0.000000       0.000377      1   \n",
       "1283                  30                 0    0.000000       0.000674      1   \n",
       "1284                  80                 0    0.000000       0.001797      1   \n",
       "\n",
       "      total_involved  \n",
       "1                  1  \n",
       "2                  1  \n",
       "3                  1  \n",
       "4                  1  \n",
       "5                  1  \n",
       "...              ...  \n",
       "1280              28  \n",
       "1281              30  \n",
       "1282              30  \n",
       "1283              30  \n",
       "1284              80  \n",
       "\n",
       "[1284 rows x 6 columns]"
      ]
     },
     "execution_count": 29,
     "metadata": {},
     "output_type": "execute_result"
    }
   ],
   "source": [
    "injuries_deaths_df[injuries_deaths_df['total_involved']>0]"
   ]
  },
  {
   "cell_type": "code",
   "execution_count": 30,
   "metadata": {},
   "outputs": [
    {
     "name": "stdout",
     "output_type": "stream",
     "text": [
      "              number_of_injuries  number_of_deaths severity_of_accident\n",
      "collision_id                                                           \n",
      "4513547                        2                 0        Serious (Low)\n",
      "4541903                        0                 0                Minor\n",
      "4542336                        2                 0        Serious (Low)\n",
      "4545699                        0                 0                Minor\n",
      "4512922                        0                 0                Minor\n",
      "...                          ...               ...                  ...\n",
      "4647581                        0                 0                Minor\n",
      "4647839                        0                 0                Minor\n",
      "4647650                        2                 0        Serious (Low)\n",
      "4648107                        0                 0                Minor\n",
      "4648224                        0                 0                Minor\n",
      "\n",
      "[103782 rows x 3 columns]\n"
     ]
    }
   ],
   "source": [
    "# redefine the severity of accidents\n",
    "def categorize_severity(row):\n",
    "    if row['number_of_deaths'] >= 4:\n",
    "        return 'Very Fatal'\n",
    "    elif row['number_of_deaths'] > 0:\n",
    "        return 'Fatal'\n",
    "    elif row['number_of_injuries'] >= 10:\n",
    "        return 'Serious (High)'\n",
    "    elif row['number_of_injuries'] >= 5:\n",
    "        return 'Serious (Medium)'\n",
    "    elif row['number_of_injuries'] > 0:\n",
    "        return 'Serious (Low)'\n",
    "    else:\n",
    "        return 'Minor'\n",
    "\n",
    "# Apply the function to create a new column 'severity_of_accident'\n",
    "df['severity_of_accident'] = df.apply(categorize_severity, axis=1)\n",
    "\n",
    "# Display the resulting DataFrame\n",
    "print(df[['number_of_injuries', 'number_of_deaths', 'severity_of_accident']])"
   ]
  },
  {
   "cell_type": "code",
   "execution_count": 31,
   "metadata": {},
   "outputs": [],
   "source": [
    "# replace null value in vehicle_type_code_1 with 'Unspecified'\n",
    "df['vehicle_type_code_1'].fillna('Unspecified', inplace=True)"
   ]
  },
  {
   "cell_type": "code",
   "execution_count": 32,
   "metadata": {},
   "outputs": [
    {
     "data": {
      "text/html": [
       "<div>\n",
       "<style scoped>\n",
       "    .dataframe tbody tr th:only-of-type {\n",
       "        vertical-align: middle;\n",
       "    }\n",
       "\n",
       "    .dataframe tbody tr th {\n",
       "        vertical-align: top;\n",
       "    }\n",
       "\n",
       "    .dataframe thead th {\n",
       "        text-align: right;\n",
       "    }\n",
       "</style>\n",
       "<table border=\"1\" class=\"dataframe\">\n",
       "  <thead>\n",
       "    <tr style=\"text-align: right;\">\n",
       "      <th></th>\n",
       "      <th>number_of_injuries</th>\n",
       "      <th>number_of_deaths</th>\n",
       "      <th>number_of_accidents</th>\n",
       "    </tr>\n",
       "  </thead>\n",
       "  <tbody>\n",
       "    <tr>\n",
       "      <th>0</th>\n",
       "      <td>101394</td>\n",
       "      <td>552</td>\n",
       "      <td>103782</td>\n",
       "    </tr>\n",
       "  </tbody>\n",
       "</table>\n",
       "</div>"
      ],
      "text/plain": [
       "   number_of_injuries  number_of_deaths  number_of_accidents\n",
       "0              101394               552               103782"
      ]
     },
     "execution_count": 32,
     "metadata": {},
     "output_type": "execute_result"
    }
   ],
   "source": [
    "statistics_df = pd.DataFrame({\n",
    "    \"number_of_injuries\": [df[\"number_of_injuries\"].sum()],  \n",
    "    \"number_of_deaths\": [df[\"number_of_deaths\"].sum()],      \n",
    "    \"number_of_accidents\": [df.shape[0]]                     \n",
    "})\n",
    "statistics_df.head()"
   ]
  },
  {
   "cell_type": "code",
   "execution_count": 33,
   "metadata": {},
   "outputs": [],
   "source": [
    "motor_statistic = Table('motor_statistic', metadata,\n",
    "                        Column('index', Integer, primary_key=True),\n",
    "                        Column('number_of_injuries', Integer),\n",
    "                        Column('number_of_deaths', Integer),\n",
    "                        Column('number_of_accidents', Integer),\n",
    ")\n",
    "metadata.create_all(engine)"
   ]
  },
  {
   "cell_type": "code",
   "execution_count": 34,
   "metadata": {},
   "outputs": [
    {
     "data": {
      "text/plain": [
       "1"
      ]
     },
     "execution_count": 34,
     "metadata": {},
     "output_type": "execute_result"
    }
   ],
   "source": [
    "statistics_df.to_sql('motor_statistic', engine, if_exists='append', index=False)"
   ]
  },
  {
   "cell_type": "code",
   "execution_count": 35,
   "metadata": {},
   "outputs": [],
   "source": [
    "import json\n",
    "\n",
    "# Define the file path\n",
    "file_path = '../Resources/nyc_geojson_by_zip.json'\n",
    "\n",
    "# Open the file and load the GeoJSON data\n",
    "with open(file_path, 'r') as file:\n",
    "    geojson_data = json.load(file)"
   ]
  },
  {
   "cell_type": "code",
   "execution_count": 36,
   "metadata": {},
   "outputs": [],
   "source": [
    "# add the collision count to the geojson data\n",
    "for feature in geojson_data['features']:\n",
    "    zipcode = feature['properties']['postalCode']\n",
    "    if zipcode in collision_by_zip_df.index:\n",
    "        feature['properties']['collision_count'] = collision_by_zip_df.loc[zipcode]['# of Collisions']\n",
    "    else:\n",
    "        feature['properties']['collision_count'] = 0"
   ]
  },
  {
   "cell_type": "code",
   "execution_count": 37,
   "metadata": {},
   "outputs": [],
   "source": [
    "import numpy as np\n",
    "# Custom function to handle non-serializable data types\n",
    "def convert(o):\n",
    "    if isinstance(o, np.integer):\n",
    "        return int(o)\n",
    "    raise TypeError\n",
    "\n",
    "# Use json.dump with the custom function to handle non-serializable data\n",
    "with open('../static/data/nyc_geojson_by_zip_with_counts.json', 'w') as file:\n",
    "    json.dump(geojson_data, file, default=convert)"
   ]
  },
  {
   "cell_type": "code",
   "execution_count": 38,
   "metadata": {},
   "outputs": [],
   "source": [
    "df.to_csv('../Resources/collision_2022_classified.csv', index=False)"
   ]
  },
  {
   "cell_type": "code",
   "execution_count": 39,
   "metadata": {},
   "outputs": [],
   "source": [
    "motor_collisions = Table('motor_collisions', metadata,\n",
    "                         Column('collision_id', Integer, primary_key=True),\n",
    "                         Column('crash_datetime', DateTime),\n",
    "                         Column('crash_day_of_week', Integer),\n",
    "                         Column('crash_hour_category', String),\n",
    "                         Column('street_address', String), \n",
    "                         Column('borough', String),\n",
    "                         Column('zip_code', String),\n",
    "                         Column('latitude', Float),\n",
    "                         Column('longitude', Float),\n",
    "                         Column('number_of_persons_injured', Integer),\n",
    "                         Column('number_of_persons_killed', Integer),\n",
    "                         Column('number_of_pedestrians_injured', Integer),\n",
    "                         Column('number_of_pedestrians_killed', Integer),\n",
    "                         Column('number_of_cyclist_injured', Integer),\n",
    "                         Column('number_of_cyclist_killed', Integer),\n",
    "                         Column('number_of_motorist_injured', Integer),\n",
    "                         Column('number_of_motorist_killed', Integer),\n",
    "                         Column('contributing_factor', String),\n",
    "                         Column('number_of_injuries', Integer),\n",
    "                         Column('number_of_deaths', Integer),\n",
    "                         Column('vehicle_type_code_1', String),\n",
    "                         Column('vehicle_type_code_2', String),\n",
    "                         Column('vehicle_type_code_3', String),\n",
    "                         Column('vehicle_type_code_4', String),\n",
    "                         Column('injuries_rate', Float),\n",
    "                         Column('death_rate', Float),\n",
    "                         Column('severity_of_accident', String),\n",
    "                         Column('Population', Float)\n",
    "                         )\n",
    "metadata.create_all(engine)"
   ]
  },
  {
   "cell_type": "code",
   "execution_count": 40,
   "metadata": {},
   "outputs": [
    {
     "data": {
      "text/plain": [
       "103782"
      ]
     },
     "execution_count": 40,
     "metadata": {},
     "output_type": "execute_result"
    }
   ],
   "source": [
    "df.to_sql('motor_collisions', con=engine, if_exists='append', index=True)"
   ]
  },
  {
   "cell_type": "code",
   "execution_count": 41,
   "metadata": {},
   "outputs": [],
   "source": [
    "weather_info = Table('weather_2022_info', metadata,\n",
    "                         Column('datetime', DateTime, primary_key=True),\n",
    "                         Column('tempmax', Float),\n",
    "                         Column('tempmin', Float),\n",
    "                         Column('temp', Float), \n",
    "                         Column('humidity', Float),\n",
    "                         Column('precip', Float),\n",
    "                         Column('preciptype', Integer),\n",
    "                         Column('snow', Integer),\n",
    "                         Column('windspeed', Float),\n",
    "                         Column('visibility', Float),\n",
    "                         Column('severerisk', Float),\n",
    "                         Column('sunrise', String),\n",
    "                         Column('sunset', String),\n",
    "                         Column('icon', String),\n",
    "                         Column('temperature_category', String),\n",
    "                         Column('precip_category', String),\n",
    "                         Column('number_of_motorist_killed', Integer),\n",
    "                         Column('humid_category', String),\n",
    "                         Column('wind_level', String)\n",
    "                         )\n",
    "metadata.create_all(engine)"
   ]
  },
  {
   "cell_type": "code",
   "execution_count": 42,
   "metadata": {},
   "outputs": [],
   "source": [
    "weather_df = pd.read_csv(\"../Resources/weather_2022.csv\")\n",
    "weather_df['datetime'] = pd.to_datetime(weather_df['datetime'])\n",
    "\n",
    "columns_to_drop = ['precipprob','name','feelslikemax','feelslikemin','feelslike','precipcover','stations','description','conditions','moonphase','sealevelpressure','cloudcover','snowdepth','winddir','solarradiation','solarenergy','dew','uvindex','windgust']\n",
    "weather_df = weather_df.drop(columns_to_drop, axis = 1)\n",
    "\n",
    "weather_df['sunrise'] = pd.to_datetime(weather_df['sunrise']).dt.strftime('%H:%M')\n",
    "weather_df['sunset'] = pd.to_datetime(weather_df['sunset']).dt.strftime('%H:%M')\n",
    "weather_df['severerisk'] = weather_df['severerisk'].fillna(0)\n",
    "weather_df['preciptype'] = weather_df['preciptype'].fillna('dry')\n",
    "weather_df['preciptype'] = np.where(weather_df['preciptype'].str.contains('rain', case=True),1,0) # 1 represents rain, 0 represents dry\n",
    "weather_df['preciptype'] = np.where((weather_df['precip'] == 0) & (weather_df['preciptype'] != 'dry'),0,weather_df['preciptype'])\n",
    "weather_df['snow'] = np.where(weather_df['snow']>0,1,0) # 1 represents snow, 0 represents no snow\n",
    "weather_df['icon'] = np.where((weather_df['icon'] == 'partly-cloudy-day'),'cloudy',weather_df['icon'])\n",
    "\n",
    "#weather_df.groupby(weather_df['temp']).size()\n",
    "\n",
    "temperature_bins = [-10, 20, 40, 60, 80, 90, 100]\n",
    "temperature_labels = ['Freezing Cold', 'Cold', 'Moderate', 'Warm', 'Hot','Unbearable Hot']\n",
    "precip_bins = [-0.01,0.0001,0.1,0.3,float('inf')]\n",
    "precip_labels = ['Dry', 'Light', 'Moderate', 'Heavy']\n",
    "humid_bins = [-float('inf'),50,80,float('inf')]\n",
    "humid_labels = ['Low','High','Very High']\n",
    "wind_bins = [4,7.1,12.1,18.1,24.1,31.1]\n",
    "wind_labels = ['Flags ripple','Flags wave','Leaves scatter','Small trees sway','Umbrellas not working']\n",
    "\n",
    "weather_df['temperature_category'] = pd.cut(weather_df['temp'], bins=temperature_bins, labels=temperature_labels)\n",
    "weather_df['precip_category'] = pd.cut(weather_df['precip'], bins=precip_bins, labels=precip_labels)\n",
    "weather_df['humid_category'] = pd.cut(weather_df['humidity'], bins=humid_bins, labels=humid_labels)\n",
    "weather_df['wind_level'] = pd.cut(weather_df['windspeed'], bins=wind_bins, labels=wind_labels)\n",
    "\n",
    "weather_df['temperature_category'] = weather_df['temperature_category'].astype('string')\n",
    "weather_df['precip_category'] = weather_df['precip_category'].astype('string')\n",
    "weather_df['humid_category'] = weather_df['humid_category'].astype('string')\n",
    "weather_df['wind_level'] = weather_df['wind_level'].astype('string')"
   ]
  },
  {
   "cell_type": "code",
   "execution_count": 43,
   "metadata": {},
   "outputs": [
    {
     "data": {
      "text/plain": [
       "365"
      ]
     },
     "execution_count": 43,
     "metadata": {},
     "output_type": "execute_result"
    }
   ],
   "source": [
    "weather_df.to_sql('weather_2022_info', con=engine, if_exists='append',index=False)"
   ]
  },
  {
   "cell_type": "code",
   "execution_count": 44,
   "metadata": {},
   "outputs": [
    {
     "name": "stderr",
     "output_type": "stream",
     "text": [
      "C:\\Windows\\Temp\\ipykernel_63496\\197721312.py:1: DtypeWarning: Columns (13,14,19,20) have mixed types. Specify dtype option on import or set low_memory=False.\n",
      "  collision_weather_df = pd.read_csv('../Resources/allzipcodes_collision_weather_df.csv')\n"
     ]
    }
   ],
   "source": [
    "collision_weather_df = pd.read_csv('../Resources/allzipcodes_collision_weather_df.csv')"
   ]
  },
  {
   "cell_type": "code",
   "execution_count": 45,
   "metadata": {},
   "outputs": [],
   "source": [
    "collision_weather_df['zip_code'] = collision_weather_df['zip_code'].astype('str')\n",
    "collision_weather_df['total_inflicted'] = collision_weather_df['number_of_deaths'] + collision_weather_df['number_of_injuries']"
   ]
  },
  {
   "cell_type": "code",
   "execution_count": 46,
   "metadata": {},
   "outputs": [],
   "source": [
    "weather_collision = Table('weather_collision', metadata,\n",
    "    Column('index', Integer, primary_key=True),\n",
    "    Column('row_id', String),\n",
    "    Column('crash_datetime', String),  \n",
    "    Column('crash_day_of_week', Integer),\n",
    "    Column('crash_hour_category', String),\n",
    "    Column('street_address', String),\n",
    "    Column('number_of_persons_injured', Integer),\n",
    "    Column('number_of_persons_killed', Integer),\n",
    "    Column('number_of_pedestrians_injured', Integer),\n",
    "    Column('number_of_pedestrians_killed', Integer),\n",
    "    Column('number_of_cyclist_injured', Integer),\n",
    "    Column('number_of_cyclist_killed', Integer),\n",
    "    Column('number_of_motorist_injured', Integer),\n",
    "    Column('number_of_motorist_killed', Integer),\n",
    "    Column('vehicle_type_code_1', String),\n",
    "    Column('vehicle_type_code_2', String),\n",
    "    Column('borough', String),\n",
    "    Column('zip_code', String), \n",
    "    Column('latitude', Float),\n",
    "    Column('longitude', Float),\n",
    "    Column('vehicle_type_code_3', String),\n",
    "    Column('vehicle_type_code_4', String),\n",
    "    Column('Population Density', Float),  \n",
    "    Column('Population', Float),\n",
    "    Column('contributing_factor', String),\n",
    "    Column('number_of_deaths', Integer),\n",
    "    Column('number_of_injuries', Integer),\n",
    "    Column('death_rate', Float),\n",
    "    Column('injuries_rate', Float),\n",
    "    Column('severity_of_accident', String),\n",
    "    Column('month', Integer),\n",
    "    Column('year', Integer),\n",
    "    Column('day_of_week', String),  \n",
    "    Column('hour', Integer),\n",
    "    Column('date', String),\n",
    "    Column('tempmax', Float),\n",
    "    Column('tempmin', Float),\n",
    "    Column('temp', Float),\n",
    "    Column('humidity', Float),\n",
    "    Column('precip', Float),\n",
    "    Column('preciptype', Integer),\n",
    "    Column('snow', Integer),\n",
    "    Column('windspeed', Float),\n",
    "    Column('visibility', Float),\n",
    "    Column('severerisk', Float),\n",
    "    Column('sunrise', String),\n",
    "    Column('sunset', String),\n",
    "    Column('icon', String),\n",
    "    Column('temperature_category', String),\n",
    "    Column('precip_category', String),\n",
    "    Column('humid_category', String),\n",
    "    Column('wind_level', String),\n",
    "    Column('total_inflicted', Integer)\n",
    ")\n",
    "\n",
    "metadata.create_all(engine)"
   ]
  },
  {
   "cell_type": "code",
   "execution_count": 47,
   "metadata": {},
   "outputs": [
    {
     "data": {
      "text/plain": [
       "103782"
      ]
     },
     "execution_count": 47,
     "metadata": {},
     "output_type": "execute_result"
    }
   ],
   "source": [
    "collision_weather_df.to_sql('weather_collision', con=engine, if_exists='append',index=False)"
   ]
  },
  {
   "cell_type": "code",
   "execution_count": 48,
   "metadata": {},
   "outputs": [
    {
     "data": {
      "text/plain": [
       "['collision_by_zip',\n",
       " 'motor_collisions',\n",
       " 'motor_statistic',\n",
       " 'weather_2022_info',\n",
       " 'weather_collision']"
      ]
     },
     "execution_count": 48,
     "metadata": {},
     "output_type": "execute_result"
    }
   ],
   "source": [
    "from sqlalchemy.ext.automap import automap_base\n",
    "Base = automap_base()\n",
    "Base.prepare(engine, reflect=True)\n",
    "Base.classes.keys()"
   ]
  }
 ],
 "metadata": {
  "kernelspec": {
   "display_name": "Python 3",
   "language": "python",
   "name": "python3"
  },
  "language_info": {
   "codemirror_mode": {
    "name": "ipython",
    "version": 3
   },
   "file_extension": ".py",
   "mimetype": "text/x-python",
   "name": "python",
   "nbconvert_exporter": "python",
   "pygments_lexer": "ipython3",
   "version": "3.10.12"
  },
  "vscode": {
   "interpreter": {
    "hash": "aee8b7b246df8f9039afb4144a1f6fd8d2ca17a180786b69acc140d282b71a49"
   }
  }
 },
 "nbformat": 4,
 "nbformat_minor": 2
}

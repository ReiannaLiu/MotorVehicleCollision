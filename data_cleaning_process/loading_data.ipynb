{
 "cells": [
  {
   "cell_type": "code",
   "execution_count": 1,
   "metadata": {},
   "outputs": [],
   "source": [
    "import pandas as pd \n",
    "from sqlalchemy import create_engine, MetaData, Table, Column, Integer, String, Float, DateTime\n",
    "from sqlalchemy.dialects.sqlite import DATETIME"
   ]
  },
  {
   "cell_type": "code",
   "execution_count": 2,
   "metadata": {},
   "outputs": [],
   "source": [
    "df = pd.read_csv('../Resources/collision_2022.csv')"
   ]
  },
  {
   "cell_type": "code",
   "execution_count": 3,
   "metadata": {},
   "outputs": [],
   "source": [
    "df = df.drop_duplicates(subset=['collision_id'], keep='first').set_index('collision_id')"
   ]
  },
  {
   "cell_type": "code",
   "execution_count": 4,
   "metadata": {},
   "outputs": [],
   "source": [
    "df['zip_code'] = df['zip_code'].astype(str)"
   ]
  },
  {
   "cell_type": "code",
   "execution_count": 5,
   "metadata": {},
   "outputs": [],
   "source": [
    "df['crash_datetime'] = pd.to_datetime(df['crash_datetime'])"
   ]
  },
  {
   "cell_type": "code",
   "execution_count": 6,
   "metadata": {},
   "outputs": [],
   "source": [
    "df.drop(columns='location', inplace=True)"
   ]
  },
  {
   "cell_type": "code",
   "execution_count": 7,
   "metadata": {},
   "outputs": [],
   "source": [
    "df.rename(columns={'vehicle_type_code1': 'vehicle_type_code_1', 'vehicle_type_code2':'vehicle_type_code_2'}, inplace=True)"
   ]
  },
  {
   "cell_type": "code",
   "execution_count": 8,
   "metadata": {},
   "outputs": [
    {
     "name": "stdout",
     "output_type": "stream",
     "text": [
      "<class 'pandas.core.frame.DataFrame'>\n",
      "Index: 103789 entries, 4513547 to 4648224\n",
      "Data columns (total 25 columns):\n",
      " #   Column                         Non-Null Count   Dtype         \n",
      "---  ------                         --------------   -----         \n",
      " 0   crash_datetime                 103789 non-null  datetime64[ns]\n",
      " 1   crash_day_of_week              103789 non-null  int64         \n",
      " 2   street_address                 103787 non-null  object        \n",
      " 3   number_of_persons_injured      103789 non-null  int64         \n",
      " 4   number_of_persons_killed       103789 non-null  int64         \n",
      " 5   number_of_pedestrians_injured  103789 non-null  int64         \n",
      " 6   number_of_pedestrians_killed   103789 non-null  int64         \n",
      " 7   number_of_cyclist_injured      103789 non-null  int64         \n",
      " 8   number_of_cyclist_killed       103789 non-null  int64         \n",
      " 9   number_of_motorist_injured     103789 non-null  int64         \n",
      " 10  number_of_motorist_killed      103789 non-null  int64         \n",
      " 11  contributing_factor_vehicle_1  103200 non-null  object        \n",
      " 12  contributing_factor_vehicle_2  79392 non-null   object        \n",
      " 13  vehicle_type_code_1            102331 non-null  object        \n",
      " 14  vehicle_type_code_2            68517 non-null   object        \n",
      " 15  borough                        68738 non-null   object        \n",
      " 16  zip_code                       103789 non-null  object        \n",
      " 17  latitude                       103789 non-null  float64       \n",
      " 18  longitude                      103789 non-null  float64       \n",
      " 19  contributing_factor_vehicle_3  9963 non-null    object        \n",
      " 20  vehicle_type_code_3            9229 non-null    object        \n",
      " 21  contributing_factor_vehicle_4  2640 non-null    object        \n",
      " 22  vehicle_type_code_4            2494 non-null    object        \n",
      " 23  contributing_factor_vehicle_5  770 non-null     object        \n",
      " 24  vehicle_type_code_5            737 non-null     object        \n",
      "dtypes: datetime64[ns](1), float64(2), int64(9), object(13)\n",
      "memory usage: 20.6+ MB\n"
     ]
    }
   ],
   "source": [
    "df.info()"
   ]
  },
  {
   "cell_type": "code",
   "execution_count": 9,
   "metadata": {},
   "outputs": [
    {
     "name": "stdout",
     "output_type": "stream",
     "text": [
      "<class 'pandas.core.frame.DataFrame'>\n",
      "RangeIndex: 1825 entries, 6 to 1830\n",
      "Data columns (total 67 columns):\n",
      " #   Column                                                                       Non-Null Count  Dtype \n",
      "---  ------                                                                       --------------  ----- \n",
      " 0   zip_code                                                                     1825 non-null   object\n",
      " 1   GEOID                                                                        1825 non-null   object\n",
      " 2   State                                                                        1825 non-null   object\n",
      " 3   County                                                                       4 non-null      object\n",
      " 4   City                                                                         4 non-null      object\n",
      " 5   Best Population Year                                                         1825 non-null   object\n",
      " 6   Population                                                                   1825 non-null   object\n",
      " 7   Population Density                                                           4 non-null      object\n",
      " 8   Median household income (in 2021 inflation-adjusted dollars)                 4 non-null      object\n",
      " 9   Household Income in the past 12 months (in 2021 inflation adjusted dollars)  4 non-null      object\n",
      " 10  Unnamed: 10                                                                  4 non-null      object\n",
      " 11  Unnamed: 11                                                                  4 non-null      object\n",
      " 12  Unnamed: 12                                                                  4 non-null      object\n",
      " 13  Unnamed: 13                                                                  4 non-null      object\n",
      " 14  Unnamed: 14                                                                  4 non-null      object\n",
      " 15  Unnamed: 15                                                                  4 non-null      object\n",
      " 16  Unnamed: 16                                                                  4 non-null      object\n",
      " 17  Race & Ethnicity                                                             4 non-null      object\n",
      " 18  Unnamed: 18                                                                  4 non-null      object\n",
      " 19  Unnamed: 19                                                                  4 non-null      object\n",
      " 20  Unnamed: 20                                                                  4 non-null      object\n",
      " 21  Unnamed: 21                                                                  4 non-null      object\n",
      " 22  Unnamed: 22                                                                  4 non-null      object\n",
      " 23  Unnamed: 23                                                                  4 non-null      object\n",
      " 24  Unnamed: 24                                                                  4 non-null      object\n",
      " 25  Unnamed: 25                                                                  4 non-null      object\n",
      " 26  Age & Sex                                                                    4 non-null      object\n",
      " 27  Unnamed: 27                                                                  4 non-null      object\n",
      " 28  Unnamed: 28                                                                  4 non-null      object\n",
      " 29  Unnamed: 29                                                                  4 non-null      object\n",
      " 30  Unnamed: 30                                                                  4 non-null      object\n",
      " 31  Unnamed: 31                                                                  4 non-null      object\n",
      " 32  Unnamed: 32                                                                  4 non-null      object\n",
      " 33  Unnamed: 33                                                                  4 non-null      object\n",
      " 34  Unnamed: 34                                                                  4 non-null      object\n",
      " 35  Unnamed: 35                                                                  4 non-null      object\n",
      " 36  Unnamed: 36                                                                  4 non-null      object\n",
      " 37  Unnamed: 37                                                                  4 non-null      object\n",
      " 38  Unnamed: 38                                                                  4 non-null      object\n",
      " 39  Unnamed: 39                                                                  4 non-null      object\n",
      " 40  Unnamed: 40                                                                  4 non-null      object\n",
      " 41  Unnamed: 41                                                                  4 non-null      object\n",
      " 42  Unnamed: 42                                                                  4 non-null      object\n",
      " 43  Median Age                                                                   4 non-null      object\n",
      " 44  Educational Attainment                                                       4 non-null      object\n",
      " 45  Unnamed: 45                                                                  4 non-null      object\n",
      " 46  Unnamed: 46                                                                  4 non-null      object\n",
      " 47  Unnamed: 47                                                                  4 non-null      object\n",
      " 48  Unnamed: 48                                                                  4 non-null      object\n",
      " 49  Unnamed: 49                                                                  4 non-null      object\n",
      " 50  Poverty                                                                      4 non-null      object\n",
      " 51  Unnamed: 51                                                                  4 non-null      object\n",
      " 52  Unemployment                                                                 4 non-null      object\n",
      " 53  Unnamed: 53                                                                  4 non-null      object\n",
      " 54  Housing Units                                                                4 non-null      object\n",
      " 55  Owner versus Renter                                                          4 non-null      object\n",
      " 56  Unnamed: 56                                                                  4 non-null      object\n",
      " 57  Unnamed: 57                                                                  4 non-null      object\n",
      " 58   Median Value of Owner-occupied Units                                        4 non-null      object\n",
      " 59  Households - people sharing a housing unit                                   4 non-null      object\n",
      " 60  Unnamed: 60                                                                  4 non-null      object\n",
      " 61  Unnamed: 61                                                                  4 non-null      object\n",
      " 62  Unnamed: 62                                                                  4 non-null      object\n",
      " 63  Unnamed: 63                                                                  4 non-null      object\n",
      " 64  Unnamed: 64                                                                  4 non-null      object\n",
      " 65  Unnamed: 65                                                                  4 non-null      object\n",
      " 66  Land Area (square meters)                                                    4 non-null      object\n",
      "dtypes: object(67)\n",
      "memory usage: 955.4+ KB\n"
     ]
    }
   ],
   "source": [
    "demo_df = pd.read_excel('../Resources/NewYork_DemographicsByZipCode.xlsx')\n",
    "demo_df = demo_df.iloc[6:]\n",
    "demo_df = demo_df.rename(columns={'Geography': 'zip_code'}, inplace=False)\n",
    "demo_df = demo_df.rename(columns={'Best Population Estimate': 'Population'}, inplace=False)\n",
    "demo_df = demo_df.rename(columns={demo_df.columns[7]: 'Population Density'}, inplace=False)\n",
    "demo_df.info()"
   ]
  },
  {
   "cell_type": "code",
   "execution_count": 10,
   "metadata": {},
   "outputs": [
    {
     "data": {
      "text/html": [
       "<div>\n",
       "<style scoped>\n",
       "    .dataframe tbody tr th:only-of-type {\n",
       "        vertical-align: middle;\n",
       "    }\n",
       "\n",
       "    .dataframe tbody tr th {\n",
       "        vertical-align: top;\n",
       "    }\n",
       "\n",
       "    .dataframe thead th {\n",
       "        text-align: right;\n",
       "    }\n",
       "</style>\n",
       "<table border=\"1\" class=\"dataframe\">\n",
       "  <thead>\n",
       "    <tr style=\"text-align: right;\">\n",
       "      <th></th>\n",
       "      <th>zip_code</th>\n",
       "      <th>Population Density</th>\n",
       "      <th>Population</th>\n",
       "    </tr>\n",
       "  </thead>\n",
       "  <tbody>\n",
       "    <tr>\n",
       "      <th>0</th>\n",
       "      <td>10001</td>\n",
       "      <td>43227.1</td>\n",
       "      <td>26966</td>\n",
       "    </tr>\n",
       "    <tr>\n",
       "      <th>1</th>\n",
       "      <td>10002</td>\n",
       "      <td>93406.1</td>\n",
       "      <td>76807</td>\n",
       "    </tr>\n",
       "    <tr>\n",
       "      <th>2</th>\n",
       "      <td>10003</td>\n",
       "      <td>95235</td>\n",
       "      <td>54447</td>\n",
       "    </tr>\n",
       "    <tr>\n",
       "      <th>3</th>\n",
       "      <td>10004</td>\n",
       "      <td>10525.1</td>\n",
       "      <td>4795</td>\n",
       "    </tr>\n",
       "    <tr>\n",
       "      <th>4</th>\n",
       "      <td>10005</td>\n",
       "      <td>NaN</td>\n",
       "      <td>8637</td>\n",
       "    </tr>\n",
       "  </tbody>\n",
       "</table>\n",
       "</div>"
      ],
      "text/plain": [
       "  zip_code Population Density Population\n",
       "0    10001            43227.1      26966\n",
       "1    10002            93406.1      76807\n",
       "2    10003              95235      54447\n",
       "3    10004            10525.1       4795\n",
       "4    10005                NaN       8637"
      ]
     },
     "execution_count": 10,
     "metadata": {},
     "output_type": "execute_result"
    }
   ],
   "source": [
    "demo_df = demo_df[['zip_code','Population Density','Population']].reset_index(drop=True)\n",
    "demo_df.head()"
   ]
  },
  {
   "cell_type": "code",
   "execution_count": 11,
   "metadata": {},
   "outputs": [],
   "source": [
    "df = df.reset_index().merge(demo_df, on='zip_code', how='left').set_index('collision_id')"
   ]
  },
  {
   "cell_type": "code",
   "execution_count": 12,
   "metadata": {},
   "outputs": [
    {
     "name": "stdout",
     "output_type": "stream",
     "text": [
      "<class 'pandas.core.frame.DataFrame'>\n",
      "Index: 103789 entries, 4513547 to 4648224\n",
      "Data columns (total 27 columns):\n",
      " #   Column                         Non-Null Count   Dtype         \n",
      "---  ------                         --------------   -----         \n",
      " 0   crash_datetime                 103789 non-null  datetime64[ns]\n",
      " 1   crash_day_of_week              103789 non-null  int64         \n",
      " 2   street_address                 103787 non-null  object        \n",
      " 3   number_of_persons_injured      103789 non-null  int64         \n",
      " 4   number_of_persons_killed       103789 non-null  int64         \n",
      " 5   number_of_pedestrians_injured  103789 non-null  int64         \n",
      " 6   number_of_pedestrians_killed   103789 non-null  int64         \n",
      " 7   number_of_cyclist_injured      103789 non-null  int64         \n",
      " 8   number_of_cyclist_killed       103789 non-null  int64         \n",
      " 9   number_of_motorist_injured     103789 non-null  int64         \n",
      " 10  number_of_motorist_killed      103789 non-null  int64         \n",
      " 11  contributing_factor_vehicle_1  103200 non-null  object        \n",
      " 12  contributing_factor_vehicle_2  79392 non-null   object        \n",
      " 13  vehicle_type_code_1            102331 non-null  object        \n",
      " 14  vehicle_type_code_2            68517 non-null   object        \n",
      " 15  borough                        68738 non-null   object        \n",
      " 16  zip_code                       103789 non-null  object        \n",
      " 17  latitude                       103789 non-null  float64       \n",
      " 18  longitude                      103789 non-null  float64       \n",
      " 19  contributing_factor_vehicle_3  9963 non-null    object        \n",
      " 20  vehicle_type_code_3            9229 non-null    object        \n",
      " 21  contributing_factor_vehicle_4  2640 non-null    object        \n",
      " 22  vehicle_type_code_4            2494 non-null    object        \n",
      " 23  contributing_factor_vehicle_5  770 non-null     object        \n",
      " 24  vehicle_type_code_5            737 non-null     object        \n",
      " 25  Population Density             1974 non-null    object        \n",
      " 26  Population                     103693 non-null  object        \n",
      "dtypes: datetime64[ns](1), float64(2), int64(9), object(15)\n",
      "memory usage: 22.2+ MB\n"
     ]
    }
   ],
   "source": [
    "df.info()"
   ]
  },
  {
   "cell_type": "code",
   "execution_count": 13,
   "metadata": {},
   "outputs": [
    {
     "data": {
      "text/html": [
       "<div>\n",
       "<style scoped>\n",
       "    .dataframe tbody tr th:only-of-type {\n",
       "        vertical-align: middle;\n",
       "    }\n",
       "\n",
       "    .dataframe tbody tr th {\n",
       "        vertical-align: top;\n",
       "    }\n",
       "\n",
       "    .dataframe thead th {\n",
       "        text-align: right;\n",
       "    }\n",
       "</style>\n",
       "<table border=\"1\" class=\"dataframe\">\n",
       "  <thead>\n",
       "    <tr style=\"text-align: right;\">\n",
       "      <th></th>\n",
       "      <th># of Collisions</th>\n",
       "    </tr>\n",
       "    <tr>\n",
       "      <th>zipcodes</th>\n",
       "      <th></th>\n",
       "    </tr>\n",
       "  </thead>\n",
       "  <tbody>\n",
       "    <tr>\n",
       "      <th>10000</th>\n",
       "      <td>30</td>\n",
       "    </tr>\n",
       "    <tr>\n",
       "      <th>10001</th>\n",
       "      <td>590</td>\n",
       "    </tr>\n",
       "    <tr>\n",
       "      <th>10002</th>\n",
       "      <td>880</td>\n",
       "    </tr>\n",
       "    <tr>\n",
       "      <th>10003</th>\n",
       "      <td>415</td>\n",
       "    </tr>\n",
       "    <tr>\n",
       "      <th>10004</th>\n",
       "      <td>89</td>\n",
       "    </tr>\n",
       "  </tbody>\n",
       "</table>\n",
       "</div>"
      ],
      "text/plain": [
       "          # of Collisions\n",
       "zipcodes                 \n",
       "10000                  30\n",
       "10001                 590\n",
       "10002                 880\n",
       "10003                 415\n",
       "10004                  89"
      ]
     },
     "execution_count": 13,
     "metadata": {},
     "output_type": "execute_result"
    }
   ],
   "source": [
    "collision_by_zip_df = df.groupby('zip_code').size()\n",
    "collision_by_zip_df = collision_by_zip_df.reset_index().rename(columns={\"zip_code\":\"zipcodes\",0:\"# of Collisions\"})\n",
    "collision_by_zip_df['# of Collisions'] = collision_by_zip_df['# of Collisions'].astype('int')\n",
    "collision_by_zip_df['zipcodes'] = collision_by_zip_df['zipcodes'].astype('str')\n",
    "collision_by_zip_df.set_index('zipcodes', inplace=True)\n",
    "collision_by_zip_df.head()"
   ]
  },
  {
   "cell_type": "code",
   "execution_count": 14,
   "metadata": {},
   "outputs": [],
   "source": [
    "engine = create_engine('sqlite:///../Resources/collision_db.sqlite')"
   ]
  },
  {
   "cell_type": "code",
   "execution_count": 15,
   "metadata": {},
   "outputs": [],
   "source": [
    "metadata = MetaData()"
   ]
  },
  {
   "cell_type": "code",
   "execution_count": 16,
   "metadata": {},
   "outputs": [],
   "source": [
    "collision_by_zip = Table('collision_by_zip', metadata,\n",
    "    Column('zipcodes', String, primary_key=True),\n",
    "    Column('# of Collisions', Integer),\n",
    ")\n",
    "metadata.create_all(engine)"
   ]
  },
  {
   "cell_type": "code",
   "execution_count": 17,
   "metadata": {},
   "outputs": [
    {
     "data": {
      "text/plain": [
       "245"
      ]
     },
     "execution_count": 17,
     "metadata": {},
     "output_type": "execute_result"
    }
   ],
   "source": [
    "collision_by_zip_df.to_sql('collision_by_zip', engine, if_exists='append', index=True)"
   ]
  },
  {
   "cell_type": "code",
   "execution_count": 18,
   "metadata": {},
   "outputs": [],
   "source": [
    "import json\n",
    "\n",
    "# Define the file path\n",
    "file_path = '../Resources/nyc_geojson_by_zip.json'\n",
    "\n",
    "# Open the file and load the GeoJSON data\n",
    "with open(file_path, 'r') as file:\n",
    "    geojson_data = json.load(file)"
   ]
  },
  {
   "cell_type": "code",
   "execution_count": 19,
   "metadata": {},
   "outputs": [],
   "source": [
    "# add the collision count to the geojson data\n",
    "for feature in geojson_data['features']:\n",
    "    zipcode = feature['properties']['postalCode']\n",
    "    if zipcode in collision_by_zip_df.index:\n",
    "        feature['properties']['collision_count'] = collision_by_zip_df.loc[zipcode]['# of Collisions']\n",
    "    else:\n",
    "        feature['properties']['collision_count'] = 0"
   ]
  },
  {
   "cell_type": "code",
   "execution_count": 20,
   "metadata": {},
   "outputs": [],
   "source": [
    "import numpy as np\n",
    "# Custom function to handle non-serializable data types\n",
    "def convert(o):\n",
    "    if isinstance(o, np.integer):\n",
    "        return int(o)\n",
    "    raise TypeError\n",
    "\n",
    "# Use json.dump with the custom function to handle non-serializable data\n",
    "with open('../static/data/nyc_geojson_by_zip_with_counts.json', 'w') as file:\n",
    "    json.dump(geojson_data, file, default=convert)"
   ]
  },
  {
   "cell_type": "code",
   "execution_count": 21,
   "metadata": {},
   "outputs": [],
   "source": [
    "motor_collisions = Table('motor_collisions', metadata,\n",
    "                         Column('collision_id', Integer, primary_key=True),\n",
    "                         Column('crash_datetime', DateTime),\n",
    "                         Column('crash_day_of_week', Integer),\n",
    "                         Column('street_address', String), \n",
    "                         Column('borough', String),\n",
    "                         Column('county', String),\n",
    "                         Column('zip_code', String),\n",
    "                         Column('latitude', Float),\n",
    "                         Column('longitude', Float),\n",
    "                         Column('number_of_persons_injured', Integer),\n",
    "                         Column('number_of_persons_killed', Integer),\n",
    "                         Column('number_of_pedestrians_injured', Integer),\n",
    "                         Column('number_of_pedestrians_killed', Integer),\n",
    "                         Column('number_of_cyclist_injured', Integer),\n",
    "                         Column('number_of_cyclist_killed', Integer),\n",
    "                         Column('number_of_motorist_injured', Integer),\n",
    "                         Column('number_of_motorist_killed', Integer),\n",
    "                         Column('contributing_factor_vehicle_1', String),\n",
    "                         Column('contributing_factor_vehicle_2', String),\n",
    "                         Column('contributing_factor_vehicle_3', String),\n",
    "                         Column('contributing_factor_vehicle_4', String),\n",
    "                         Column('contributing_factor_vehicle_5', String),\n",
    "                         Column('vehicle_type_code_1', String),\n",
    "                         Column('vehicle_type_code_2', String),\n",
    "                         Column('vehicle_type_code_3', String),\n",
    "                         Column('vehicle_type_code_4', String),\n",
    "                         Column('vehicle_type_code_5', String),\n",
    "                         Column('Population', String),\n",
    "                         Column('Population Density', String)\n",
    "                         )\n",
    "metadata.create_all(engine)"
   ]
  },
  {
   "cell_type": "code",
   "execution_count": 22,
   "metadata": {},
   "outputs": [
    {
     "data": {
      "text/plain": [
       "103789"
      ]
     },
     "execution_count": 22,
     "metadata": {},
     "output_type": "execute_result"
    }
   ],
   "source": [
    "df.to_sql('motor_collisions', con=engine, if_exists='append', index=True)"
   ]
  },
  {
   "cell_type": "code",
   "execution_count": 23,
   "metadata": {},
   "outputs": [
    {
     "name": "stdout",
     "output_type": "stream",
     "text": [
      "['collision_by_zip', 'motor_collisions']\n",
      "[{'name': 'collision_id', 'type': INTEGER(), 'nullable': False, 'default': None, 'autoincrement': 'auto', 'primary_key': 1}, {'name': 'crash_datetime', 'type': DATETIME(), 'nullable': True, 'default': None, 'autoincrement': 'auto', 'primary_key': 0}, {'name': 'crash_day_of_week', 'type': INTEGER(), 'nullable': True, 'default': None, 'autoincrement': 'auto', 'primary_key': 0}, {'name': 'street_address', 'type': VARCHAR(), 'nullable': True, 'default': None, 'autoincrement': 'auto', 'primary_key': 0}, {'name': 'borough', 'type': VARCHAR(), 'nullable': True, 'default': None, 'autoincrement': 'auto', 'primary_key': 0}, {'name': 'county', 'type': VARCHAR(), 'nullable': True, 'default': None, 'autoincrement': 'auto', 'primary_key': 0}, {'name': 'zip_code', 'type': VARCHAR(), 'nullable': True, 'default': None, 'autoincrement': 'auto', 'primary_key': 0}, {'name': 'latitude', 'type': FLOAT(), 'nullable': True, 'default': None, 'autoincrement': 'auto', 'primary_key': 0}, {'name': 'longitude', 'type': FLOAT(), 'nullable': True, 'default': None, 'autoincrement': 'auto', 'primary_key': 0}, {'name': 'number_of_persons_injured', 'type': INTEGER(), 'nullable': True, 'default': None, 'autoincrement': 'auto', 'primary_key': 0}, {'name': 'number_of_persons_killed', 'type': INTEGER(), 'nullable': True, 'default': None, 'autoincrement': 'auto', 'primary_key': 0}, {'name': 'number_of_pedestrians_injured', 'type': INTEGER(), 'nullable': True, 'default': None, 'autoincrement': 'auto', 'primary_key': 0}, {'name': 'number_of_pedestrians_killed', 'type': INTEGER(), 'nullable': True, 'default': None, 'autoincrement': 'auto', 'primary_key': 0}, {'name': 'number_of_cyclist_injured', 'type': INTEGER(), 'nullable': True, 'default': None, 'autoincrement': 'auto', 'primary_key': 0}, {'name': 'number_of_cyclist_killed', 'type': INTEGER(), 'nullable': True, 'default': None, 'autoincrement': 'auto', 'primary_key': 0}, {'name': 'number_of_motorist_injured', 'type': INTEGER(), 'nullable': True, 'default': None, 'autoincrement': 'auto', 'primary_key': 0}, {'name': 'number_of_motorist_killed', 'type': INTEGER(), 'nullable': True, 'default': None, 'autoincrement': 'auto', 'primary_key': 0}, {'name': 'contributing_factor_vehicle_1', 'type': VARCHAR(), 'nullable': True, 'default': None, 'autoincrement': 'auto', 'primary_key': 0}, {'name': 'contributing_factor_vehicle_2', 'type': VARCHAR(), 'nullable': True, 'default': None, 'autoincrement': 'auto', 'primary_key': 0}, {'name': 'contributing_factor_vehicle_3', 'type': VARCHAR(), 'nullable': True, 'default': None, 'autoincrement': 'auto', 'primary_key': 0}, {'name': 'contributing_factor_vehicle_4', 'type': VARCHAR(), 'nullable': True, 'default': None, 'autoincrement': 'auto', 'primary_key': 0}, {'name': 'contributing_factor_vehicle_5', 'type': VARCHAR(), 'nullable': True, 'default': None, 'autoincrement': 'auto', 'primary_key': 0}, {'name': 'vehicle_type_code_1', 'type': VARCHAR(), 'nullable': True, 'default': None, 'autoincrement': 'auto', 'primary_key': 0}, {'name': 'vehicle_type_code_2', 'type': VARCHAR(), 'nullable': True, 'default': None, 'autoincrement': 'auto', 'primary_key': 0}, {'name': 'vehicle_type_code_3', 'type': VARCHAR(), 'nullable': True, 'default': None, 'autoincrement': 'auto', 'primary_key': 0}, {'name': 'vehicle_type_code_4', 'type': VARCHAR(), 'nullable': True, 'default': None, 'autoincrement': 'auto', 'primary_key': 0}, {'name': 'vehicle_type_code_5', 'type': VARCHAR(), 'nullable': True, 'default': None, 'autoincrement': 'auto', 'primary_key': 0}, {'name': 'Population', 'type': VARCHAR(), 'nullable': True, 'default': None, 'autoincrement': 'auto', 'primary_key': 0}, {'name': 'Population Density', 'type': VARCHAR(), 'nullable': True, 'default': None, 'autoincrement': 'auto', 'primary_key': 0}]\n"
     ]
    }
   ],
   "source": [
    "from sqlalchemy import inspect\n",
    "\n",
    "inspector = inspect(engine)\n",
    "print(inspector.get_table_names())  # Check if the table is listed\n",
    "print(inspector.get_columns('motor_collisions'))  # Check the structure of the table\n"
   ]
  },
  {
   "cell_type": "code",
   "execution_count": 24,
   "metadata": {},
   "outputs": [
    {
     "data": {
      "text/plain": [
       "['collision_by_zip', 'motor_collisions']"
      ]
     },
     "execution_count": 24,
     "metadata": {},
     "output_type": "execute_result"
    }
   ],
   "source": [
    "from sqlalchemy.ext.automap import automap_base\n",
    "Base = automap_base()\n",
    "Base.prepare(engine, reflect=True)\n",
    "Base.classes.keys()"
   ]
  }
 ],
 "metadata": {
  "kernelspec": {
   "display_name": "dev",
   "language": "python",
   "name": "python3"
  },
  "language_info": {
   "codemirror_mode": {
    "name": "ipython",
    "version": 3
   },
   "file_extension": ".py",
   "mimetype": "text/x-python",
   "name": "python",
   "nbconvert_exporter": "python",
   "pygments_lexer": "ipython3",
   "version": "3.10.12"
  }
 },
 "nbformat": 4,
 "nbformat_minor": 2
}

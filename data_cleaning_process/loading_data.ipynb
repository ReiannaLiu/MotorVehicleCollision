version https://git-lfs.github.com/spec/v1
oid sha256:f0ecdff52ac66b104d2cd181430e4022c6bc8f78eb28fdf74b5919bd2faf071e
size 1982193

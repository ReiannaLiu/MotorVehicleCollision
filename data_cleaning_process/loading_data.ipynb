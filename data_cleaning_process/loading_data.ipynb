{
 "cells": [
  {
   "cell_type": "code",
   "execution_count": 1,
   "metadata": {},
   "outputs": [],
   "source": [
    "import pandas as pd \n",
    "from sqlalchemy import create_engine, MetaData, Table, Column, Integer, String, Float, DateTime\n",
    "from sqlalchemy.dialects.sqlite import DATETIME"
   ]
  },
  {
   "cell_type": "code",
   "execution_count": 2,
   "metadata": {},
   "outputs": [],
   "source": [
    "df = pd.read_csv('../Resources/collision_geo_data_clean.csv')"
   ]
  },
  {
   "cell_type": "code",
   "execution_count": 3,
   "metadata": {},
   "outputs": [],
   "source": [
    "df.set_index('collision_id', inplace=True)"
   ]
  },
  {
   "cell_type": "code",
   "execution_count": 4,
   "metadata": {},
   "outputs": [],
   "source": [
    "df['zip_code'] = df['zip_code'].astype(str)"
   ]
  },
  {
   "cell_type": "code",
   "execution_count": 5,
   "metadata": {},
   "outputs": [],
   "source": [
    "df['crash_datetime'] = df['crash_date'] + ' ' + df['crash_time']"
   ]
  },
  {
   "cell_type": "code",
   "execution_count": 6,
   "metadata": {},
   "outputs": [],
   "source": [
    "df.drop(columns=['crash_date', 'crash_time'], inplace=True)"
   ]
  },
  {
   "cell_type": "code",
   "execution_count": 7,
   "metadata": {},
   "outputs": [],
   "source": [
    "df['crash_datetime'] = pd.to_datetime(df['crash_datetime'])"
   ]
  },
  {
   "cell_type": "code",
   "execution_count": 8,
   "metadata": {},
   "outputs": [
    {
     "name": "stdout",
     "output_type": "stream",
     "text": [
      "<class 'pandas.core.frame.DataFrame'>\n",
      "Int64Index: 1000 entries, 4455765 to 4407712\n",
      "Data columns (total 16 columns):\n",
      " #   Column                         Non-Null Count  Dtype         \n",
      "---  ------                         --------------  -----         \n",
      " 0   street_name                    1000 non-null   object        \n",
      " 1   borough                        1000 non-null   object        \n",
      " 2   county                         1000 non-null   object        \n",
      " 3   zip_code                       1000 non-null   object        \n",
      " 4   latitude                       1000 non-null   float64       \n",
      " 5   longitude                      1000 non-null   float64       \n",
      " 6   number_of_persons_injured      1000 non-null   int64         \n",
      " 7   number_of_persons_killed       1000 non-null   int64         \n",
      " 8   number_of_pedestrians_injured  1000 non-null   int64         \n",
      " 9   number_of_pedestrians_killed   1000 non-null   int64         \n",
      " 10  number_of_cyclist_injured      1000 non-null   int64         \n",
      " 11  number_of_cyclist_killed       1000 non-null   int64         \n",
      " 12  number_of_motorist_injured     1000 non-null   int64         \n",
      " 13  number_of_motorist_killed      1000 non-null   int64         \n",
      " 14  contributing_factor_vehicle    997 non-null    object        \n",
      " 15  crash_datetime                 1000 non-null   datetime64[ns]\n",
      "dtypes: datetime64[ns](1), float64(2), int64(8), object(5)\n",
      "memory usage: 132.8+ KB\n"
     ]
    }
   ],
   "source": [
    "df.info()"
   ]
  },
  {
   "cell_type": "code",
   "execution_count": 9,
   "metadata": {},
   "outputs": [],
   "source": [
    "engine = create_engine('sqlite:///../Resources/collision_db.sqlite')"
   ]
  },
  {
   "cell_type": "code",
   "execution_count": 10,
   "metadata": {},
   "outputs": [],
   "source": [
    "metadata = MetaData()"
   ]
  },
  {
   "cell_type": "code",
   "execution_count": 11,
   "metadata": {},
   "outputs": [],
   "source": [
    "motor_collisions = Table('motor_collisions', metadata,\n",
    "                         Column('collision_id', Integer, primary_key=True),\n",
    "                         Column('crash_datetime', DateTime),\n",
    "                         Column('street_name', String), \n",
    "                         Column('borough', String),\n",
    "                         Column('county', String),\n",
    "                         Column('zip_code', String),\n",
    "                         Column('latitude', Float),\n",
    "                         Column('longitude', Float),\n",
    "                         Column('number_of_persons_injured', Integer),\n",
    "                         Column('number_of_persons_killed', Integer),\n",
    "                         Column('number_of_pedestrians_injured', Integer),\n",
    "                         Column('number_of_pedestrians_killed', Integer),\n",
    "                         Column('number_of_cyclist_injured', Integer),\n",
    "                         Column('number_of_cyclist_killed', Integer),\n",
    "                         Column('number_of_motorist_injured', Integer),\n",
    "                         Column('number_of_motorist_killed', Integer),\n",
    "                         Column('contributing_factor_vehicle', String)\n",
    "                         )\n",
    "metadata.create_all(engine)"
   ]
  },
  {
   "cell_type": "code",
   "execution_count": 12,
   "metadata": {},
   "outputs": [
    {
     "data": {
      "text/plain": [
       "1000"
      ]
     },
     "execution_count": 12,
     "metadata": {},
     "output_type": "execute_result"
    }
   ],
   "source": [
    "df.to_sql('motor_collisions', con=engine, if_exists='append', index=True)"
   ]
  },
  {
   "cell_type": "code",
   "execution_count": 13,
   "metadata": {},
   "outputs": [
    {
     "name": "stdout",
     "output_type": "stream",
     "text": [
      "['motor_collisions']\n",
      "[{'name': 'collision_id', 'type': INTEGER(), 'nullable': False, 'default': None, 'primary_key': 1}, {'name': 'crash_datetime', 'type': DATETIME(), 'nullable': True, 'default': None, 'primary_key': 0}, {'name': 'street_name', 'type': VARCHAR(), 'nullable': True, 'default': None, 'primary_key': 0}, {'name': 'borough', 'type': VARCHAR(), 'nullable': True, 'default': None, 'primary_key': 0}, {'name': 'county', 'type': VARCHAR(), 'nullable': True, 'default': None, 'primary_key': 0}, {'name': 'zip_code', 'type': VARCHAR(), 'nullable': True, 'default': None, 'primary_key': 0}, {'name': 'latitude', 'type': FLOAT(), 'nullable': True, 'default': None, 'primary_key': 0}, {'name': 'longitude', 'type': FLOAT(), 'nullable': True, 'default': None, 'primary_key': 0}, {'name': 'number_of_persons_injured', 'type': INTEGER(), 'nullable': True, 'default': None, 'primary_key': 0}, {'name': 'number_of_persons_killed', 'type': INTEGER(), 'nullable': True, 'default': None, 'primary_key': 0}, {'name': 'number_of_pedestrians_injured', 'type': INTEGER(), 'nullable': True, 'default': None, 'primary_key': 0}, {'name': 'number_of_pedestrians_killed', 'type': INTEGER(), 'nullable': True, 'default': None, 'primary_key': 0}, {'name': 'number_of_cyclist_injured', 'type': INTEGER(), 'nullable': True, 'default': None, 'primary_key': 0}, {'name': 'number_of_cyclist_killed', 'type': INTEGER(), 'nullable': True, 'default': None, 'primary_key': 0}, {'name': 'number_of_motorist_injured', 'type': INTEGER(), 'nullable': True, 'default': None, 'primary_key': 0}, {'name': 'number_of_motorist_killed', 'type': INTEGER(), 'nullable': True, 'default': None, 'primary_key': 0}, {'name': 'contributing_factor_vehicle', 'type': VARCHAR(), 'nullable': True, 'default': None, 'primary_key': 0}]\n"
     ]
    }
   ],
   "source": [
    "from sqlalchemy import inspect\n",
    "\n",
    "inspector = inspect(engine)\n",
    "print(inspector.get_table_names())  # Check if the table is listed\n",
    "print(inspector.get_columns('motor_collisions'))  # Check the structure of the table\n"
   ]
  }
 ],
 "metadata": {
  "kernelspec": {
   "display_name": "dev",
   "language": "python",
   "name": "python3"
  },
  "language_info": {
   "codemirror_mode": {
    "name": "ipython",
    "version": 3
   },
   "file_extension": ".py",
   "mimetype": "text/x-python",
   "name": "python",
   "nbconvert_exporter": "python",
   "pygments_lexer": "ipython3",
   "version": "3.10.12"
  }
 },
 "nbformat": 4,
 "nbformat_minor": 2
}

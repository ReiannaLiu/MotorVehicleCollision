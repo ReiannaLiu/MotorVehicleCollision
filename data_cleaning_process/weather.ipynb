{
 "cells": [
  {
   "cell_type": "code",
   "execution_count": 15,
   "metadata": {},
   "outputs": [],
   "source": [
    "import pandas as pd \n",
    "import numpy as np\n",
    "from sqlalchemy import create_engine, MetaData, Table, Column, Integer, String, Float, DateTime\n",
    "from sqlalchemy.dialects.sqlite import DATETIME"
   ]
  },
  {
   "cell_type": "code",
   "execution_count": 16,
   "metadata": {},
   "outputs": [
    {
     "data": {
      "text/html": [
       "<div>\n",
       "<style scoped>\n",
       "    .dataframe tbody tr th:only-of-type {\n",
       "        vertical-align: middle;\n",
       "    }\n",
       "\n",
       "    .dataframe tbody tr th {\n",
       "        vertical-align: top;\n",
       "    }\n",
       "\n",
       "    .dataframe thead th {\n",
       "        text-align: right;\n",
       "    }\n",
       "</style>\n",
       "<table border=\"1\" class=\"dataframe\">\n",
       "  <thead>\n",
       "    <tr style=\"text-align: right;\">\n",
       "      <th></th>\n",
       "      <th>name</th>\n",
       "      <th>datetime</th>\n",
       "      <th>tempmax</th>\n",
       "      <th>tempmin</th>\n",
       "      <th>temp</th>\n",
       "      <th>feelslikemax</th>\n",
       "      <th>feelslikemin</th>\n",
       "      <th>feelslike</th>\n",
       "      <th>dew</th>\n",
       "      <th>humidity</th>\n",
       "      <th>...</th>\n",
       "      <th>solarenergy</th>\n",
       "      <th>uvindex</th>\n",
       "      <th>severerisk</th>\n",
       "      <th>sunrise</th>\n",
       "      <th>sunset</th>\n",
       "      <th>moonphase</th>\n",
       "      <th>conditions</th>\n",
       "      <th>description</th>\n",
       "      <th>icon</th>\n",
       "      <th>stations</th>\n",
       "    </tr>\n",
       "  </thead>\n",
       "  <tbody>\n",
       "    <tr>\n",
       "      <th>0</th>\n",
       "      <td>New York, NY</td>\n",
       "      <td>2022-01-01</td>\n",
       "      <td>56.3</td>\n",
       "      <td>50.0</td>\n",
       "      <td>52.8</td>\n",
       "      <td>56.3</td>\n",
       "      <td>50.0</td>\n",
       "      <td>52.8</td>\n",
       "      <td>50.4</td>\n",
       "      <td>91.6</td>\n",
       "      <td>...</td>\n",
       "      <td>1.3</td>\n",
       "      <td>1</td>\n",
       "      <td>NaN</td>\n",
       "      <td>2022-01-01T07:20:13</td>\n",
       "      <td>2022-01-01T16:39:22</td>\n",
       "      <td>0.96</td>\n",
       "      <td>Rain, Overcast</td>\n",
       "      <td>Cloudy skies throughout the day with rain.</td>\n",
       "      <td>rain</td>\n",
       "      <td>72505394728,KLGA,F8726,KNYC,F1417,72503014732</td>\n",
       "    </tr>\n",
       "    <tr>\n",
       "      <th>1</th>\n",
       "      <td>New York, NY</td>\n",
       "      <td>2022-01-02</td>\n",
       "      <td>58.5</td>\n",
       "      <td>38.5</td>\n",
       "      <td>50.3</td>\n",
       "      <td>58.5</td>\n",
       "      <td>32.3</td>\n",
       "      <td>48.9</td>\n",
       "      <td>45.4</td>\n",
       "      <td>83.8</td>\n",
       "      <td>...</td>\n",
       "      <td>2.1</td>\n",
       "      <td>2</td>\n",
       "      <td>NaN</td>\n",
       "      <td>2022-01-02T07:20:18</td>\n",
       "      <td>2022-01-02T16:40:13</td>\n",
       "      <td>0.00</td>\n",
       "      <td>Rain, Overcast</td>\n",
       "      <td>Cloudy skies throughout the day with rain clea...</td>\n",
       "      <td>rain</td>\n",
       "      <td>72505394728,KLGA,KNYC,F1417,72503014732</td>\n",
       "    </tr>\n",
       "    <tr>\n",
       "      <th>2</th>\n",
       "      <td>New York, NY</td>\n",
       "      <td>2022-01-03</td>\n",
       "      <td>37.9</td>\n",
       "      <td>23.5</td>\n",
       "      <td>30.1</td>\n",
       "      <td>31.8</td>\n",
       "      <td>12.5</td>\n",
       "      <td>20.8</td>\n",
       "      <td>13.3</td>\n",
       "      <td>49.9</td>\n",
       "      <td>...</td>\n",
       "      <td>1.1</td>\n",
       "      <td>1</td>\n",
       "      <td>NaN</td>\n",
       "      <td>2022-01-03T07:20:21</td>\n",
       "      <td>2022-01-03T16:41:06</td>\n",
       "      <td>0.03</td>\n",
       "      <td>Partially cloudy</td>\n",
       "      <td>Partly cloudy throughout the day.</td>\n",
       "      <td>partly-cloudy-day</td>\n",
       "      <td>72505394728,KLGA,KNYC,F1417,72503014732</td>\n",
       "    </tr>\n",
       "    <tr>\n",
       "      <th>3</th>\n",
       "      <td>New York, NY</td>\n",
       "      <td>2022-01-04</td>\n",
       "      <td>34.3</td>\n",
       "      <td>19.6</td>\n",
       "      <td>27.2</td>\n",
       "      <td>32.3</td>\n",
       "      <td>7.0</td>\n",
       "      <td>20.3</td>\n",
       "      <td>10.3</td>\n",
       "      <td>49.1</td>\n",
       "      <td>...</td>\n",
       "      <td>9.1</td>\n",
       "      <td>5</td>\n",
       "      <td>NaN</td>\n",
       "      <td>2022-01-04T07:20:22</td>\n",
       "      <td>2022-01-04T16:42:00</td>\n",
       "      <td>0.06</td>\n",
       "      <td>Clear</td>\n",
       "      <td>Clear conditions throughout the day.</td>\n",
       "      <td>clear-day</td>\n",
       "      <td>72505394728,KLGA,F8726,KNYC,F1417,72503014732</td>\n",
       "    </tr>\n",
       "    <tr>\n",
       "      <th>4</th>\n",
       "      <td>New York, NY</td>\n",
       "      <td>2022-01-05</td>\n",
       "      <td>46.6</td>\n",
       "      <td>31.1</td>\n",
       "      <td>39.5</td>\n",
       "      <td>44.9</td>\n",
       "      <td>25.3</td>\n",
       "      <td>35.7</td>\n",
       "      <td>32.7</td>\n",
       "      <td>77.0</td>\n",
       "      <td>...</td>\n",
       "      <td>2.1</td>\n",
       "      <td>1</td>\n",
       "      <td>NaN</td>\n",
       "      <td>2022-01-05T07:20:20</td>\n",
       "      <td>2022-01-05T16:42:56</td>\n",
       "      <td>0.10</td>\n",
       "      <td>Snow, Rain, Partially cloudy</td>\n",
       "      <td>Partly cloudy throughout the day with rain or ...</td>\n",
       "      <td>rain</td>\n",
       "      <td>72505394728,KLGA,KNYC,F1417,72503014732</td>\n",
       "    </tr>\n",
       "  </tbody>\n",
       "</table>\n",
       "<p>5 rows × 33 columns</p>\n",
       "</div>"
      ],
      "text/plain": [
       "           name   datetime  tempmax  tempmin  temp  feelslikemax  \\\n",
       "0  New York, NY 2022-01-01     56.3     50.0  52.8          56.3   \n",
       "1  New York, NY 2022-01-02     58.5     38.5  50.3          58.5   \n",
       "2  New York, NY 2022-01-03     37.9     23.5  30.1          31.8   \n",
       "3  New York, NY 2022-01-04     34.3     19.6  27.2          32.3   \n",
       "4  New York, NY 2022-01-05     46.6     31.1  39.5          44.9   \n",
       "\n",
       "   feelslikemin  feelslike   dew  humidity  ...  solarenergy  uvindex  \\\n",
       "0          50.0       52.8  50.4      91.6  ...          1.3        1   \n",
       "1          32.3       48.9  45.4      83.8  ...          2.1        2   \n",
       "2          12.5       20.8  13.3      49.9  ...          1.1        1   \n",
       "3           7.0       20.3  10.3      49.1  ...          9.1        5   \n",
       "4          25.3       35.7  32.7      77.0  ...          2.1        1   \n",
       "\n",
       "   severerisk              sunrise               sunset  moonphase  \\\n",
       "0         NaN  2022-01-01T07:20:13  2022-01-01T16:39:22       0.96   \n",
       "1         NaN  2022-01-02T07:20:18  2022-01-02T16:40:13       0.00   \n",
       "2         NaN  2022-01-03T07:20:21  2022-01-03T16:41:06       0.03   \n",
       "3         NaN  2022-01-04T07:20:22  2022-01-04T16:42:00       0.06   \n",
       "4         NaN  2022-01-05T07:20:20  2022-01-05T16:42:56       0.10   \n",
       "\n",
       "                     conditions  \\\n",
       "0                Rain, Overcast   \n",
       "1                Rain, Overcast   \n",
       "2              Partially cloudy   \n",
       "3                         Clear   \n",
       "4  Snow, Rain, Partially cloudy   \n",
       "\n",
       "                                         description               icon  \\\n",
       "0         Cloudy skies throughout the day with rain.               rain   \n",
       "1  Cloudy skies throughout the day with rain clea...               rain   \n",
       "2                  Partly cloudy throughout the day.  partly-cloudy-day   \n",
       "3               Clear conditions throughout the day.          clear-day   \n",
       "4  Partly cloudy throughout the day with rain or ...               rain   \n",
       "\n",
       "                                        stations  \n",
       "0  72505394728,KLGA,F8726,KNYC,F1417,72503014732  \n",
       "1        72505394728,KLGA,KNYC,F1417,72503014732  \n",
       "2        72505394728,KLGA,KNYC,F1417,72503014732  \n",
       "3  72505394728,KLGA,F8726,KNYC,F1417,72503014732  \n",
       "4        72505394728,KLGA,KNYC,F1417,72503014732  \n",
       "\n",
       "[5 rows x 33 columns]"
      ]
     },
     "execution_count": 16,
     "metadata": {},
     "output_type": "execute_result"
    }
   ],
   "source": [
    "weather_df = pd.read_csv(\"../Resources/weather_2022.csv\")\n",
    "weather_df['datetime'] = pd.to_datetime(weather_df['datetime'])\n",
    "weather_df.head()\n",
    "\n"
   ]
  },
  {
   "cell_type": "code",
   "execution_count": 17,
   "metadata": {},
   "outputs": [
    {
     "data": {
      "text/plain": [
       "Index(['name', 'datetime', 'tempmax', 'tempmin', 'temp', 'feelslikemax',\n",
       "       'feelslikemin', 'feelslike', 'dew', 'humidity', 'precip', 'precipprob',\n",
       "       'precipcover', 'preciptype', 'snow', 'snowdepth', 'windgust',\n",
       "       'windspeed', 'winddir', 'sealevelpressure', 'cloudcover', 'visibility',\n",
       "       'solarradiation', 'solarenergy', 'uvindex', 'severerisk', 'sunrise',\n",
       "       'sunset', 'moonphase', 'conditions', 'description', 'icon', 'stations'],\n",
       "      dtype='object')"
      ]
     },
     "execution_count": 17,
     "metadata": {},
     "output_type": "execute_result"
    }
   ],
   "source": [
    "weather_df.columns"
   ]
  },
  {
   "cell_type": "code",
   "execution_count": 18,
   "metadata": {},
   "outputs": [
    {
     "data": {
      "text/html": [
       "<div>\n",
       "<style scoped>\n",
       "    .dataframe tbody tr th:only-of-type {\n",
       "        vertical-align: middle;\n",
       "    }\n",
       "\n",
       "    .dataframe tbody tr th {\n",
       "        vertical-align: top;\n",
       "    }\n",
       "\n",
       "    .dataframe thead th {\n",
       "        text-align: right;\n",
       "    }\n",
       "</style>\n",
       "<table border=\"1\" class=\"dataframe\">\n",
       "  <thead>\n",
       "    <tr style=\"text-align: right;\">\n",
       "      <th></th>\n",
       "      <th>datetime</th>\n",
       "      <th>tempmax</th>\n",
       "      <th>tempmin</th>\n",
       "      <th>temp</th>\n",
       "      <th>humidity</th>\n",
       "      <th>precip</th>\n",
       "      <th>preciptype</th>\n",
       "      <th>snow</th>\n",
       "      <th>windspeed</th>\n",
       "      <th>visibility</th>\n",
       "      <th>severerisk</th>\n",
       "      <th>sunrise</th>\n",
       "      <th>sunset</th>\n",
       "      <th>icon</th>\n",
       "    </tr>\n",
       "  </thead>\n",
       "  <tbody>\n",
       "    <tr>\n",
       "      <th>0</th>\n",
       "      <td>2022-01-01</td>\n",
       "      <td>56.3</td>\n",
       "      <td>50.0</td>\n",
       "      <td>52.8</td>\n",
       "      <td>91.6</td>\n",
       "      <td>0.727</td>\n",
       "      <td>1</td>\n",
       "      <td>0</td>\n",
       "      <td>8.1</td>\n",
       "      <td>5.4</td>\n",
       "      <td>0.0</td>\n",
       "      <td>07:20</td>\n",
       "      <td>16:39</td>\n",
       "      <td>rain</td>\n",
       "    </tr>\n",
       "    <tr>\n",
       "      <th>1</th>\n",
       "      <td>2022-01-02</td>\n",
       "      <td>58.5</td>\n",
       "      <td>38.5</td>\n",
       "      <td>50.3</td>\n",
       "      <td>83.8</td>\n",
       "      <td>0.092</td>\n",
       "      <td>1</td>\n",
       "      <td>0</td>\n",
       "      <td>14.2</td>\n",
       "      <td>7.3</td>\n",
       "      <td>0.0</td>\n",
       "      <td>07:20</td>\n",
       "      <td>16:40</td>\n",
       "      <td>rain</td>\n",
       "    </tr>\n",
       "    <tr>\n",
       "      <th>2</th>\n",
       "      <td>2022-01-03</td>\n",
       "      <td>37.9</td>\n",
       "      <td>23.5</td>\n",
       "      <td>30.1</td>\n",
       "      <td>49.9</td>\n",
       "      <td>0.000</td>\n",
       "      <td>0</td>\n",
       "      <td>0</td>\n",
       "      <td>16.2</td>\n",
       "      <td>9.9</td>\n",
       "      <td>0.0</td>\n",
       "      <td>07:20</td>\n",
       "      <td>16:41</td>\n",
       "      <td>cloudy</td>\n",
       "    </tr>\n",
       "    <tr>\n",
       "      <th>3</th>\n",
       "      <td>2022-01-04</td>\n",
       "      <td>34.3</td>\n",
       "      <td>19.6</td>\n",
       "      <td>27.2</td>\n",
       "      <td>49.1</td>\n",
       "      <td>0.000</td>\n",
       "      <td>0</td>\n",
       "      <td>0</td>\n",
       "      <td>12.4</td>\n",
       "      <td>9.9</td>\n",
       "      <td>0.0</td>\n",
       "      <td>07:20</td>\n",
       "      <td>16:42</td>\n",
       "      <td>clear-day</td>\n",
       "    </tr>\n",
       "    <tr>\n",
       "      <th>4</th>\n",
       "      <td>2022-01-05</td>\n",
       "      <td>46.6</td>\n",
       "      <td>31.1</td>\n",
       "      <td>39.5</td>\n",
       "      <td>77.0</td>\n",
       "      <td>0.227</td>\n",
       "      <td>1</td>\n",
       "      <td>0</td>\n",
       "      <td>12.8</td>\n",
       "      <td>8.4</td>\n",
       "      <td>0.0</td>\n",
       "      <td>07:20</td>\n",
       "      <td>16:42</td>\n",
       "      <td>rain</td>\n",
       "    </tr>\n",
       "  </tbody>\n",
       "</table>\n",
       "</div>"
      ],
      "text/plain": [
       "    datetime  tempmax  tempmin  temp  humidity  precip  preciptype  snow  \\\n",
       "0 2022-01-01     56.3     50.0  52.8      91.6   0.727           1     0   \n",
       "1 2022-01-02     58.5     38.5  50.3      83.8   0.092           1     0   \n",
       "2 2022-01-03     37.9     23.5  30.1      49.9   0.000           0     0   \n",
       "3 2022-01-04     34.3     19.6  27.2      49.1   0.000           0     0   \n",
       "4 2022-01-05     46.6     31.1  39.5      77.0   0.227           1     0   \n",
       "\n",
       "   windspeed  visibility  severerisk sunrise sunset       icon  \n",
       "0        8.1         5.4         0.0   07:20  16:39       rain  \n",
       "1       14.2         7.3         0.0   07:20  16:40       rain  \n",
       "2       16.2         9.9         0.0   07:20  16:41     cloudy  \n",
       "3       12.4         9.9         0.0   07:20  16:42  clear-day  \n",
       "4       12.8         8.4         0.0   07:20  16:42       rain  "
      ]
     },
     "execution_count": 18,
     "metadata": {},
     "output_type": "execute_result"
    }
   ],
   "source": [
    "columns_to_drop = ['precipprob','name','feelslikemax','feelslikemin','feelslike','precipcover','stations','description','conditions','moonphase','sealevelpressure','cloudcover','snowdepth','winddir','solarradiation','solarenergy','dew','uvindex','windgust']\n",
    "weather_df = weather_df.drop(columns_to_drop, axis = 1)\n",
    "\n",
    "weather_df['sunrise'] = pd.to_datetime(weather_df['sunrise']).dt.strftime('%H:%M')\n",
    "weather_df['sunset'] = pd.to_datetime(weather_df['sunset']).dt.strftime('%H:%M')\n",
    "weather_df['severerisk'] = weather_df['severerisk'].fillna(0)\n",
    "weather_df['preciptype'] = weather_df['preciptype'].fillna('dry')\n",
    "weather_df['preciptype'] = np.where(weather_df['preciptype'].str.contains('rain', case=True),1,0) # 1 represents rain, 0 represents dry\n",
    "weather_df['preciptype'] = np.where((weather_df['precip'] == 0) & (weather_df['preciptype'] != 'dry'),0,weather_df['preciptype'])\n",
    "weather_df['snow'] = np.where(weather_df['snow']>0,1,0) # 1 represents snow, 0 represents no snow\n",
    "weather_df['icon'] = np.where((weather_df['icon'] == 'partly-cloudy-day'),'cloudy',weather_df['icon'])\n",
    "\n",
    "weather_df.head()\n"
   ]
  },
  {
   "cell_type": "code",
   "execution_count": 19,
   "metadata": {},
   "outputs": [],
   "source": [
    "#weather_df.groupby(weather_df['temp']).size()\n",
    "\n",
    "temperature_bins = [-10, 20, 40, 60, 80, 90, 100]\n",
    "temperature_labels = ['Freezing Cold', 'Cold', 'Moderate', 'Warm', 'Hot','Unbearable Hot']\n",
    "precip_bins = [-0.01,0.0001,0.1,0.3,float('inf')]\n",
    "precip_labels = ['Dry', 'Light', 'Moderate', 'Heavy']\n",
    "humid_bins = [-float('inf'),50,80,float('inf')]\n",
    "humid_labels = ['Low','High','Very High']\n",
    "wind_bins = [4,7.1,12.1,18.1,24.1,31.1]\n",
    "wind_labels = ['Flags ripple','Flags wave','Leaves scatter','Small trees sway','Umbrellas not working']\n",
    "\n",
    "weather_df['temperature_category'] = pd.cut(weather_df['temp'], bins=temperature_bins, labels=temperature_labels)\n",
    "weather_df['precip_category'] = pd.cut(weather_df['precip'], bins=precip_bins, labels=precip_labels)\n",
    "weather_df['humid_category'] = pd.cut(weather_df['humidity'], bins=humid_bins, labels=humid_labels)\n",
    "weather_df['wind_level'] = pd.cut(weather_df['windspeed'], bins=wind_bins, labels=wind_labels)\n",
    "\n",
    "weather_df['temperature_category'] = weather_df['temperature_category'].astype('string')\n",
    "weather_df['precip_category'] = weather_df['precip_category'].astype('string')\n",
    "weather_df['humid_category'] = weather_df['humid_category'].astype('string')\n",
    "weather_df['wind_level'] = weather_df['wind_level'].astype('string')\n",
    "\n"
   ]
  },
  {
   "cell_type": "code",
   "execution_count": 20,
   "metadata": {},
   "outputs": [
    {
     "data": {
      "text/plain": [
       "count    365.000000\n",
       "mean      56.580548\n",
       "std       17.303147\n",
       "min       11.100000\n",
       "25%       41.800000\n",
       "50%       56.900000\n",
       "75%       71.500000\n",
       "max       87.300000\n",
       "Name: temp, dtype: float64"
      ]
     },
     "execution_count": 20,
     "metadata": {},
     "output_type": "execute_result"
    }
   ],
   "source": [
    "weather_df['temp'].describe()"
   ]
  },
  {
   "cell_type": "code",
   "execution_count": 21,
   "metadata": {},
   "outputs": [
    {
     "name": "stdout",
     "output_type": "stream",
     "text": [
      "<class 'pandas.core.frame.DataFrame'>\n",
      "RangeIndex: 365 entries, 0 to 364\n",
      "Data columns (total 18 columns):\n",
      " #   Column                Non-Null Count  Dtype         \n",
      "---  ------                --------------  -----         \n",
      " 0   datetime              365 non-null    datetime64[ns]\n",
      " 1   tempmax               365 non-null    float64       \n",
      " 2   tempmin               365 non-null    float64       \n",
      " 3   temp                  365 non-null    float64       \n",
      " 4   humidity              365 non-null    float64       \n",
      " 5   precip                365 non-null    float64       \n",
      " 6   preciptype            365 non-null    int64         \n",
      " 7   snow                  365 non-null    int64         \n",
      " 8   windspeed             365 non-null    float64       \n",
      " 9   visibility            365 non-null    float64       \n",
      " 10  severerisk            365 non-null    float64       \n",
      " 11  sunrise               365 non-null    object        \n",
      " 12  sunset                365 non-null    object        \n",
      " 13  icon                  365 non-null    object        \n",
      " 14  temperature_category  365 non-null    string        \n",
      " 15  precip_category       365 non-null    string        \n",
      " 16  humid_category        365 non-null    string        \n",
      " 17  wind_level            365 non-null    string        \n",
      "dtypes: datetime64[ns](1), float64(8), int64(2), object(3), string(4)\n",
      "memory usage: 51.5+ KB\n"
     ]
    }
   ],
   "source": [
    "weather_df.info()"
   ]
  },
  {
   "cell_type": "code",
   "execution_count": 22,
   "metadata": {},
   "outputs": [],
   "source": [
    "weather_df.to_csv('../Resources/weather_classified_df.csv', index=False)"
   ]
  },
  {
   "cell_type": "code",
   "execution_count": 23,
   "metadata": {},
   "outputs": [
    {
     "data": {
      "text/plain": [
       "temperature_category\n",
       "Cold              71\n",
       "Freezing Cold      6\n",
       "Hot               29\n",
       "Moderate         127\n",
       "Warm             132\n",
       "dtype: int64"
      ]
     },
     "execution_count": 23,
     "metadata": {},
     "output_type": "execute_result"
    }
   ],
   "source": [
    "weather_df.groupby('temperature_category').size()"
   ]
  },
  {
   "cell_type": "code",
   "execution_count": 26,
   "metadata": {},
   "outputs": [],
   "source": [
    "engine = create_engine('sqlite:///../Resources/collision_db.sqlite')"
   ]
  },
  {
   "cell_type": "code",
   "execution_count": 24,
   "metadata": {},
   "outputs": [],
   "source": [
    "metadata = MetaData()"
   ]
  },
  {
   "cell_type": "code",
   "execution_count": 46,
   "metadata": {},
   "outputs": [
    {
     "ename": "InvalidRequestError",
     "evalue": "Table 'weather_2022_info' is already defined for this MetaData instance.  Specify 'extend_existing=True' to redefine options and columns on an existing Table object.",
     "output_type": "error",
     "traceback": [
      "\u001b[0;31m---------------------------------------------------------------------------\u001b[0m",
      "\u001b[0;31mInvalidRequestError\u001b[0m                       Traceback (most recent call last)",
      "Cell \u001b[0;32mIn[46], line 1\u001b[0m\n\u001b[0;32m----> 1\u001b[0m weather_info \u001b[38;5;241m=\u001b[39m \u001b[43mTable\u001b[49m\u001b[43m(\u001b[49m\u001b[38;5;124;43m'\u001b[39;49m\u001b[38;5;124;43mweather_2022_info\u001b[39;49m\u001b[38;5;124;43m'\u001b[39;49m\u001b[43m,\u001b[49m\u001b[43m \u001b[49m\u001b[43mmetadata\u001b[49m\u001b[43m,\u001b[49m\u001b[43m \u001b[49m\n\u001b[1;32m      2\u001b[0m \u001b[43m                     \u001b[49m\u001b[43mColumn\u001b[49m\u001b[43m(\u001b[49m\u001b[38;5;124;43m'\u001b[39;49m\u001b[38;5;124;43mdatetime\u001b[39;49m\u001b[38;5;124;43m'\u001b[39;49m\u001b[43m,\u001b[49m\u001b[43m \u001b[49m\u001b[43mDateTime\u001b[49m\u001b[43m,\u001b[49m\u001b[43m \u001b[49m\u001b[43mprimary_key\u001b[49m\u001b[38;5;241;43m=\u001b[39;49m\u001b[38;5;28;43;01mTrue\u001b[39;49;00m\u001b[43m)\u001b[49m\u001b[43m,\u001b[49m\n\u001b[1;32m      3\u001b[0m \u001b[43m                     \u001b[49m\u001b[43mColumn\u001b[49m\u001b[43m(\u001b[49m\u001b[38;5;124;43m'\u001b[39;49m\u001b[38;5;124;43mtempmax\u001b[39;49m\u001b[38;5;124;43m'\u001b[39;49m\u001b[43m,\u001b[49m\u001b[43m \u001b[49m\u001b[43mFloat\u001b[49m\u001b[43m)\u001b[49m\u001b[43m,\u001b[49m\n\u001b[1;32m      4\u001b[0m \u001b[43m                     \u001b[49m\u001b[43mColumn\u001b[49m\u001b[43m(\u001b[49m\u001b[38;5;124;43m'\u001b[39;49m\u001b[38;5;124;43mtempmin\u001b[39;49m\u001b[38;5;124;43m'\u001b[39;49m\u001b[43m,\u001b[49m\u001b[43m \u001b[49m\u001b[43mFloat\u001b[49m\u001b[43m)\u001b[49m\u001b[43m,\u001b[49m\n\u001b[1;32m      5\u001b[0m \u001b[43m                     \u001b[49m\u001b[43mColumn\u001b[49m\u001b[43m(\u001b[49m\u001b[38;5;124;43m'\u001b[39;49m\u001b[38;5;124;43mtemp\u001b[39;49m\u001b[38;5;124;43m'\u001b[39;49m\u001b[43m,\u001b[49m\u001b[43m \u001b[49m\u001b[43mFloat\u001b[49m\u001b[43m)\u001b[49m\u001b[43m,\u001b[49m\n\u001b[1;32m      6\u001b[0m \u001b[43m                     \u001b[49m\u001b[43mColumn\u001b[49m\u001b[43m(\u001b[49m\u001b[38;5;124;43m'\u001b[39;49m\u001b[38;5;124;43mhumidity\u001b[39;49m\u001b[38;5;124;43m'\u001b[39;49m\u001b[43m,\u001b[49m\u001b[43m \u001b[49m\u001b[43mFloat\u001b[49m\u001b[43m)\u001b[49m\u001b[43m,\u001b[49m\n\u001b[1;32m      7\u001b[0m \u001b[43m                     \u001b[49m\u001b[43mColumn\u001b[49m\u001b[43m(\u001b[49m\u001b[38;5;124;43m'\u001b[39;49m\u001b[38;5;124;43mprecip\u001b[39;49m\u001b[38;5;124;43m'\u001b[39;49m\u001b[43m,\u001b[49m\u001b[43m \u001b[49m\u001b[43mFloat\u001b[49m\u001b[43m)\u001b[49m\u001b[43m,\u001b[49m\n\u001b[1;32m      8\u001b[0m \u001b[43m                     \u001b[49m\u001b[43mColumn\u001b[49m\u001b[43m(\u001b[49m\u001b[38;5;124;43m'\u001b[39;49m\u001b[38;5;124;43mpreciptype\u001b[39;49m\u001b[38;5;124;43m'\u001b[39;49m\u001b[43m,\u001b[49m\u001b[43m \u001b[49m\u001b[43mInteger\u001b[49m\u001b[43m)\u001b[49m\u001b[43m,\u001b[49m\n\u001b[1;32m      9\u001b[0m \u001b[43m                     \u001b[49m\u001b[43mColumn\u001b[49m\u001b[43m(\u001b[49m\u001b[38;5;124;43m'\u001b[39;49m\u001b[38;5;124;43msnow\u001b[39;49m\u001b[38;5;124;43m'\u001b[39;49m\u001b[43m,\u001b[49m\u001b[43m \u001b[49m\u001b[43mInteger\u001b[49m\u001b[43m)\u001b[49m\u001b[43m,\u001b[49m\n\u001b[1;32m     10\u001b[0m \u001b[43m                     \u001b[49m\u001b[43mColumn\u001b[49m\u001b[43m(\u001b[49m\u001b[38;5;124;43m'\u001b[39;49m\u001b[38;5;124;43mwindspeed\u001b[39;49m\u001b[38;5;124;43m'\u001b[39;49m\u001b[43m,\u001b[49m\u001b[43m \u001b[49m\u001b[43mFloat\u001b[49m\u001b[43m)\u001b[49m\u001b[43m,\u001b[49m\n\u001b[1;32m     11\u001b[0m \u001b[43m                     \u001b[49m\u001b[43mColumn\u001b[49m\u001b[43m(\u001b[49m\u001b[38;5;124;43m'\u001b[39;49m\u001b[38;5;124;43mvisibility\u001b[39;49m\u001b[38;5;124;43m'\u001b[39;49m\u001b[43m,\u001b[49m\u001b[43m \u001b[49m\u001b[43mFloat\u001b[49m\u001b[43m)\u001b[49m\u001b[43m,\u001b[49m\n\u001b[1;32m     12\u001b[0m \u001b[43m                     \u001b[49m\u001b[43mColumn\u001b[49m\u001b[43m(\u001b[49m\u001b[38;5;124;43m'\u001b[39;49m\u001b[38;5;124;43msevererisk\u001b[39;49m\u001b[38;5;124;43m'\u001b[39;49m\u001b[43m,\u001b[49m\u001b[43m \u001b[49m\u001b[43mFloat\u001b[49m\u001b[43m)\u001b[49m\u001b[43m,\u001b[49m\n\u001b[1;32m     13\u001b[0m \u001b[43m                     \u001b[49m\u001b[43mColumn\u001b[49m\u001b[43m(\u001b[49m\u001b[38;5;124;43m'\u001b[39;49m\u001b[38;5;124;43msunrise\u001b[39;49m\u001b[38;5;124;43m'\u001b[39;49m\u001b[43m,\u001b[49m\u001b[43m \u001b[49m\u001b[43mString\u001b[49m\u001b[43m)\u001b[49m\u001b[43m,\u001b[49m\n\u001b[1;32m     14\u001b[0m \u001b[43m                     \u001b[49m\u001b[43mColumn\u001b[49m\u001b[43m(\u001b[49m\u001b[38;5;124;43m'\u001b[39;49m\u001b[38;5;124;43msunset\u001b[39;49m\u001b[38;5;124;43m'\u001b[39;49m\u001b[43m,\u001b[49m\u001b[43m \u001b[49m\u001b[43mString\u001b[49m\u001b[43m)\u001b[49m\u001b[43m,\u001b[49m\n\u001b[1;32m     15\u001b[0m \u001b[43m                     \u001b[49m\u001b[43mColumn\u001b[49m\u001b[43m(\u001b[49m\u001b[38;5;124;43m'\u001b[39;49m\u001b[38;5;124;43micon\u001b[39;49m\u001b[38;5;124;43m'\u001b[39;49m\u001b[43m,\u001b[49m\u001b[43m \u001b[49m\u001b[43mString\u001b[49m\u001b[43m)\u001b[49m\u001b[43m,\u001b[49m\n\u001b[1;32m     16\u001b[0m \u001b[43m                     \u001b[49m\u001b[43mColumn\u001b[49m\u001b[43m(\u001b[49m\u001b[38;5;124;43m'\u001b[39;49m\u001b[38;5;124;43mtemperature_category\u001b[39;49m\u001b[38;5;124;43m'\u001b[39;49m\u001b[43m,\u001b[49m\u001b[43m \u001b[49m\u001b[43mString\u001b[49m\u001b[43m)\u001b[49m\u001b[43m,\u001b[49m\n\u001b[1;32m     17\u001b[0m \u001b[43m                     \u001b[49m\u001b[43mColumn\u001b[49m\u001b[43m(\u001b[49m\u001b[38;5;124;43m'\u001b[39;49m\u001b[38;5;124;43mprecip_category\u001b[39;49m\u001b[38;5;124;43m'\u001b[39;49m\u001b[43m,\u001b[49m\u001b[43m \u001b[49m\u001b[43mString\u001b[49m\u001b[43m)\u001b[49m\u001b[43m,\u001b[49m\n\u001b[1;32m     18\u001b[0m \u001b[43m                     \u001b[49m\u001b[43mColumn\u001b[49m\u001b[43m(\u001b[49m\u001b[38;5;124;43m'\u001b[39;49m\u001b[38;5;124;43mnumber_of_motorist_killed\u001b[39;49m\u001b[38;5;124;43m'\u001b[39;49m\u001b[43m,\u001b[49m\u001b[43m \u001b[49m\u001b[43mInteger\u001b[49m\u001b[43m)\u001b[49m\u001b[43m,\u001b[49m\n\u001b[1;32m     19\u001b[0m \u001b[43m                     \u001b[49m\u001b[43mColumn\u001b[49m\u001b[43m(\u001b[49m\u001b[38;5;124;43m'\u001b[39;49m\u001b[38;5;124;43mhumid_category\u001b[39;49m\u001b[38;5;124;43m'\u001b[39;49m\u001b[43m,\u001b[49m\u001b[43m \u001b[49m\u001b[43mString\u001b[49m\u001b[43m)\u001b[49m\u001b[43m,\u001b[49m\n\u001b[1;32m     20\u001b[0m \u001b[43m                     \u001b[49m\u001b[43mColumn\u001b[49m\u001b[43m(\u001b[49m\u001b[38;5;124;43m'\u001b[39;49m\u001b[38;5;124;43mwind_level\u001b[39;49m\u001b[38;5;124;43m'\u001b[39;49m\u001b[43m,\u001b[49m\u001b[43m \u001b[49m\u001b[43mString\u001b[49m\u001b[43m)\u001b[49m\u001b[43m,\u001b[49m\n\u001b[1;32m     21\u001b[0m \u001b[43m                     \u001b[49m\u001b[43m)\u001b[49m\n\u001b[1;32m     22\u001b[0m metadata\u001b[38;5;241m.\u001b[39mcreate_all(engine)\n",
      "File \u001b[0;32m<string>:2\u001b[0m, in \u001b[0;36m__new__\u001b[0;34m(cls, *args, **kw)\u001b[0m\n",
      "File \u001b[0;32m/Library/Frameworks/Python.framework/Versions/3.11/lib/python3.11/site-packages/sqlalchemy/util/deprecations.py:281\u001b[0m, in \u001b[0;36mdeprecated_params.<locals>.decorate.<locals>.warned\u001b[0;34m(fn, *args, **kwargs)\u001b[0m\n\u001b[1;32m    274\u001b[0m     \u001b[39mif\u001b[39;00m m \u001b[39min\u001b[39;00m kwargs:\n\u001b[1;32m    275\u001b[0m         _warn_with_version(\n\u001b[1;32m    276\u001b[0m             messages[m],\n\u001b[1;32m    277\u001b[0m             versions[m],\n\u001b[1;32m    278\u001b[0m             version_warnings[m],\n\u001b[1;32m    279\u001b[0m             stacklevel\u001b[39m=\u001b[39m\u001b[39m3\u001b[39m,\n\u001b[1;32m    280\u001b[0m         )\n\u001b[0;32m--> 281\u001b[0m \u001b[39mreturn\u001b[39;00m fn(\u001b[39m*\u001b[39;49margs, \u001b[39m*\u001b[39;49m\u001b[39m*\u001b[39;49mkwargs)\n",
      "File \u001b[0;32m/Library/Frameworks/Python.framework/Versions/3.11/lib/python3.11/site-packages/sqlalchemy/sql/schema.py:436\u001b[0m, in \u001b[0;36mTable.__new__\u001b[0;34m(cls, *args, **kw)\u001b[0m\n\u001b[1;32m    429\u001b[0m \u001b[39m@util\u001b[39m\u001b[39m.\u001b[39mdeprecated_params(\n\u001b[1;32m    430\u001b[0m     mustexist\u001b[39m=\u001b[39m(\n\u001b[1;32m    431\u001b[0m         \u001b[39m\"\u001b[39m\u001b[39m1.4\u001b[39m\u001b[39m\"\u001b[39m,\n\u001b[0;32m   (...)\u001b[0m\n\u001b[1;32m    434\u001b[0m )\n\u001b[1;32m    435\u001b[0m \u001b[39mdef\u001b[39;00m \u001b[39m__new__\u001b[39m(\u001b[39mcls\u001b[39m, \u001b[39m*\u001b[39margs: Any, \u001b[39m*\u001b[39m\u001b[39m*\u001b[39mkw: Any) \u001b[39m-\u001b[39m\u001b[39m>\u001b[39m Any:\n\u001b[0;32m--> 436\u001b[0m     \u001b[39mreturn\u001b[39;00m \u001b[39mcls\u001b[39;49m\u001b[39m.\u001b[39;49m_new(\u001b[39m*\u001b[39;49margs, \u001b[39m*\u001b[39;49m\u001b[39m*\u001b[39;49mkw)\n",
      "File \u001b[0;32m/Library/Frameworks/Python.framework/Versions/3.11/lib/python3.11/site-packages/sqlalchemy/sql/schema.py:468\u001b[0m, in \u001b[0;36mTable._new\u001b[0;34m(cls, *args, **kw)\u001b[0m\n\u001b[1;32m    466\u001b[0m \u001b[39mif\u001b[39;00m key \u001b[39min\u001b[39;00m metadata\u001b[39m.\u001b[39mtables:\n\u001b[1;32m    467\u001b[0m     \u001b[39mif\u001b[39;00m \u001b[39mnot\u001b[39;00m keep_existing \u001b[39mand\u001b[39;00m \u001b[39mnot\u001b[39;00m extend_existing \u001b[39mand\u001b[39;00m \u001b[39mbool\u001b[39m(args):\n\u001b[0;32m--> 468\u001b[0m         \u001b[39mraise\u001b[39;00m exc\u001b[39m.\u001b[39mInvalidRequestError(\n\u001b[1;32m    469\u001b[0m             \u001b[39m\"\u001b[39m\u001b[39mTable \u001b[39m\u001b[39m'\u001b[39m\u001b[39m%s\u001b[39;00m\u001b[39m'\u001b[39m\u001b[39m is already defined for this MetaData \u001b[39m\u001b[39m\"\u001b[39m\n\u001b[1;32m    470\u001b[0m             \u001b[39m\"\u001b[39m\u001b[39minstance.  Specify \u001b[39m\u001b[39m'\u001b[39m\u001b[39mextend_existing=True\u001b[39m\u001b[39m'\u001b[39m\u001b[39m \u001b[39m\u001b[39m\"\u001b[39m\n\u001b[1;32m    471\u001b[0m             \u001b[39m\"\u001b[39m\u001b[39mto redefine \u001b[39m\u001b[39m\"\u001b[39m\n\u001b[1;32m    472\u001b[0m             \u001b[39m\"\u001b[39m\u001b[39moptions and columns on an \u001b[39m\u001b[39m\"\u001b[39m\n\u001b[1;32m    473\u001b[0m             \u001b[39m\"\u001b[39m\u001b[39mexisting Table object.\u001b[39m\u001b[39m\"\u001b[39m \u001b[39m%\u001b[39m key\n\u001b[1;32m    474\u001b[0m         )\n\u001b[1;32m    475\u001b[0m     table \u001b[39m=\u001b[39m metadata\u001b[39m.\u001b[39mtables[key]\n\u001b[1;32m    476\u001b[0m     \u001b[39mif\u001b[39;00m extend_existing:\n",
      "\u001b[0;31mInvalidRequestError\u001b[0m: Table 'weather_2022_info' is already defined for this MetaData instance.  Specify 'extend_existing=True' to redefine options and columns on an existing Table object."
     ]
    }
   ],
   "source": [
    "weather_info = Table('weather_2022_info', metadata, \n",
    "                     Column('datetime', DateTime, primary_key=True),\n",
    "                     Column('tempmax', Float),\n",
    "                     Column('tempmin', Float),\n",
    "                     Column('temp', Float),\n",
    "                     Column('humidity', Float),\n",
    "                     Column('precip', Float),\n",
    "                     Column('preciptype', Integer),\n",
    "                     Column('snow', Integer),\n",
    "                     Column('windspeed', Float),\n",
    "                     Column('visibility', Float),\n",
    "                     Column('severerisk', Float),\n",
    "                     Column('sunrise', String),\n",
    "                     Column('sunset', String),\n",
    "                     Column('icon', String),\n",
    "                     Column('temperature_category', String),\n",
    "                     Column('precip_category', String),\n",
    "                     Column('number_of_motorist_killed', Integer),\n",
    "                     Column('humid_category', String),\n",
    "                     Column('wind_level', String),\n",
    "                     )\n",
    "metadata.create_all(engine)\n"
   ]
  },
  {
   "cell_type": "code",
   "execution_count": 50,
   "metadata": {},
   "outputs": [
    {
     "data": {
      "text/plain": [
       "365"
      ]
     },
     "execution_count": 50,
     "metadata": {},
     "output_type": "execute_result"
    }
   ],
   "source": [
    "weather_df.to_sql('weather_2022_info', con=engine, if_exists='replace', index=False)"
   ]
  },
  {
   "cell_type": "code",
   "execution_count": 51,
   "metadata": {},
   "outputs": [
    {
     "name": "stdout",
     "output_type": "stream",
     "text": [
      "['motor_collisions', 'weather_2022_info']\n",
      "[{'name': 'datetime', 'type': DATETIME(), 'nullable': True, 'default': None, 'primary_key': 0}, {'name': 'tempmax', 'type': FLOAT(), 'nullable': True, 'default': None, 'primary_key': 0}, {'name': 'tempmin', 'type': FLOAT(), 'nullable': True, 'default': None, 'primary_key': 0}, {'name': 'temp', 'type': FLOAT(), 'nullable': True, 'default': None, 'primary_key': 0}, {'name': 'humidity', 'type': FLOAT(), 'nullable': True, 'default': None, 'primary_key': 0}, {'name': 'precip', 'type': FLOAT(), 'nullable': True, 'default': None, 'primary_key': 0}, {'name': 'preciptype', 'type': BIGINT(), 'nullable': True, 'default': None, 'primary_key': 0}, {'name': 'snow', 'type': BIGINT(), 'nullable': True, 'default': None, 'primary_key': 0}, {'name': 'windspeed', 'type': FLOAT(), 'nullable': True, 'default': None, 'primary_key': 0}, {'name': 'visibility', 'type': FLOAT(), 'nullable': True, 'default': None, 'primary_key': 0}, {'name': 'severerisk', 'type': FLOAT(), 'nullable': True, 'default': None, 'primary_key': 0}, {'name': 'sunrise', 'type': TEXT(), 'nullable': True, 'default': None, 'primary_key': 0}, {'name': 'sunset', 'type': TEXT(), 'nullable': True, 'default': None, 'primary_key': 0}, {'name': 'icon', 'type': TEXT(), 'nullable': True, 'default': None, 'primary_key': 0}, {'name': 'temperature_category', 'type': TEXT(), 'nullable': True, 'default': None, 'primary_key': 0}, {'name': 'precip_category', 'type': TEXT(), 'nullable': True, 'default': None, 'primary_key': 0}, {'name': 'humid_category', 'type': TEXT(), 'nullable': True, 'default': None, 'primary_key': 0}, {'name': 'wind_level', 'type': TEXT(), 'nullable': True, 'default': None, 'primary_key': 0}]\n"
     ]
    }
   ],
   "source": [
    "from sqlalchemy import inspect\n",
    "\n",
    "inspector = inspect(engine)\n",
    "print(inspector.get_table_names())  # Check if the table is listed\n",
    "print(inspector.get_columns('weather_2022_info'))  # Check the structure of the table\n"
   ]
  },
  {
   "cell_type": "code",
   "execution_count": null,
   "metadata": {},
   "outputs": [],
   "source": []
  }
 ],
 "metadata": {
  "kernelspec": {
   "display_name": "Python 3.11.0 64-bit",
   "language": "python",
   "name": "python3"
  },
  "language_info": {
   "codemirror_mode": {
    "name": "ipython",
    "version": 3
   },
   "file_extension": ".py",
   "mimetype": "text/x-python",
   "name": "python",
   "nbconvert_exporter": "python",
   "pygments_lexer": "ipython3",
   "version": "3.11.0"
  },
  "vscode": {
   "interpreter": {
    "hash": "aee8b7b246df8f9039afb4144a1f6fd8d2ca17a180786b69acc140d282b71a49"
   }
  }
 },
 "nbformat": 4,
 "nbformat_minor": 2
}

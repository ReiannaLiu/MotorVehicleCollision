{
 "cells": [
  {
   "cell_type": "code",
   "execution_count": 46,
   "metadata": {},
   "outputs": [
    {
     "name": "stdout",
     "output_type": "stream",
     "text": [
      "1ace17678fd8498ba8d9d80b02cfd3be\n",
      "ffcb1b8b3a5fa39fd16fe6b78901a206\n"
     ]
    }
   ],
   "source": [
    "import pandas as pd\n",
    "df = pd.read_csv(\"../Resources/collision_data_clean.csv\", dtype = {'zip_code':'object'})\n",
    "\n",
    "with open('../api_keys/openweather.txt', 'r') as file:\n",
    "    weather_apikey = file.readline().strip()\n",
    "\n",
    "with open('../api_keys/geoapify.txt', 'r') as file:\n",
    "    geo_apikey = file.readline().strip()\n"
   ]
  },
  {
   "cell_type": "markdown",
   "metadata": {},
   "source": []
  },
  {
   "cell_type": "code",
   "execution_count": 40,
   "metadata": {},
   "outputs": [
    {
     "data": {
      "text/plain": [
       "crash_date  zip_code\n",
       "2016-04-16  11214       1\n",
       "2019-05-21  11201       1\n",
       "2021-02-26  10461       1\n",
       "2021-03-20  11205       1\n",
       "2021-03-28  11221       1\n",
       "                       ..\n",
       "2022-04-24  11221       1\n",
       "            11411       1\n",
       "            11418       1\n",
       "            11419       1\n",
       "2022-07-12  11225       1\n",
       "Length: 497, dtype: int64"
      ]
     },
     "execution_count": 40,
     "metadata": {},
     "output_type": "execute_result"
    }
   ],
   "source": [
    "grouped = df.groupby(['crash_date','zip_code']).size()\n",
    "grouped"
   ]
  },
  {
   "cell_type": "code",
   "execution_count": 41,
   "metadata": {},
   "outputs": [
    {
     "data": {
      "text/html": [
       "<div>\n",
       "<style scoped>\n",
       "    .dataframe tbody tr th:only-of-type {\n",
       "        vertical-align: middle;\n",
       "    }\n",
       "\n",
       "    .dataframe tbody tr th {\n",
       "        vertical-align: top;\n",
       "    }\n",
       "\n",
       "    .dataframe thead th {\n",
       "        text-align: right;\n",
       "    }\n",
       "</style>\n",
       "<table border=\"1\" class=\"dataframe\">\n",
       "  <thead>\n",
       "    <tr style=\"text-align: right;\">\n",
       "      <th></th>\n",
       "      <th>crash_date</th>\n",
       "      <th>zip_code</th>\n",
       "    </tr>\n",
       "  </thead>\n",
       "  <tbody>\n",
       "    <tr>\n",
       "      <th>0</th>\n",
       "      <td>2016-04-16</td>\n",
       "      <td>11214</td>\n",
       "    </tr>\n",
       "    <tr>\n",
       "      <th>1</th>\n",
       "      <td>2019-05-21</td>\n",
       "      <td>11201</td>\n",
       "    </tr>\n",
       "    <tr>\n",
       "      <th>2</th>\n",
       "      <td>2021-02-26</td>\n",
       "      <td>10461</td>\n",
       "    </tr>\n",
       "    <tr>\n",
       "      <th>3</th>\n",
       "      <td>2021-03-20</td>\n",
       "      <td>11205</td>\n",
       "    </tr>\n",
       "    <tr>\n",
       "      <th>4</th>\n",
       "      <td>2021-03-28</td>\n",
       "      <td>11221</td>\n",
       "    </tr>\n",
       "    <tr>\n",
       "      <th>...</th>\n",
       "      <td>...</td>\n",
       "      <td>...</td>\n",
       "    </tr>\n",
       "    <tr>\n",
       "      <th>492</th>\n",
       "      <td>2022-04-24</td>\n",
       "      <td>11221</td>\n",
       "    </tr>\n",
       "    <tr>\n",
       "      <th>493</th>\n",
       "      <td>2022-04-24</td>\n",
       "      <td>11411</td>\n",
       "    </tr>\n",
       "    <tr>\n",
       "      <th>494</th>\n",
       "      <td>2022-04-24</td>\n",
       "      <td>11418</td>\n",
       "    </tr>\n",
       "    <tr>\n",
       "      <th>495</th>\n",
       "      <td>2022-04-24</td>\n",
       "      <td>11419</td>\n",
       "    </tr>\n",
       "    <tr>\n",
       "      <th>496</th>\n",
       "      <td>2022-07-12</td>\n",
       "      <td>11225</td>\n",
       "    </tr>\n",
       "  </tbody>\n",
       "</table>\n",
       "<p>497 rows × 2 columns</p>\n",
       "</div>"
      ],
      "text/plain": [
       "     crash_date zip_code\n",
       "0    2016-04-16    11214\n",
       "1    2019-05-21    11201\n",
       "2    2021-02-26    10461\n",
       "3    2021-03-20    11205\n",
       "4    2021-03-28    11221\n",
       "..          ...      ...\n",
       "492  2022-04-24    11221\n",
       "493  2022-04-24    11411\n",
       "494  2022-04-24    11418\n",
       "495  2022-04-24    11419\n",
       "496  2022-07-12    11225\n",
       "\n",
       "[497 rows x 2 columns]"
      ]
     },
     "execution_count": 41,
     "metadata": {},
     "output_type": "execute_result"
    }
   ],
   "source": [
    "grouped_df = pd.DataFrame(grouped).reset_index()\n",
    "grouped_df = grouped_df.iloc[:, :-1]\n",
    "grouped_df.reset_index(drop=True, inplace=True)\n",
    "grouped_df\n"
   ]
  },
  {
   "cell_type": "code",
   "execution_count": null,
   "metadata": {},
   "outputs": [],
   "source": []
  },
  {
   "cell_type": "code",
   "execution_count": 43,
   "metadata": {},
   "outputs": [
    {
     "data": {
      "text/plain": [
       "'1ace17678fd8498ba8d9d80b02cfd3be'"
      ]
     },
     "execution_count": 43,
     "metadata": {},
     "output_type": "execute_result"
    }
   ],
   "source": [
    "for zip in grouped_df:\n"
   ]
  },
  {
   "cell_type": "code",
   "execution_count": 66,
   "metadata": {},
   "outputs": [],
   "source": [
    "import requests\n",
    "geo_data_all = []\n",
    "\n",
    "for zip in grouped_df['zip_code']:\n",
    "    url = f\"https://api.geoapify.com/v1/geocode/search?text={zip}&lang=en&limit=10&type=postcode&filter=countrycode:us&apiKey={geo_apikey}\"\n",
    "    geoapify = requests.get(url)\n",
    "    geo_data = geoapify.json()\n",
    "\n",
    "    geo_data_all.append(geo_data)"
   ]
  },
  {
   "cell_type": "code",
   "execution_count": 72,
   "metadata": {},
   "outputs": [],
   "source": [
    "for i in range(len(geo_data_all)):\n",
    "    zip_code = geo_data_all[i]['features'][0]['properties']['postcode']\n",
    "    lat = geo_data_all[i]['features'][0]['properties']['lat']\n",
    "    lon = geo_data_all[i]['features'][0]['properties']['lon']\n",
    "    \n"
   ]
  },
  {
   "cell_type": "code",
   "execution_count": 71,
   "metadata": {},
   "outputs": [
    {
     "data": {
      "text/plain": [
       "{'type': 'FeatureCollection',\n",
       " 'features': [{'type': 'Feature',\n",
       "   'properties': {'result_type': 'postcode',\n",
       "    'suburb': 'Kings County',\n",
       "    'city': 'New York',\n",
       "    'state': 'New York',\n",
       "    'postcode': '11214',\n",
       "    'country': 'United States',\n",
       "    'country_code': 'us',\n",
       "    'datasource': {'sourcename': 'openstreetmap',\n",
       "     'attribution': '© OpenStreetMap contributors',\n",
       "     'license': 'Open Database License',\n",
       "     'url': 'https://www.openstreetmap.org/copyright'},\n",
       "    'state_code': 'NY',\n",
       "    'lon': -73.996609239,\n",
       "    'lat': 40.602073463,\n",
       "    'parent_as_place_id': True,\n",
       "    'formatted': 'Kings County (New York), NY 11214, United States of America',\n",
       "    'address_line1': 'Kings County (New York), NY 11214',\n",
       "    'address_line2': 'United States of America',\n",
       "    'category': 'administrative',\n",
       "    'timezone': {'name': 'America/New_York',\n",
       "     'offset_STD': '-05:00',\n",
       "     'offset_STD_seconds': -18000,\n",
       "     'offset_DST': '-04:00',\n",
       "     'offset_DST_seconds': -14400,\n",
       "     'abbreviation_STD': 'EST',\n",
       "     'abbreviation_DST': 'EDT'},\n",
       "    'plus_code': '87G8J223+R9',\n",
       "    'plus_code_short': 'J223+R9 New York, New York, United States',\n",
       "    'rank': {'popularity': 7.217176440995994,\n",
       "     'confidence': 1,\n",
       "     'confidence_city_level': 1,\n",
       "     'match_type': 'full_match'},\n",
       "    'place_id': '515f191e72c87f52c059efaf44be104d4440f00101f9016ea3050000000000c0020792030831313231342b7573'},\n",
       "   'geometry': {'type': 'Point', 'coordinates': [-73.996609239, 40.602073463]},\n",
       "   'bbox': [-74.056688, 40.550339, -73.832945, 40.739434]}],\n",
       " 'query': {'text': '11214',\n",
       "  'parsed': {'postcode': '11214', 'expected_type': 'unknown'}}}"
      ]
     },
     "execution_count": 71,
     "metadata": {},
     "output_type": "execute_result"
    }
   ],
   "source": [
    "geo_data_all[0]"
   ]
  },
  {
   "cell_type": "code",
   "execution_count": null,
   "metadata": {},
   "outputs": [],
   "source": [
    "def append_weather(df, lat, long):\n",
    "    parameters = {lat: , \n",
    "                  long: ,\n",
    "                  type: , \n",
    "                  appid: weather_apikey , \n",
    "                  start:\n",
    "                  end:\n",
    "                  cnt:\n",
    "    }"
   ]
  },
  {
   "cell_type": "code",
   "execution_count": null,
   "metadata": {},
   "outputs": [],
   "source": []
  },
  {
   "cell_type": "markdown",
   "metadata": {},
   "source": [
    "api sample response:\n",
    "{\n",
    "   \"message\": \"Count: 24\",\n",
    "   \"cod\": \"200\",\n",
    "   \"city_id\": 4298960,\n",
    "   \"calctime\": 0.00297316,\n",
    "   \"cnt\": 24,\n",
    "   \"list\": [\n",
    "   {\n",
    "   \"dt\": 1578384000,\n",
    "   \"main\": {\n",
    "     \"temp\": 275.45,\n",
    "     \"feels_like\": 271.7,\n",
    "     \"pressure\": 1014,\n",
    "     \"humidity\": 74,\n",
    "     \"temp_min\": 274.26,\n",
    "     \"temp_max\": 276.48\n",
    "   },\n",
    "   \"wind\": {\n",
    "     \"speed\": 2.16,\n",
    "     \"deg\": 87\n",
    "   },\n",
    "   \"clouds\": {\n",
    "     \"all\": 90\n",
    "   },\n",
    "   \"weather\": [\n",
    "     {\n",
    "       \"id\": 501,\n",
    "       \"main\": \"Rain\",\n",
    "       \"description\": \"moderate rain\",\n",
    "       \"icon\": \"10n\"\n",
    "     }\n",
    "   ],\n",
    "   \"rain\": {\n",
    "     \"1h\": 0.9\n",
    "   }\n",
    "},"
   ]
  },
  {
   "cell_type": "code",
   "execution_count": null,
   "metadata": {},
   "outputs": [],
   "source": []
  }
 ],
 "metadata": {
  "kernelspec": {
   "display_name": "dev",
   "language": "python",
   "name": "python3"
  },
  "language_info": {
   "codemirror_mode": {
    "name": "ipython",
    "version": 3
   },
   "file_extension": ".py",
   "mimetype": "text/x-python",
   "name": "python",
   "nbconvert_exporter": "python",
   "pygments_lexer": "ipython3",
   "version": "3.10.12"
  }
 },
 "nbformat": 4,
 "nbformat_minor": 2
}

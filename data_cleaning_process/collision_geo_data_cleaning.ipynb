version https://git-lfs.github.com/spec/v1
oid sha256:21f92e8dfd1c5732e17c2293c02db22bf28e3780eb18939219d6fe0ff82c166a
size 245402

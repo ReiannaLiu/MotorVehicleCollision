{
 "cells": [
  {
   "cell_type": "code",
   "execution_count": 441,
   "metadata": {},
   "outputs": [],
   "source": [
    "import numpy as np\n",
    "import pandas as pd"
   ]
  },
  {
   "cell_type": "code",
   "execution_count": 442,
   "metadata": {},
   "outputs": [
    {
     "name": "stderr",
     "output_type": "stream",
     "text": [
      "/var/folders/_7/4zts0j8d4413ps8jq10scqsr0000gn/T/ipykernel_36596/2694705919.py:1: DtypeWarning: Columns (14,19,20) have mixed types. Specify dtype option on import or set low_memory=False.\n",
      "  df = pd.read_csv('../Resources/allzipcodes_collision_weather_df.csv')\n"
     ]
    }
   ],
   "source": [
    "df = pd.read_csv('../Resources/allzipcodes_collision_weather_df.csv')\n",
    "df.set_index('collision_id',inplace = True)"
   ]
  },
  {
   "cell_type": "code",
   "execution_count": 443,
   "metadata": {},
   "outputs": [],
   "source": [
    "df[\"pedestrians_accident\"] = (df[\"number_of_pedestrians_injured\"] > 0) | (df[\"number_of_pedestrians_killed\"] > 0)\n",
    "df[\"cyclists_accident\"] = (df[\"number_of_cyclist_injured\"] > 0) | (df[\"number_of_cyclist_killed\"] > 0)\n",
    "df[\"motorists_accident\"] = (df[\"number_of_motorist_injured\"] > 0) | (df[\"number_of_motorist_killed\"] > 0)"
   ]
  },
  {
   "cell_type": "code",
   "execution_count": 444,
   "metadata": {},
   "outputs": [],
   "source": [
    "pedestrian_df = df[df[\"pedestrians_accident\"] == 1]\n",
    "cyclist_df = df[df[\"cyclists_accident\"] == 1]\n",
    "motorist_df = df[df[\"motorists_accident\"] == 1]\n"
   ]
  },
  {
   "cell_type": "markdown",
   "metadata": {},
   "source": [
    "Build a result df to store model results"
   ]
  },
  {
   "cell_type": "code",
   "execution_count": null,
   "metadata": {},
   "outputs": [],
   "source": [
    "results_df = pd.DataFrame(np.zeros(shape=(4,6)))\n",
    "results_df.index=[1,2,3,4]\n",
    "results_df.columns = [\"accuracy\",\"precision\",\"recall\",\"f1_score\",\"AUC\",\"AP\"]\n",
    "results_df.index.rename(\"Model\",inplace=True)\n",
    "results_df"
   ]
  },
  {
   "cell_type": "markdown",
   "metadata": {},
   "source": [
    "Split the dataset into train and test data"
   ]
  },
  {
   "cell_type": "code",
   "execution_count": 483,
   "metadata": {},
   "outputs": [
    {
     "data": {
      "text/plain": [
       "Index(['crash_datetime', 'crash_day_of_week', 'crash_hour_category',\n",
       "       'street_address', 'number_of_persons_injured',\n",
       "       'number_of_persons_killed', 'number_of_pedestrians_injured',\n",
       "       'number_of_pedestrians_killed', 'number_of_cyclist_injured',\n",
       "       'number_of_cyclist_killed', 'number_of_motorist_injured',\n",
       "       'number_of_motorist_killed', 'vehicle_type_code_1',\n",
       "       'vehicle_type_code_2', 'borough', 'zip_code', 'latitude', 'longitude',\n",
       "       'vehicle_type_code_3', 'vehicle_type_code_4', 'Density', 'Population',\n",
       "       'contributing_factor', 'number_of_injuries', 'number_of_deaths',\n",
       "       'injuries_rate', 'death_rate', 'severity_of_accident', 'date', 'hour',\n",
       "       'tempmax', 'tempmin', 'temp', 'humidity', 'precip', 'preciptype',\n",
       "       'snow', 'windspeed', 'visibility', 'severerisk', 'sunrise', 'sunset',\n",
       "       'icon', 'temperature_category', 'precip_category', 'humid_category',\n",
       "       'wind_level', 'vis_level', 'Density_rank', 'zip_code_count',\n",
       "       'total_inflicted', 'pedestrians_accident', 'cyclists_accident',\n",
       "       'motorists_accident'],\n",
       "      dtype='object')"
      ]
     },
     "execution_count": 483,
     "metadata": {},
     "output_type": "execute_result"
    }
   ],
   "source": [
    "df.columns"
   ]
  },
  {
   "cell_type": "code",
   "execution_count": 570,
   "metadata": {},
   "outputs": [],
   "source": [
    "import pandas as pd\n",
    "from sklearn.model_selection import train_test_split\n",
    "from sklearn.preprocessing import LabelEncoder,StandardScaler, OneHotEncoder\n",
    "from sklearn.impute import SimpleImputer\n",
    "from sklearn.compose import ColumnTransformer, make_column_transformer\n",
    "from sklearn.preprocessing import LabelBinarizer\n",
    "\n",
    "\n",
    "features_cat = ['crash_day_of_week', 'crash_hour_category','contributing_factor','zip_code','icon','vis_level','wind_level']\n",
    "features_num = ['Population','Density']\n",
    "\n",
    "y = df['pedestrians_accident']\n",
    "y_dense = LabelBinarizer().fit_transform(y)\n",
    "\n",
    "\n",
    "# Encode categorical features\n",
    "label_encoder = LabelEncoder()\n",
    "for feature in features_cat:\n",
    "    df[feature] = label_encoder.fit_transform(df[feature])\n",
    "\n",
    "# Impute missing values\n",
    "imputer = SimpleImputer(strategy='mean')\n",
    "df[features_cat] = imputer.fit_transform(df[features_cat])\n",
    "\n",
    "# Make a column transformer object that scales (using StandardScaler) the non-categorical columns\n",
    "# and one hot encodes (using OneHotEncoder) the three categorical columns\n",
    "preprocess = make_column_transformer(\n",
    "    (StandardScaler(),features_num, ),\n",
    "    (OneHotEncoder(categories=\"auto\",drop=\"first\"),features_cat, )\n",
    ")\n",
    "\n",
    "#Generate the independent variable df\n",
    "X = preprocess.fit_transform(df).toarray()\n",
    "X = imputer.fit_transform(X)\n",
    "\n",
    "\n",
    "# Split the data into training and testing sets\n",
    "X_train, X_test, y_train, y_test = train_test_split(X, y, test_size=0.2, random_state=42)"
   ]
  },
  {
   "cell_type": "markdown",
   "metadata": {},
   "source": [
    "Now we are going to perform some modeling to predict whether a pedestrian accident will occur \n",
    "\n",
    "Model 1 - SDGClassifier"
   ]
  },
  {
   "cell_type": "code",
   "execution_count": 495,
   "metadata": {},
   "outputs": [
    {
     "name": "stdout",
     "output_type": "stream",
     "text": [
      "Fitting 5 folds for each of 12 candidates, totalling 60 fits\n",
      "[CV 2/5] END class_weight=balanced, loss=log_loss, max_iter=1000, penalty=l2, random_state=42;, score=0.598 total time=   5.9s\n",
      "[CV 3/5] END class_weight=balanced, loss=log_loss, max_iter=1000, penalty=l2, random_state=42;, score=0.595 total time=   6.4s\n",
      "[CV 1/5] END class_weight=balanced, loss=log_loss, max_iter=1000, penalty=l2, random_state=42;, score=0.662 total time=   6.4s\n",
      "[CV 1/5] END class_weight=balanced, loss=log_loss, max_iter=1000, penalty=l1, random_state=42;, score=0.702 total time=  10.3s\n",
      "[CV 4/5] END class_weight=balanced, loss=log_loss, max_iter=1000, penalty=l2, random_state=42;, score=0.636 total time=   5.6s\n",
      "[CV 5/5] END class_weight=balanced, loss=log_loss, max_iter=1000, penalty=l1, random_state=42;, score=0.623 total time=  12.5s\n",
      "[CV 5/5] END class_weight=balanced, loss=log_loss, max_iter=1000, penalty=l2, random_state=42;, score=0.567 total time=   6.0s\n",
      "[CV 4/5] END class_weight=balanced, loss=log_loss, max_iter=1000, penalty=l1, random_state=42;, score=0.608 total time=  14.5s\n",
      "[CV 1/5] END class_weight=balanced, loss=log_loss, max_iter=2000, penalty=l1, random_state=42;, score=0.702 total time=   9.5s\n",
      "[CV 3/5] END class_weight=balanced, loss=log_loss, max_iter=1000, penalty=l1, random_state=42;, score=0.643 total time=  17.7s\n",
      "[CV 1/5] END class_weight=balanced, loss=log_loss, max_iter=2000, penalty=l2, random_state=42;, score=0.662 total time=   4.9s\n",
      "[CV 2/5] END class_weight=balanced, loss=log_loss, max_iter=2000, penalty=l2, random_state=42;, score=0.598 total time=   4.1s\n",
      "[CV 3/5] END class_weight=balanced, loss=log_loss, max_iter=2000, penalty=l2, random_state=42;, score=0.595 total time=   5.0s\n",
      "[CV 5/5] END class_weight=balanced, loss=log_loss, max_iter=2000, penalty=l1, random_state=42;, score=0.623 total time=  10.7s\n",
      "[CV 2/5] END class_weight=balanced, loss=log_loss, max_iter=1000, penalty=l1, random_state=42;, score=0.623 total time=  23.9s\n",
      "[CV 4/5] END class_weight=balanced, loss=log_loss, max_iter=2000, penalty=l2, random_state=42;, score=0.636 total time=   5.0s\n",
      "[CV 4/5] END class_weight=balanced, loss=log_loss, max_iter=2000, penalty=l1, random_state=42;, score=0.608 total time=  12.2s\n",
      "[CV 1/5] END class_weight={}, loss=log_loss, max_iter=1000, penalty=l1, random_state=42;, score=0.953 total time=   2.2s\n",
      "[CV 5/5] END class_weight=balanced, loss=log_loss, max_iter=2000, penalty=l2, random_state=42;, score=0.567 total time=   5.4s\n",
      "[CV 2/5] END class_weight={}, loss=log_loss, max_iter=1000, penalty=l1, random_state=42;, score=0.953 total time=   2.3s\n",
      "[CV 3/5] END class_weight={}, loss=log_loss, max_iter=1000, penalty=l1, random_state=42;, score=0.953 total time=   2.0s\n",
      "[CV 1/5] END class_weight={}, loss=log_loss, max_iter=1000, penalty=l2, random_state=42;, score=0.953 total time=   1.6s\n",
      "[CV 4/5] END class_weight={}, loss=log_loss, max_iter=1000, penalty=l1, random_state=42;, score=0.953 total time=   2.0s\n",
      "[CV 5/5] END class_weight={}, loss=log_loss, max_iter=1000, penalty=l1, random_state=42;, score=0.953 total time=   2.0s\n",
      "[CV 3/5] END class_weight=balanced, loss=log_loss, max_iter=2000, penalty=l1, random_state=42;, score=0.643 total time=  15.6s\n",
      "[CV 2/5] END class_weight={}, loss=log_loss, max_iter=1000, penalty=l2, random_state=42;, score=0.953 total time=   1.5s\n",
      "[CV 3/5] END class_weight={}, loss=log_loss, max_iter=1000, penalty=l2, random_state=42;, score=0.953 total time=   1.5s\n",
      "[CV 4/5] END class_weight={}, loss=log_loss, max_iter=1000, penalty=l2, random_state=42;, score=0.953 total time=   1.6s\n",
      "[CV 5/5] END class_weight={}, loss=log_loss, max_iter=1000, penalty=l2, random_state=42;, score=0.953 total time=   1.5s\n",
      "[CV 1/5] END class_weight={}, loss=log_loss, max_iter=2000, penalty=l1, random_state=42;, score=0.953 total time=   2.1s\n",
      "[CV 3/5] END class_weight={}, loss=log_loss, max_iter=2000, penalty=l1, random_state=42;, score=0.953 total time=   1.9s\n",
      "[CV 2/5] END class_weight={}, loss=log_loss, max_iter=2000, penalty=l1, random_state=42;, score=0.953 total time=   2.1s\n",
      "[CV 5/5] END class_weight={}, loss=log_loss, max_iter=2000, penalty=l1, random_state=42;, score=0.953 total time=   1.9s\n",
      "[CV 4/5] END class_weight={}, loss=log_loss, max_iter=2000, penalty=l1, random_state=42;, score=0.953 total time=   1.9s\n",
      "[CV 1/5] END class_weight={}, loss=log_loss, max_iter=2000, penalty=l2, random_state=42;, score=0.953 total time=   1.5s\n",
      "[CV 2/5] END class_weight={}, loss=log_loss, max_iter=2000, penalty=l2, random_state=42;, score=0.953 total time=   1.4s\n",
      "[CV 3/5] END class_weight={}, loss=log_loss, max_iter=2000, penalty=l2, random_state=42;, score=0.953 total time=   1.4s\n",
      "[CV 4/5] END class_weight={}, loss=log_loss, max_iter=2000, penalty=l2, random_state=42;, score=0.953 total time=   1.5s\n",
      "[CV 5/5] END class_weight={}, loss=log_loss, max_iter=2000, penalty=l2, random_state=42;, score=0.953 total time=   1.5s\n",
      "[CV 2/5] END class_weight=balanced, loss=log_loss, max_iter=2000, penalty=l1, random_state=42;, score=0.623 total time=  21.5s\n",
      "[CV 2/5] END class_weight={0: 1, 1: 10}, loss=log_loss, max_iter=1000, penalty=l2, random_state=42;, score=0.796 total time=   4.1s\n",
      "[CV 1/5] END class_weight={0: 1, 1: 10}, loss=log_loss, max_iter=1000, penalty=l2, random_state=42;, score=0.861 total time=   4.8s\n",
      "[CV 4/5] END class_weight={0: 1, 1: 10}, loss=log_loss, max_iter=1000, penalty=l1, random_state=42;, score=0.759 total time=   6.1s\n",
      "[CV 5/5] END class_weight={0: 1, 1: 10}, loss=log_loss, max_iter=1000, penalty=l1, random_state=42;, score=0.738 total time=   6.2s\n",
      "[CV 3/5] END class_weight={0: 1, 1: 10}, loss=log_loss, max_iter=1000, penalty=l2, random_state=42;, score=0.815 total time=   5.0s\n",
      "[CV 3/5] END class_weight={0: 1, 1: 10}, loss=log_loss, max_iter=1000, penalty=l1, random_state=42;, score=0.878 total time=   8.0s\n",
      "[CV 2/5] END class_weight={0: 1, 1: 10}, loss=log_loss, max_iter=1000, penalty=l1, random_state=42;, score=0.836 total time=   8.6s\n",
      "[CV 4/5] END class_weight={0: 1, 1: 10}, loss=log_loss, max_iter=1000, penalty=l2, random_state=42;, score=0.744 total time=   3.9s\n",
      "[CV 5/5] END class_weight={0: 1, 1: 10}, loss=log_loss, max_iter=1000, penalty=l2, random_state=42;, score=0.761 total time=   5.5s\n",
      "[CV 1/5] END class_weight={0: 1, 1: 10}, loss=log_loss, max_iter=1000, penalty=l1, random_state=42;, score=0.859 total time=  12.8s\n",
      "[CV 1/5] END class_weight={0: 1, 1: 10}, loss=log_loss, max_iter=2000, penalty=l2, random_state=42;, score=0.861 total time=   4.8s\n",
      "[CV 4/5] END class_weight={0: 1, 1: 10}, loss=log_loss, max_iter=2000, penalty=l1, random_state=42;, score=0.759 total time=   6.4s\n",
      "[CV 5/5] END class_weight={0: 1, 1: 10}, loss=log_loss, max_iter=2000, penalty=l1, random_state=42;, score=0.738 total time=   6.3s\n",
      "[CV 2/5] END class_weight={0: 1, 1: 10}, loss=log_loss, max_iter=2000, penalty=l2, random_state=42;, score=0.796 total time=   4.0s\n",
      "[CV 3/5] END class_weight={0: 1, 1: 10}, loss=log_loss, max_iter=2000, penalty=l1, random_state=42;, score=0.878 total time=   8.1s\n",
      "[CV 2/5] END class_weight={0: 1, 1: 10}, loss=log_loss, max_iter=2000, penalty=l1, random_state=42;, score=0.836 total time=   8.5s\n",
      "[CV 3/5] END class_weight={0: 1, 1: 10}, loss=log_loss, max_iter=2000, penalty=l2, random_state=42;, score=0.815 total time=   4.3s\n",
      "[CV 4/5] END class_weight={0: 1, 1: 10}, loss=log_loss, max_iter=2000, penalty=l2, random_state=42;, score=0.744 total time=   2.9s\n",
      "[CV 1/5] END class_weight={0: 1, 1: 10}, loss=log_loss, max_iter=2000, penalty=l1, random_state=42;, score=0.859 total time=  11.4s\n",
      "[CV 5/5] END class_weight={0: 1, 1: 10}, loss=log_loss, max_iter=2000, penalty=l2, random_state=42;, score=0.761 total time=   4.0s\n",
      "CPU times: user 1.62 s, sys: 682 ms, total: 2.3 s\n",
      "Wall time: 58.2 s\n"
     ]
    },
    {
     "data": {
      "text/html": [
       "<style>#sk-container-id-6 {color: black;}#sk-container-id-6 pre{padding: 0;}#sk-container-id-6 div.sk-toggleable {background-color: white;}#sk-container-id-6 label.sk-toggleable__label {cursor: pointer;display: block;width: 100%;margin-bottom: 0;padding: 0.3em;box-sizing: border-box;text-align: center;}#sk-container-id-6 label.sk-toggleable__label-arrow:before {content: \"▸\";float: left;margin-right: 0.25em;color: #696969;}#sk-container-id-6 label.sk-toggleable__label-arrow:hover:before {color: black;}#sk-container-id-6 div.sk-estimator:hover label.sk-toggleable__label-arrow:before {color: black;}#sk-container-id-6 div.sk-toggleable__content {max-height: 0;max-width: 0;overflow: hidden;text-align: left;background-color: #f0f8ff;}#sk-container-id-6 div.sk-toggleable__content pre {margin: 0.2em;color: black;border-radius: 0.25em;background-color: #f0f8ff;}#sk-container-id-6 input.sk-toggleable__control:checked~div.sk-toggleable__content {max-height: 200px;max-width: 100%;overflow: auto;}#sk-container-id-6 input.sk-toggleable__control:checked~label.sk-toggleable__label-arrow:before {content: \"▾\";}#sk-container-id-6 div.sk-estimator input.sk-toggleable__control:checked~label.sk-toggleable__label {background-color: #d4ebff;}#sk-container-id-6 div.sk-label input.sk-toggleable__control:checked~label.sk-toggleable__label {background-color: #d4ebff;}#sk-container-id-6 input.sk-hidden--visually {border: 0;clip: rect(1px 1px 1px 1px);clip: rect(1px, 1px, 1px, 1px);height: 1px;margin: -1px;overflow: hidden;padding: 0;position: absolute;width: 1px;}#sk-container-id-6 div.sk-estimator {font-family: monospace;background-color: #f0f8ff;border: 1px dotted black;border-radius: 0.25em;box-sizing: border-box;margin-bottom: 0.5em;}#sk-container-id-6 div.sk-estimator:hover {background-color: #d4ebff;}#sk-container-id-6 div.sk-parallel-item::after {content: \"\";width: 100%;border-bottom: 1px solid gray;flex-grow: 1;}#sk-container-id-6 div.sk-label:hover label.sk-toggleable__label {background-color: #d4ebff;}#sk-container-id-6 div.sk-serial::before {content: \"\";position: absolute;border-left: 1px solid gray;box-sizing: border-box;top: 0;bottom: 0;left: 50%;z-index: 0;}#sk-container-id-6 div.sk-serial {display: flex;flex-direction: column;align-items: center;background-color: white;padding-right: 0.2em;padding-left: 0.2em;position: relative;}#sk-container-id-6 div.sk-item {position: relative;z-index: 1;}#sk-container-id-6 div.sk-parallel {display: flex;align-items: stretch;justify-content: center;background-color: white;position: relative;}#sk-container-id-6 div.sk-item::before, #sk-container-id-6 div.sk-parallel-item::before {content: \"\";position: absolute;border-left: 1px solid gray;box-sizing: border-box;top: 0;bottom: 0;left: 50%;z-index: -1;}#sk-container-id-6 div.sk-parallel-item {display: flex;flex-direction: column;z-index: 1;position: relative;background-color: white;}#sk-container-id-6 div.sk-parallel-item:first-child::after {align-self: flex-end;width: 50%;}#sk-container-id-6 div.sk-parallel-item:last-child::after {align-self: flex-start;width: 50%;}#sk-container-id-6 div.sk-parallel-item:only-child::after {width: 0;}#sk-container-id-6 div.sk-dashed-wrapped {border: 1px dashed gray;margin: 0 0.4em 0.5em 0.4em;box-sizing: border-box;padding-bottom: 0.4em;background-color: white;}#sk-container-id-6 div.sk-label label {font-family: monospace;font-weight: bold;display: inline-block;line-height: 1.2em;}#sk-container-id-6 div.sk-label-container {text-align: center;}#sk-container-id-6 div.sk-container {/* jupyter's `normalize.less` sets `[hidden] { display: none; }` but bootstrap.min.css set `[hidden] { display: none !important; }` so we also need the `!important` here to be able to override the default hidden behavior on the sphinx rendered scikit-learn.org. See: https://github.com/scikit-learn/scikit-learn/issues/21755 */display: inline-block !important;position: relative;}#sk-container-id-6 div.sk-text-repr-fallback {display: none;}</style><div id=\"sk-container-id-6\" class=\"sk-top-container\"><div class=\"sk-text-repr-fallback\"><pre>GridSearchCV(estimator=SGDClassifier(), n_jobs=-1,\n",
       "             param_grid={&#x27;class_weight&#x27;: [&#x27;balanced&#x27;, {}, {0: 1, 1: 10}],\n",
       "                         &#x27;loss&#x27;: [&#x27;log_loss&#x27;], &#x27;max_iter&#x27;: [1000, 2000],\n",
       "                         &#x27;penalty&#x27;: [&#x27;l1&#x27;, &#x27;l2&#x27;], &#x27;random_state&#x27;: [42]},\n",
       "             verbose=3)</pre><b>In a Jupyter environment, please rerun this cell to show the HTML representation or trust the notebook. <br />On GitHub, the HTML representation is unable to render, please try loading this page with nbviewer.org.</b></div><div class=\"sk-container\" hidden><div class=\"sk-item sk-dashed-wrapped\"><div class=\"sk-label-container\"><div class=\"sk-label sk-toggleable\"><input class=\"sk-toggleable__control sk-hidden--visually\" id=\"sk-estimator-id-8\" type=\"checkbox\" ><label for=\"sk-estimator-id-8\" class=\"sk-toggleable__label sk-toggleable__label-arrow\">GridSearchCV</label><div class=\"sk-toggleable__content\"><pre>GridSearchCV(estimator=SGDClassifier(), n_jobs=-1,\n",
       "             param_grid={&#x27;class_weight&#x27;: [&#x27;balanced&#x27;, {}, {0: 1, 1: 10}],\n",
       "                         &#x27;loss&#x27;: [&#x27;log_loss&#x27;], &#x27;max_iter&#x27;: [1000, 2000],\n",
       "                         &#x27;penalty&#x27;: [&#x27;l1&#x27;, &#x27;l2&#x27;], &#x27;random_state&#x27;: [42]},\n",
       "             verbose=3)</pre></div></div></div><div class=\"sk-parallel\"><div class=\"sk-parallel-item\"><div class=\"sk-item\"><div class=\"sk-label-container\"><div class=\"sk-label sk-toggleable\"><input class=\"sk-toggleable__control sk-hidden--visually\" id=\"sk-estimator-id-9\" type=\"checkbox\" ><label for=\"sk-estimator-id-9\" class=\"sk-toggleable__label sk-toggleable__label-arrow\">estimator: SGDClassifier</label><div class=\"sk-toggleable__content\"><pre>SGDClassifier()</pre></div></div></div><div class=\"sk-serial\"><div class=\"sk-item\"><div class=\"sk-estimator sk-toggleable\"><input class=\"sk-toggleable__control sk-hidden--visually\" id=\"sk-estimator-id-10\" type=\"checkbox\" ><label for=\"sk-estimator-id-10\" class=\"sk-toggleable__label sk-toggleable__label-arrow\">SGDClassifier</label><div class=\"sk-toggleable__content\"><pre>SGDClassifier()</pre></div></div></div></div></div></div></div></div></div></div>"
      ],
      "text/plain": [
       "GridSearchCV(estimator=SGDClassifier(), n_jobs=-1,\n",
       "             param_grid={'class_weight': ['balanced', {}, {0: 1, 1: 10}],\n",
       "                         'loss': ['log_loss'], 'max_iter': [1000, 2000],\n",
       "                         'penalty': ['l1', 'l2'], 'random_state': [42]},\n",
       "             verbose=3)"
      ]
     },
     "execution_count": 495,
     "metadata": {},
     "output_type": "execute_result"
    }
   ],
   "source": [
    "%%time\n",
    "from sklearn.model_selection import GridSearchCV\n",
    "from sklearn.linear_model import SGDClassifier\n",
    "#Set up the hyperparameter options in param_grid\n",
    "param_grid = {\n",
    "    'class_weight': [\"balanced\",{},{0:1,1:10}], \n",
    "    'random_state':[42],\n",
    "    'max_iter': [1000, 2000],\n",
    "    'loss': [\"log_loss\"],\n",
    "    \"penalty\": [\"l1\",\"l2\"],\n",
    "}\n",
    "\n",
    "#Do the search\n",
    "gs_clf = GridSearchCV(SGDClassifier(),param_grid, n_jobs = -1, verbose = 3)\n",
    "gs_clf.fit(X_train, np.ravel(y_train))"
   ]
  },
  {
   "cell_type": "code",
   "execution_count": 516,
   "metadata": {},
   "outputs": [
    {
     "data": {
      "text/html": [
       "<style>#sk-container-id-13 {color: black;}#sk-container-id-13 pre{padding: 0;}#sk-container-id-13 div.sk-toggleable {background-color: white;}#sk-container-id-13 label.sk-toggleable__label {cursor: pointer;display: block;width: 100%;margin-bottom: 0;padding: 0.3em;box-sizing: border-box;text-align: center;}#sk-container-id-13 label.sk-toggleable__label-arrow:before {content: \"▸\";float: left;margin-right: 0.25em;color: #696969;}#sk-container-id-13 label.sk-toggleable__label-arrow:hover:before {color: black;}#sk-container-id-13 div.sk-estimator:hover label.sk-toggleable__label-arrow:before {color: black;}#sk-container-id-13 div.sk-toggleable__content {max-height: 0;max-width: 0;overflow: hidden;text-align: left;background-color: #f0f8ff;}#sk-container-id-13 div.sk-toggleable__content pre {margin: 0.2em;color: black;border-radius: 0.25em;background-color: #f0f8ff;}#sk-container-id-13 input.sk-toggleable__control:checked~div.sk-toggleable__content {max-height: 200px;max-width: 100%;overflow: auto;}#sk-container-id-13 input.sk-toggleable__control:checked~label.sk-toggleable__label-arrow:before {content: \"▾\";}#sk-container-id-13 div.sk-estimator input.sk-toggleable__control:checked~label.sk-toggleable__label {background-color: #d4ebff;}#sk-container-id-13 div.sk-label input.sk-toggleable__control:checked~label.sk-toggleable__label {background-color: #d4ebff;}#sk-container-id-13 input.sk-hidden--visually {border: 0;clip: rect(1px 1px 1px 1px);clip: rect(1px, 1px, 1px, 1px);height: 1px;margin: -1px;overflow: hidden;padding: 0;position: absolute;width: 1px;}#sk-container-id-13 div.sk-estimator {font-family: monospace;background-color: #f0f8ff;border: 1px dotted black;border-radius: 0.25em;box-sizing: border-box;margin-bottom: 0.5em;}#sk-container-id-13 div.sk-estimator:hover {background-color: #d4ebff;}#sk-container-id-13 div.sk-parallel-item::after {content: \"\";width: 100%;border-bottom: 1px solid gray;flex-grow: 1;}#sk-container-id-13 div.sk-label:hover label.sk-toggleable__label {background-color: #d4ebff;}#sk-container-id-13 div.sk-serial::before {content: \"\";position: absolute;border-left: 1px solid gray;box-sizing: border-box;top: 0;bottom: 0;left: 50%;z-index: 0;}#sk-container-id-13 div.sk-serial {display: flex;flex-direction: column;align-items: center;background-color: white;padding-right: 0.2em;padding-left: 0.2em;position: relative;}#sk-container-id-13 div.sk-item {position: relative;z-index: 1;}#sk-container-id-13 div.sk-parallel {display: flex;align-items: stretch;justify-content: center;background-color: white;position: relative;}#sk-container-id-13 div.sk-item::before, #sk-container-id-13 div.sk-parallel-item::before {content: \"\";position: absolute;border-left: 1px solid gray;box-sizing: border-box;top: 0;bottom: 0;left: 50%;z-index: -1;}#sk-container-id-13 div.sk-parallel-item {display: flex;flex-direction: column;z-index: 1;position: relative;background-color: white;}#sk-container-id-13 div.sk-parallel-item:first-child::after {align-self: flex-end;width: 50%;}#sk-container-id-13 div.sk-parallel-item:last-child::after {align-self: flex-start;width: 50%;}#sk-container-id-13 div.sk-parallel-item:only-child::after {width: 0;}#sk-container-id-13 div.sk-dashed-wrapped {border: 1px dashed gray;margin: 0 0.4em 0.5em 0.4em;box-sizing: border-box;padding-bottom: 0.4em;background-color: white;}#sk-container-id-13 div.sk-label label {font-family: monospace;font-weight: bold;display: inline-block;line-height: 1.2em;}#sk-container-id-13 div.sk-label-container {text-align: center;}#sk-container-id-13 div.sk-container {/* jupyter's `normalize.less` sets `[hidden] { display: none; }` but bootstrap.min.css set `[hidden] { display: none !important; }` so we also need the `!important` here to be able to override the default hidden behavior on the sphinx rendered scikit-learn.org. See: https://github.com/scikit-learn/scikit-learn/issues/21755 */display: inline-block !important;position: relative;}#sk-container-id-13 div.sk-text-repr-fallback {display: none;}</style><div id=\"sk-container-id-13\" class=\"sk-top-container\"><div class=\"sk-text-repr-fallback\"><pre>SGDClassifier(class_weight={}, loss=&#x27;log_loss&#x27;, penalty=&#x27;l1&#x27;, random_state=42)</pre><b>In a Jupyter environment, please rerun this cell to show the HTML representation or trust the notebook. <br />On GitHub, the HTML representation is unable to render, please try loading this page with nbviewer.org.</b></div><div class=\"sk-container\" hidden><div class=\"sk-item\"><div class=\"sk-estimator sk-toggleable\"><input class=\"sk-toggleable__control sk-hidden--visually\" id=\"sk-estimator-id-17\" type=\"checkbox\" checked><label for=\"sk-estimator-id-17\" class=\"sk-toggleable__label sk-toggleable__label-arrow\">SGDClassifier</label><div class=\"sk-toggleable__content\"><pre>SGDClassifier(class_weight={}, loss=&#x27;log_loss&#x27;, penalty=&#x27;l1&#x27;, random_state=42)</pre></div></div></div></div></div>"
      ],
      "text/plain": [
       "SGDClassifier(class_weight={}, loss='log_loss', penalty='l1', random_state=42)"
      ]
     },
     "execution_count": 516,
     "metadata": {},
     "output_type": "execute_result"
    }
   ],
   "source": [
    "model_1 = SGDClassifier(penalty = 'l1',random_state=42, max_iter=1000,loss=\"log_loss\", class_weight = {})\n",
    "model_1.fit(X_train, np.ravel(y_train))"
   ]
  },
  {
   "cell_type": "code",
   "execution_count": 539,
   "metadata": {},
   "outputs": [
    {
     "name": "stdout",
     "output_type": "stream",
     "text": [
      "Confusion Matrix: \n",
      " [[19606   125]\n",
      " [ 1025     1]]\n",
      "Training accuracy:  0.9468593797049082\n",
      "Testing  accuracy:  0.9445970034205329\n",
      "Precision:  0.007936507936507936\n",
      "Recall:  0.0009746588693957114\n",
      "F1-Score:  0.0017361111111111108\n",
      "AUC:  0.6102700226427515\n",
      "Average Precision:  0.0762891829237002\n"
     ]
    }
   ],
   "source": [
    "from sklearn.metrics import confusion_matrix\n",
    "from sklearn.metrics import f1_score,recall_score,precision_score\n",
    "from sklearn.metrics import average_precision_score,roc_auc_score\n",
    "\n",
    "y_test_pred = model_1.predict(X_test)\n",
    "cfm = confusion_matrix(y_test,y_test_pred)\n",
    "\n",
    "accuracy_training = model_1.score(X_train,y_train)\n",
    "accuracy_testing = model_1.score(X_test,y_test)\n",
    "recall = recall_score(y_test,y_test_pred)\n",
    "precision = precision_score(y_test,y_test_pred) \n",
    "f1 = f1_score(y_test,y_test_pred)\n",
    "\n",
    "prediction_probabilities_test = model_1.predict_proba(X_test)\n",
    "y_score = prediction_probabilities_test[:,1]\n",
    "ap = average_precision_score(y_test, y_score)\n",
    "auc = roc_auc_score(y_test,y_score)\n",
    "\n",
    "print(\"Confusion Matrix: \\n\",cfm)\n",
    "print(\"Training accuracy: \",accuracy_training)\n",
    "print(\"Testing  accuracy: \",accuracy_testing)\n",
    "print(\"Precision: \",precision)\n",
    "print(\"Recall: \",recall)\n",
    "print(\"F1-Score: \",f1)\n",
    "print(\"AUC: \",auc)\n",
    "print(\"Average Precision: \",ap)"
   ]
  },
  {
   "cell_type": "code",
   "execution_count": 540,
   "metadata": {},
   "outputs": [
    {
     "data": {
      "text/html": [
       "<div>\n",
       "<style scoped>\n",
       "    .dataframe tbody tr th:only-of-type {\n",
       "        vertical-align: middle;\n",
       "    }\n",
       "\n",
       "    .dataframe tbody tr th {\n",
       "        vertical-align: top;\n",
       "    }\n",
       "\n",
       "    .dataframe thead th {\n",
       "        text-align: right;\n",
       "    }\n",
       "</style>\n",
       "<table border=\"1\" class=\"dataframe\">\n",
       "  <thead>\n",
       "    <tr style=\"text-align: right;\">\n",
       "      <th></th>\n",
       "      <th>accuracy</th>\n",
       "      <th>precision</th>\n",
       "      <th>recall</th>\n",
       "      <th>f1_score</th>\n",
       "      <th>AUC</th>\n",
       "      <th>AP</th>\n",
       "    </tr>\n",
       "    <tr>\n",
       "      <th>Model</th>\n",
       "      <th></th>\n",
       "      <th></th>\n",
       "      <th></th>\n",
       "      <th></th>\n",
       "      <th></th>\n",
       "      <th></th>\n",
       "    </tr>\n",
       "  </thead>\n",
       "  <tbody>\n",
       "    <tr>\n",
       "      <th>1</th>\n",
       "      <td>0.944597</td>\n",
       "      <td>0.007937</td>\n",
       "      <td>0.000975</td>\n",
       "      <td>0.001736</td>\n",
       "      <td>0.610270</td>\n",
       "      <td>0.076289</td>\n",
       "    </tr>\n",
       "    <tr>\n",
       "      <th>2</th>\n",
       "      <td>0.884665</td>\n",
       "      <td>0.120843</td>\n",
       "      <td>0.212476</td>\n",
       "      <td>0.154064</td>\n",
       "      <td>0.625599</td>\n",
       "      <td>0.081058</td>\n",
       "    </tr>\n",
       "    <tr>\n",
       "      <th>3</th>\n",
       "      <td>0.888471</td>\n",
       "      <td>0.115683</td>\n",
       "      <td>0.189084</td>\n",
       "      <td>0.143544</td>\n",
       "      <td>0.633997</td>\n",
       "      <td>0.081028</td>\n",
       "    </tr>\n",
       "    <tr>\n",
       "      <th>4</th>\n",
       "      <td>0.894493</td>\n",
       "      <td>0.871752</td>\n",
       "      <td>0.894493</td>\n",
       "      <td>0.881544</td>\n",
       "      <td>0.561068</td>\n",
       "      <td>0.582809</td>\n",
       "    </tr>\n",
       "  </tbody>\n",
       "</table>\n",
       "</div>"
      ],
      "text/plain": [
       "       accuracy  precision    recall  f1_score       AUC        AP\n",
       "Model                                                             \n",
       "1      0.944597   0.007937  0.000975  0.001736  0.610270  0.076289\n",
       "2      0.884665   0.120843  0.212476  0.154064  0.625599  0.081058\n",
       "3      0.888471   0.115683  0.189084  0.143544  0.633997  0.081028\n",
       "4      0.894493   0.871752  0.894493  0.881544  0.561068  0.582809"
      ]
     },
     "execution_count": 540,
     "metadata": {},
     "output_type": "execute_result"
    }
   ],
   "source": [
    "model1_results = [accuracy_testing, precision, recall, f1, auc, ap]\n",
    "results_df.iloc[0,:] = model1_results\n",
    "results_df"
   ]
  },
  {
   "cell_type": "markdown",
   "metadata": {},
   "source": [
    "Model 2 - Random Forest Classifier"
   ]
  },
  {
   "cell_type": "code",
   "execution_count": 571,
   "metadata": {},
   "outputs": [
    {
     "data": {
      "text/html": [
       "<style>#sk-container-id-21 {color: black;}#sk-container-id-21 pre{padding: 0;}#sk-container-id-21 div.sk-toggleable {background-color: white;}#sk-container-id-21 label.sk-toggleable__label {cursor: pointer;display: block;width: 100%;margin-bottom: 0;padding: 0.3em;box-sizing: border-box;text-align: center;}#sk-container-id-21 label.sk-toggleable__label-arrow:before {content: \"▸\";float: left;margin-right: 0.25em;color: #696969;}#sk-container-id-21 label.sk-toggleable__label-arrow:hover:before {color: black;}#sk-container-id-21 div.sk-estimator:hover label.sk-toggleable__label-arrow:before {color: black;}#sk-container-id-21 div.sk-toggleable__content {max-height: 0;max-width: 0;overflow: hidden;text-align: left;background-color: #f0f8ff;}#sk-container-id-21 div.sk-toggleable__content pre {margin: 0.2em;color: black;border-radius: 0.25em;background-color: #f0f8ff;}#sk-container-id-21 input.sk-toggleable__control:checked~div.sk-toggleable__content {max-height: 200px;max-width: 100%;overflow: auto;}#sk-container-id-21 input.sk-toggleable__control:checked~label.sk-toggleable__label-arrow:before {content: \"▾\";}#sk-container-id-21 div.sk-estimator input.sk-toggleable__control:checked~label.sk-toggleable__label {background-color: #d4ebff;}#sk-container-id-21 div.sk-label input.sk-toggleable__control:checked~label.sk-toggleable__label {background-color: #d4ebff;}#sk-container-id-21 input.sk-hidden--visually {border: 0;clip: rect(1px 1px 1px 1px);clip: rect(1px, 1px, 1px, 1px);height: 1px;margin: -1px;overflow: hidden;padding: 0;position: absolute;width: 1px;}#sk-container-id-21 div.sk-estimator {font-family: monospace;background-color: #f0f8ff;border: 1px dotted black;border-radius: 0.25em;box-sizing: border-box;margin-bottom: 0.5em;}#sk-container-id-21 div.sk-estimator:hover {background-color: #d4ebff;}#sk-container-id-21 div.sk-parallel-item::after {content: \"\";width: 100%;border-bottom: 1px solid gray;flex-grow: 1;}#sk-container-id-21 div.sk-label:hover label.sk-toggleable__label {background-color: #d4ebff;}#sk-container-id-21 div.sk-serial::before {content: \"\";position: absolute;border-left: 1px solid gray;box-sizing: border-box;top: 0;bottom: 0;left: 50%;z-index: 0;}#sk-container-id-21 div.sk-serial {display: flex;flex-direction: column;align-items: center;background-color: white;padding-right: 0.2em;padding-left: 0.2em;position: relative;}#sk-container-id-21 div.sk-item {position: relative;z-index: 1;}#sk-container-id-21 div.sk-parallel {display: flex;align-items: stretch;justify-content: center;background-color: white;position: relative;}#sk-container-id-21 div.sk-item::before, #sk-container-id-21 div.sk-parallel-item::before {content: \"\";position: absolute;border-left: 1px solid gray;box-sizing: border-box;top: 0;bottom: 0;left: 50%;z-index: -1;}#sk-container-id-21 div.sk-parallel-item {display: flex;flex-direction: column;z-index: 1;position: relative;background-color: white;}#sk-container-id-21 div.sk-parallel-item:first-child::after {align-self: flex-end;width: 50%;}#sk-container-id-21 div.sk-parallel-item:last-child::after {align-self: flex-start;width: 50%;}#sk-container-id-21 div.sk-parallel-item:only-child::after {width: 0;}#sk-container-id-21 div.sk-dashed-wrapped {border: 1px dashed gray;margin: 0 0.4em 0.5em 0.4em;box-sizing: border-box;padding-bottom: 0.4em;background-color: white;}#sk-container-id-21 div.sk-label label {font-family: monospace;font-weight: bold;display: inline-block;line-height: 1.2em;}#sk-container-id-21 div.sk-label-container {text-align: center;}#sk-container-id-21 div.sk-container {/* jupyter's `normalize.less` sets `[hidden] { display: none; }` but bootstrap.min.css set `[hidden] { display: none !important; }` so we also need the `!important` here to be able to override the default hidden behavior on the sphinx rendered scikit-learn.org. See: https://github.com/scikit-learn/scikit-learn/issues/21755 */display: inline-block !important;position: relative;}#sk-container-id-21 div.sk-text-repr-fallback {display: none;}</style><div id=\"sk-container-id-21\" class=\"sk-top-container\"><div class=\"sk-text-repr-fallback\"><pre>RandomForestClassifier(class_weight={0: 1, 1: 10}, max_depth=6,\n",
       "                       min_samples_leaf=500, min_samples_split=4000,\n",
       "                       n_estimators=30, random_state=42)</pre><b>In a Jupyter environment, please rerun this cell to show the HTML representation or trust the notebook. <br />On GitHub, the HTML representation is unable to render, please try loading this page with nbviewer.org.</b></div><div class=\"sk-container\" hidden><div class=\"sk-item\"><div class=\"sk-estimator sk-toggleable\"><input class=\"sk-toggleable__control sk-hidden--visually\" id=\"sk-estimator-id-27\" type=\"checkbox\" checked><label for=\"sk-estimator-id-27\" class=\"sk-toggleable__label sk-toggleable__label-arrow\">RandomForestClassifier</label><div class=\"sk-toggleable__content\"><pre>RandomForestClassifier(class_weight={0: 1, 1: 10}, max_depth=6,\n",
       "                       min_samples_leaf=500, min_samples_split=4000,\n",
       "                       n_estimators=30, random_state=42)</pre></div></div></div></div></div>"
      ],
      "text/plain": [
       "RandomForestClassifier(class_weight={0: 1, 1: 10}, max_depth=6,\n",
       "                       min_samples_leaf=500, min_samples_split=4000,\n",
       "                       n_estimators=30, random_state=42)"
      ]
     },
     "execution_count": 571,
     "metadata": {},
     "output_type": "execute_result"
    }
   ],
   "source": [
    "from sklearn.ensemble import RandomForestClassifier\n",
    "model_2 = RandomForestClassifier(random_state=42,n_estimators=30,max_depth=6,min_samples_leaf=500,min_samples_split=4000, class_weight={0:1,1:10})\n",
    "model_2.fit(X_train,y_train)"
   ]
  },
  {
   "cell_type": "code",
   "execution_count": 572,
   "metadata": {},
   "outputs": [
    {
     "name": "stdout",
     "output_type": "stream",
     "text": [
      "Feature Importance:\n",
      "Density: 0.053676115846625655\n",
      "Population: 0.04538313687035923\n",
      "crash_hour_category: 0.03416675077749989\n",
      "crash_day_of_week: 0.011248910613544948\n",
      "vis_level: 0.002872326449690214\n",
      "icon: 0.0006437265081096342\n",
      "wind_level: 0.0004969830598444295\n",
      "zip_code: 0.00012495849317650231\n",
      "contributing_factor: 6.736382949897684e-05\n"
     ]
    }
   ],
   "source": [
    "feature_importances = model_2.feature_importances_\n",
    "feature_names = features_cat + features_num\n",
    "feature_importance_dict = dict(zip(feature_names, feature_importances))\n",
    "sorted_feature_importance = sorted(feature_importance_dict.items(), key=lambda x: x[1], reverse=True)\n",
    "print(\"Feature Importance:\")\n",
    "for feature, importance in sorted_feature_importance:\n",
    "    print(f\"{feature}: {importance}\")\n"
   ]
  },
  {
   "cell_type": "code",
   "execution_count": 574,
   "metadata": {},
   "outputs": [
    {
     "data": {
      "text/html": [
       "<div>\n",
       "<style scoped>\n",
       "    .dataframe tbody tr th:only-of-type {\n",
       "        vertical-align: middle;\n",
       "    }\n",
       "\n",
       "    .dataframe tbody tr th {\n",
       "        vertical-align: top;\n",
       "    }\n",
       "\n",
       "    .dataframe thead th {\n",
       "        text-align: right;\n",
       "    }\n",
       "</style>\n",
       "<table border=\"1\" class=\"dataframe\">\n",
       "  <thead>\n",
       "    <tr style=\"text-align: right;\">\n",
       "      <th></th>\n",
       "      <th>features</th>\n",
       "      <th>importance</th>\n",
       "    </tr>\n",
       "  </thead>\n",
       "  <tbody>\n",
       "    <tr>\n",
       "      <th>0</th>\n",
       "      <td>Density</td>\n",
       "      <td>0.053676</td>\n",
       "    </tr>\n",
       "    <tr>\n",
       "      <th>1</th>\n",
       "      <td>Population</td>\n",
       "      <td>0.045383</td>\n",
       "    </tr>\n",
       "    <tr>\n",
       "      <th>2</th>\n",
       "      <td>crash_hour_category</td>\n",
       "      <td>0.034167</td>\n",
       "    </tr>\n",
       "    <tr>\n",
       "      <th>3</th>\n",
       "      <td>crash_day_of_week</td>\n",
       "      <td>0.011249</td>\n",
       "    </tr>\n",
       "    <tr>\n",
       "      <th>4</th>\n",
       "      <td>vis_level</td>\n",
       "      <td>0.002872</td>\n",
       "    </tr>\n",
       "    <tr>\n",
       "      <th>5</th>\n",
       "      <td>icon</td>\n",
       "      <td>0.000644</td>\n",
       "    </tr>\n",
       "    <tr>\n",
       "      <th>6</th>\n",
       "      <td>wind_level</td>\n",
       "      <td>0.000497</td>\n",
       "    </tr>\n",
       "    <tr>\n",
       "      <th>7</th>\n",
       "      <td>zip_code</td>\n",
       "      <td>0.000125</td>\n",
       "    </tr>\n",
       "    <tr>\n",
       "      <th>8</th>\n",
       "      <td>contributing_factor</td>\n",
       "      <td>0.000067</td>\n",
       "    </tr>\n",
       "  </tbody>\n",
       "</table>\n",
       "</div>"
      ],
      "text/plain": [
       "              features  importance\n",
       "0              Density    0.053676\n",
       "1           Population    0.045383\n",
       "2  crash_hour_category    0.034167\n",
       "3    crash_day_of_week    0.011249\n",
       "4            vis_level    0.002872\n",
       "5                 icon    0.000644\n",
       "6           wind_level    0.000497\n",
       "7             zip_code    0.000125\n",
       "8  contributing_factor    0.000067"
      ]
     },
     "execution_count": 574,
     "metadata": {},
     "output_type": "execute_result"
    }
   ],
   "source": [
    "data_feature_p = pd.DataFrame(sorted_feature_importance, columns = ['features','importance'])\n",
    "data_feature_p"
   ]
  },
  {
   "cell_type": "code",
   "execution_count": null,
   "metadata": {},
   "outputs": [],
   "source": []
  },
  {
   "cell_type": "code",
   "execution_count": 537,
   "metadata": {},
   "outputs": [
    {
     "name": "stdout",
     "output_type": "stream",
     "text": [
      "Confusion Matrix: \n",
      " [[18145  1586]\n",
      " [  808   218]]\n",
      "Training accuracy:  0.8855886781090033\n",
      "Testing  accuracy:  0.8846654140771788\n",
      "Precision:  0.12084257206208426\n",
      "Recall:  0.2124756335282651\n",
      "F1-Score:  0.1540636042402827\n",
      "AUC:  0.6255992761511728\n",
      "Average Precision:  0.08105792487069163\n"
     ]
    }
   ],
   "source": [
    "y_test_pred = model_2.predict(X_test)\n",
    "cfm = confusion_matrix(y_test,y_test_pred)\n",
    "\n",
    "accuracy_training = model_2.score(X_train,y_train)\n",
    "accuracy_testing = model_2.score(X_test,y_test)\n",
    "recall = recall_score(y_test,y_test_pred)\n",
    "precision = precision_score(y_test,y_test_pred) \n",
    "f1 = f1_score(y_test,y_test_pred)\n",
    "\n",
    "prediction_probabilities_test = model_2.predict_proba(X_test)\n",
    "y_score = prediction_probabilities_test[:,1]\n",
    "ap = average_precision_score(y_test, y_score)\n",
    "auc = roc_auc_score(y_test,y_score)\n",
    "\n",
    "print(\"Confusion Matrix: \\n\",cfm)\n",
    "print(\"Training accuracy: \",accuracy_training)\n",
    "print(\"Testing  accuracy: \",accuracy_testing)\n",
    "print(\"Precision: \",precision)\n",
    "print(\"Recall: \",recall)\n",
    "print(\"F1-Score: \",f1)\n",
    "print(\"AUC: \",auc)\n",
    "print(\"Average Precision: \",ap)"
   ]
  },
  {
   "cell_type": "code",
   "execution_count": 538,
   "metadata": {},
   "outputs": [
    {
     "data": {
      "text/html": [
       "<div>\n",
       "<style scoped>\n",
       "    .dataframe tbody tr th:only-of-type {\n",
       "        vertical-align: middle;\n",
       "    }\n",
       "\n",
       "    .dataframe tbody tr th {\n",
       "        vertical-align: top;\n",
       "    }\n",
       "\n",
       "    .dataframe thead th {\n",
       "        text-align: right;\n",
       "    }\n",
       "</style>\n",
       "<table border=\"1\" class=\"dataframe\">\n",
       "  <thead>\n",
       "    <tr style=\"text-align: right;\">\n",
       "      <th></th>\n",
       "      <th>accuracy</th>\n",
       "      <th>precision</th>\n",
       "      <th>recall</th>\n",
       "      <th>f1_score</th>\n",
       "      <th>AUC</th>\n",
       "      <th>AP</th>\n",
       "    </tr>\n",
       "    <tr>\n",
       "      <th>Model</th>\n",
       "      <th></th>\n",
       "      <th></th>\n",
       "      <th></th>\n",
       "      <th></th>\n",
       "      <th></th>\n",
       "      <th></th>\n",
       "    </tr>\n",
       "  </thead>\n",
       "  <tbody>\n",
       "    <tr>\n",
       "      <th>1</th>\n",
       "      <td>0.000000</td>\n",
       "      <td>0.000000</td>\n",
       "      <td>0.000000</td>\n",
       "      <td>0.000000</td>\n",
       "      <td>0.000000</td>\n",
       "      <td>0.000000</td>\n",
       "    </tr>\n",
       "    <tr>\n",
       "      <th>2</th>\n",
       "      <td>0.884665</td>\n",
       "      <td>0.120843</td>\n",
       "      <td>0.212476</td>\n",
       "      <td>0.154064</td>\n",
       "      <td>0.625599</td>\n",
       "      <td>0.081058</td>\n",
       "    </tr>\n",
       "    <tr>\n",
       "      <th>3</th>\n",
       "      <td>0.888471</td>\n",
       "      <td>0.115683</td>\n",
       "      <td>0.189084</td>\n",
       "      <td>0.143544</td>\n",
       "      <td>0.633997</td>\n",
       "      <td>0.081028</td>\n",
       "    </tr>\n",
       "    <tr>\n",
       "      <th>4</th>\n",
       "      <td>0.894493</td>\n",
       "      <td>0.871752</td>\n",
       "      <td>0.894493</td>\n",
       "      <td>0.881544</td>\n",
       "      <td>0.561068</td>\n",
       "      <td>0.582809</td>\n",
       "    </tr>\n",
       "  </tbody>\n",
       "</table>\n",
       "</div>"
      ],
      "text/plain": [
       "       accuracy  precision    recall  f1_score       AUC        AP\n",
       "Model                                                             \n",
       "1      0.000000   0.000000  0.000000  0.000000  0.000000  0.000000\n",
       "2      0.884665   0.120843  0.212476  0.154064  0.625599  0.081058\n",
       "3      0.888471   0.115683  0.189084  0.143544  0.633997  0.081028\n",
       "4      0.894493   0.871752  0.894493  0.881544  0.561068  0.582809"
      ]
     },
     "execution_count": 538,
     "metadata": {},
     "output_type": "execute_result"
    }
   ],
   "source": [
    "model2_results = [accuracy_testing, precision, recall, f1, auc, ap]\n",
    "results_df.iloc[1,:] = model2_results\n",
    "results_df"
   ]
  },
  {
   "cell_type": "markdown",
   "metadata": {},
   "source": [
    "Model 3 - Gradient Boosting Classifier"
   ]
  },
  {
   "cell_type": "code",
   "execution_count": 523,
   "metadata": {},
   "outputs": [
    {
     "data": {
      "text/html": [
       "<style>#sk-container-id-15 {color: black;}#sk-container-id-15 pre{padding: 0;}#sk-container-id-15 div.sk-toggleable {background-color: white;}#sk-container-id-15 label.sk-toggleable__label {cursor: pointer;display: block;width: 100%;margin-bottom: 0;padding: 0.3em;box-sizing: border-box;text-align: center;}#sk-container-id-15 label.sk-toggleable__label-arrow:before {content: \"▸\";float: left;margin-right: 0.25em;color: #696969;}#sk-container-id-15 label.sk-toggleable__label-arrow:hover:before {color: black;}#sk-container-id-15 div.sk-estimator:hover label.sk-toggleable__label-arrow:before {color: black;}#sk-container-id-15 div.sk-toggleable__content {max-height: 0;max-width: 0;overflow: hidden;text-align: left;background-color: #f0f8ff;}#sk-container-id-15 div.sk-toggleable__content pre {margin: 0.2em;color: black;border-radius: 0.25em;background-color: #f0f8ff;}#sk-container-id-15 input.sk-toggleable__control:checked~div.sk-toggleable__content {max-height: 200px;max-width: 100%;overflow: auto;}#sk-container-id-15 input.sk-toggleable__control:checked~label.sk-toggleable__label-arrow:before {content: \"▾\";}#sk-container-id-15 div.sk-estimator input.sk-toggleable__control:checked~label.sk-toggleable__label {background-color: #d4ebff;}#sk-container-id-15 div.sk-label input.sk-toggleable__control:checked~label.sk-toggleable__label {background-color: #d4ebff;}#sk-container-id-15 input.sk-hidden--visually {border: 0;clip: rect(1px 1px 1px 1px);clip: rect(1px, 1px, 1px, 1px);height: 1px;margin: -1px;overflow: hidden;padding: 0;position: absolute;width: 1px;}#sk-container-id-15 div.sk-estimator {font-family: monospace;background-color: #f0f8ff;border: 1px dotted black;border-radius: 0.25em;box-sizing: border-box;margin-bottom: 0.5em;}#sk-container-id-15 div.sk-estimator:hover {background-color: #d4ebff;}#sk-container-id-15 div.sk-parallel-item::after {content: \"\";width: 100%;border-bottom: 1px solid gray;flex-grow: 1;}#sk-container-id-15 div.sk-label:hover label.sk-toggleable__label {background-color: #d4ebff;}#sk-container-id-15 div.sk-serial::before {content: \"\";position: absolute;border-left: 1px solid gray;box-sizing: border-box;top: 0;bottom: 0;left: 50%;z-index: 0;}#sk-container-id-15 div.sk-serial {display: flex;flex-direction: column;align-items: center;background-color: white;padding-right: 0.2em;padding-left: 0.2em;position: relative;}#sk-container-id-15 div.sk-item {position: relative;z-index: 1;}#sk-container-id-15 div.sk-parallel {display: flex;align-items: stretch;justify-content: center;background-color: white;position: relative;}#sk-container-id-15 div.sk-item::before, #sk-container-id-15 div.sk-parallel-item::before {content: \"\";position: absolute;border-left: 1px solid gray;box-sizing: border-box;top: 0;bottom: 0;left: 50%;z-index: -1;}#sk-container-id-15 div.sk-parallel-item {display: flex;flex-direction: column;z-index: 1;position: relative;background-color: white;}#sk-container-id-15 div.sk-parallel-item:first-child::after {align-self: flex-end;width: 50%;}#sk-container-id-15 div.sk-parallel-item:last-child::after {align-self: flex-start;width: 50%;}#sk-container-id-15 div.sk-parallel-item:only-child::after {width: 0;}#sk-container-id-15 div.sk-dashed-wrapped {border: 1px dashed gray;margin: 0 0.4em 0.5em 0.4em;box-sizing: border-box;padding-bottom: 0.4em;background-color: white;}#sk-container-id-15 div.sk-label label {font-family: monospace;font-weight: bold;display: inline-block;line-height: 1.2em;}#sk-container-id-15 div.sk-label-container {text-align: center;}#sk-container-id-15 div.sk-container {/* jupyter's `normalize.less` sets `[hidden] { display: none; }` but bootstrap.min.css set `[hidden] { display: none !important; }` so we also need the `!important` here to be able to override the default hidden behavior on the sphinx rendered scikit-learn.org. See: https://github.com/scikit-learn/scikit-learn/issues/21755 */display: inline-block !important;position: relative;}#sk-container-id-15 div.sk-text-repr-fallback {display: none;}</style><div id=\"sk-container-id-15\" class=\"sk-top-container\"><div class=\"sk-text-repr-fallback\"><pre>GradientBoostingClassifier(max_depth=8, min_samples_leaf=100,\n",
       "                           min_samples_split=100, n_estimators=400,\n",
       "                           subsample=0.6)</pre><b>In a Jupyter environment, please rerun this cell to show the HTML representation or trust the notebook. <br />On GitHub, the HTML representation is unable to render, please try loading this page with nbviewer.org.</b></div><div class=\"sk-container\" hidden><div class=\"sk-item\"><div class=\"sk-estimator sk-toggleable\"><input class=\"sk-toggleable__control sk-hidden--visually\" id=\"sk-estimator-id-19\" type=\"checkbox\" checked><label for=\"sk-estimator-id-19\" class=\"sk-toggleable__label sk-toggleable__label-arrow\">GradientBoostingClassifier</label><div class=\"sk-toggleable__content\"><pre>GradientBoostingClassifier(max_depth=8, min_samples_leaf=100,\n",
       "                           min_samples_split=100, n_estimators=400,\n",
       "                           subsample=0.6)</pre></div></div></div></div></div>"
      ],
      "text/plain": [
       "GradientBoostingClassifier(max_depth=8, min_samples_leaf=100,\n",
       "                           min_samples_split=100, n_estimators=400,\n",
       "                           subsample=0.6)"
      ]
     },
     "execution_count": 523,
     "metadata": {},
     "output_type": "execute_result"
    }
   ],
   "source": [
    "from sklearn.ensemble import GradientBoostingClassifier\n",
    "\n",
    "sample_weight = np.array([4 if i == 1 else 1 for i in y_train])\n",
    "\n",
    "\n",
    "model_3 = GradientBoostingClassifier(min_samples_split=100,\n",
    "                                     max_depth=8,\n",
    "                                 min_samples_leaf=100,\n",
    "                                 n_estimators=400,\n",
    "                                 subsample=0.6)\n",
    "\n",
    "\n",
    "model_3.fit(X_train,y_train,sample_weight=sample_weight)"
   ]
  },
  {
   "cell_type": "code",
   "execution_count": 535,
   "metadata": {},
   "outputs": [
    {
     "name": "stdout",
     "output_type": "stream",
     "text": [
      "Training accuracy:  0.8889732008431196\n",
      "Testing  accuracy:  0.8884713590595944\n",
      "confusion matrix:\n",
      "[[18248  1483]\n",
      " [  832   194]]\n",
      "precision:  0.11568276684555755\n",
      "recall:  0.18908382066276802\n",
      "f1 score:  0.14354421013688493\n",
      "auc 0.6339969964442809\n",
      "ap 0.0810284556024716\n"
     ]
    }
   ],
   "source": [
    "#Calculate and print metrics\n",
    "from sklearn.metrics import confusion_matrix\n",
    "from sklearn.metrics import f1_score,recall_score,precision_score\n",
    "from sklearn.metrics import average_precision_score,roc_auc_score\n",
    "\n",
    "y_test_pred = model_3.predict(X_test)\n",
    "cfm = confusion_matrix(y_test,y_test_pred)\n",
    "\n",
    "accuracy_training = model_3.score(X_train,y_train)\n",
    "accuracy_testing = model_3.score(X_test,y_test)\n",
    "recall = recall_score(y_test,y_test_pred)\n",
    "precision = precision_score(y_test,y_test_pred) \n",
    "f1 = f1_score(y_test,y_test_pred)\n",
    "\n",
    "prediction_probabilities_test = model_3.predict_proba(X_test)\n",
    "y_score = prediction_probabilities_test[:,1]\n",
    "ap = average_precision_score(y_test, y_score)\n",
    "auc = roc_auc_score(y_test,y_score)\n",
    "\n",
    "\n",
    "print(\"Training accuracy: \",accuracy_training)\n",
    "print(\"Testing  accuracy: \",accuracy_testing)\n",
    "print(\"confusion matrix:\")\n",
    "print(cfm)\n",
    "\n",
    "print(\"precision: \",precision)\n",
    "print(\"recall: \",recall)\n",
    "print(\"f1 score: \",f1)\n",
    "print(\"auc\",auc)\n",
    "print(\"ap\",ap)"
   ]
  },
  {
   "cell_type": "code",
   "execution_count": 536,
   "metadata": {},
   "outputs": [
    {
     "data": {
      "text/html": [
       "<div>\n",
       "<style scoped>\n",
       "    .dataframe tbody tr th:only-of-type {\n",
       "        vertical-align: middle;\n",
       "    }\n",
       "\n",
       "    .dataframe tbody tr th {\n",
       "        vertical-align: top;\n",
       "    }\n",
       "\n",
       "    .dataframe thead th {\n",
       "        text-align: right;\n",
       "    }\n",
       "</style>\n",
       "<table border=\"1\" class=\"dataframe\">\n",
       "  <thead>\n",
       "    <tr style=\"text-align: right;\">\n",
       "      <th></th>\n",
       "      <th>accuracy</th>\n",
       "      <th>precision</th>\n",
       "      <th>recall</th>\n",
       "      <th>f1_score</th>\n",
       "      <th>AUC</th>\n",
       "      <th>AP</th>\n",
       "    </tr>\n",
       "    <tr>\n",
       "      <th>Model</th>\n",
       "      <th></th>\n",
       "      <th></th>\n",
       "      <th></th>\n",
       "      <th></th>\n",
       "      <th></th>\n",
       "      <th></th>\n",
       "    </tr>\n",
       "  </thead>\n",
       "  <tbody>\n",
       "    <tr>\n",
       "      <th>1</th>\n",
       "      <td>0.000000</td>\n",
       "      <td>0.000000</td>\n",
       "      <td>0.000000</td>\n",
       "      <td>0.000000</td>\n",
       "      <td>0.000000</td>\n",
       "      <td>0.000000</td>\n",
       "    </tr>\n",
       "    <tr>\n",
       "      <th>2</th>\n",
       "      <td>0.000000</td>\n",
       "      <td>0.000000</td>\n",
       "      <td>0.000000</td>\n",
       "      <td>0.000000</td>\n",
       "      <td>0.000000</td>\n",
       "      <td>0.000000</td>\n",
       "    </tr>\n",
       "    <tr>\n",
       "      <th>3</th>\n",
       "      <td>0.888471</td>\n",
       "      <td>0.115683</td>\n",
       "      <td>0.189084</td>\n",
       "      <td>0.143544</td>\n",
       "      <td>0.633997</td>\n",
       "      <td>0.081028</td>\n",
       "    </tr>\n",
       "    <tr>\n",
       "      <th>4</th>\n",
       "      <td>0.894493</td>\n",
       "      <td>0.871752</td>\n",
       "      <td>0.894493</td>\n",
       "      <td>0.881544</td>\n",
       "      <td>0.561068</td>\n",
       "      <td>0.582809</td>\n",
       "    </tr>\n",
       "  </tbody>\n",
       "</table>\n",
       "</div>"
      ],
      "text/plain": [
       "       accuracy  precision    recall  f1_score       AUC        AP\n",
       "Model                                                             \n",
       "1      0.000000   0.000000  0.000000  0.000000  0.000000  0.000000\n",
       "2      0.000000   0.000000  0.000000  0.000000  0.000000  0.000000\n",
       "3      0.888471   0.115683  0.189084  0.143544  0.633997  0.081028\n",
       "4      0.894493   0.871752  0.894493  0.881544  0.561068  0.582809"
      ]
     },
     "execution_count": 536,
     "metadata": {},
     "output_type": "execute_result"
    }
   ],
   "source": [
    "model3_results = [accuracy_testing, precision, recall, f1, auc, ap]\n",
    "results_df.iloc[2,:] = model3_results\n",
    "results_df"
   ]
  },
  {
   "cell_type": "markdown",
   "metadata": {},
   "source": [
    "Model 4 - Neural Network"
   ]
  },
  {
   "cell_type": "code",
   "execution_count": 526,
   "metadata": {},
   "outputs": [],
   "source": [
    "from sklearn.neural_network import MLPClassifier\n",
    "\n",
    "model4 = MLPClassifier(solver='lbfgs', alpha=1e-5,hidden_layer_sizes=60, max_iter = 500)"
   ]
  },
  {
   "cell_type": "code",
   "execution_count": 527,
   "metadata": {},
   "outputs": [
    {
     "name": "stderr",
     "output_type": "stream",
     "text": [
      "/Library/Frameworks/Python.framework/Versions/3.11/lib/python3.11/site-packages/sklearn/neural_network/_multilayer_perceptron.py:546: ConvergenceWarning: lbfgs failed to converge (status=1):\n",
      "STOP: TOTAL NO. of ITERATIONS REACHED LIMIT.\n",
      "\n",
      "Increase the number of iterations (max_iter) or scale the data as shown in:\n",
      "    https://scikit-learn.org/stable/modules/preprocessing.html\n",
      "  self.n_iter_ = _check_optimize_result(\"lbfgs\", opt_res, self.max_iter)\n"
     ]
    },
    {
     "data": {
      "text/html": [
       "<style>#sk-container-id-16 {color: black;}#sk-container-id-16 pre{padding: 0;}#sk-container-id-16 div.sk-toggleable {background-color: white;}#sk-container-id-16 label.sk-toggleable__label {cursor: pointer;display: block;width: 100%;margin-bottom: 0;padding: 0.3em;box-sizing: border-box;text-align: center;}#sk-container-id-16 label.sk-toggleable__label-arrow:before {content: \"▸\";float: left;margin-right: 0.25em;color: #696969;}#sk-container-id-16 label.sk-toggleable__label-arrow:hover:before {color: black;}#sk-container-id-16 div.sk-estimator:hover label.sk-toggleable__label-arrow:before {color: black;}#sk-container-id-16 div.sk-toggleable__content {max-height: 0;max-width: 0;overflow: hidden;text-align: left;background-color: #f0f8ff;}#sk-container-id-16 div.sk-toggleable__content pre {margin: 0.2em;color: black;border-radius: 0.25em;background-color: #f0f8ff;}#sk-container-id-16 input.sk-toggleable__control:checked~div.sk-toggleable__content {max-height: 200px;max-width: 100%;overflow: auto;}#sk-container-id-16 input.sk-toggleable__control:checked~label.sk-toggleable__label-arrow:before {content: \"▾\";}#sk-container-id-16 div.sk-estimator input.sk-toggleable__control:checked~label.sk-toggleable__label {background-color: #d4ebff;}#sk-container-id-16 div.sk-label input.sk-toggleable__control:checked~label.sk-toggleable__label {background-color: #d4ebff;}#sk-container-id-16 input.sk-hidden--visually {border: 0;clip: rect(1px 1px 1px 1px);clip: rect(1px, 1px, 1px, 1px);height: 1px;margin: -1px;overflow: hidden;padding: 0;position: absolute;width: 1px;}#sk-container-id-16 div.sk-estimator {font-family: monospace;background-color: #f0f8ff;border: 1px dotted black;border-radius: 0.25em;box-sizing: border-box;margin-bottom: 0.5em;}#sk-container-id-16 div.sk-estimator:hover {background-color: #d4ebff;}#sk-container-id-16 div.sk-parallel-item::after {content: \"\";width: 100%;border-bottom: 1px solid gray;flex-grow: 1;}#sk-container-id-16 div.sk-label:hover label.sk-toggleable__label {background-color: #d4ebff;}#sk-container-id-16 div.sk-serial::before {content: \"\";position: absolute;border-left: 1px solid gray;box-sizing: border-box;top: 0;bottom: 0;left: 50%;z-index: 0;}#sk-container-id-16 div.sk-serial {display: flex;flex-direction: column;align-items: center;background-color: white;padding-right: 0.2em;padding-left: 0.2em;position: relative;}#sk-container-id-16 div.sk-item {position: relative;z-index: 1;}#sk-container-id-16 div.sk-parallel {display: flex;align-items: stretch;justify-content: center;background-color: white;position: relative;}#sk-container-id-16 div.sk-item::before, #sk-container-id-16 div.sk-parallel-item::before {content: \"\";position: absolute;border-left: 1px solid gray;box-sizing: border-box;top: 0;bottom: 0;left: 50%;z-index: -1;}#sk-container-id-16 div.sk-parallel-item {display: flex;flex-direction: column;z-index: 1;position: relative;background-color: white;}#sk-container-id-16 div.sk-parallel-item:first-child::after {align-self: flex-end;width: 50%;}#sk-container-id-16 div.sk-parallel-item:last-child::after {align-self: flex-start;width: 50%;}#sk-container-id-16 div.sk-parallel-item:only-child::after {width: 0;}#sk-container-id-16 div.sk-dashed-wrapped {border: 1px dashed gray;margin: 0 0.4em 0.5em 0.4em;box-sizing: border-box;padding-bottom: 0.4em;background-color: white;}#sk-container-id-16 div.sk-label label {font-family: monospace;font-weight: bold;display: inline-block;line-height: 1.2em;}#sk-container-id-16 div.sk-label-container {text-align: center;}#sk-container-id-16 div.sk-container {/* jupyter's `normalize.less` sets `[hidden] { display: none; }` but bootstrap.min.css set `[hidden] { display: none !important; }` so we also need the `!important` here to be able to override the default hidden behavior on the sphinx rendered scikit-learn.org. See: https://github.com/scikit-learn/scikit-learn/issues/21755 */display: inline-block !important;position: relative;}#sk-container-id-16 div.sk-text-repr-fallback {display: none;}</style><div id=\"sk-container-id-16\" class=\"sk-top-container\"><div class=\"sk-text-repr-fallback\"><pre>MLPClassifier(alpha=1e-05, hidden_layer_sizes=60, max_iter=500, solver=&#x27;lbfgs&#x27;)</pre><b>In a Jupyter environment, please rerun this cell to show the HTML representation or trust the notebook. <br />On GitHub, the HTML representation is unable to render, please try loading this page with nbviewer.org.</b></div><div class=\"sk-container\" hidden><div class=\"sk-item\"><div class=\"sk-estimator sk-toggleable\"><input class=\"sk-toggleable__control sk-hidden--visually\" id=\"sk-estimator-id-20\" type=\"checkbox\" checked><label for=\"sk-estimator-id-20\" class=\"sk-toggleable__label sk-toggleable__label-arrow\">MLPClassifier</label><div class=\"sk-toggleable__content\"><pre>MLPClassifier(alpha=1e-05, hidden_layer_sizes=60, max_iter=500, solver=&#x27;lbfgs&#x27;)</pre></div></div></div></div></div>"
      ],
      "text/plain": [
       "MLPClassifier(alpha=1e-05, hidden_layer_sizes=60, max_iter=500, solver='lbfgs')"
      ]
     },
     "execution_count": 527,
     "metadata": {},
     "output_type": "execute_result"
    }
   ],
   "source": [
    "#Fit the model\n",
    "model4.fit(X_train,y_train)"
   ]
  },
  {
   "cell_type": "code",
   "execution_count": 528,
   "metadata": {},
   "outputs": [],
   "source": [
    "y_train_oh = np.zeros((len(y_train),2),dtype=\"int\")\n",
    "y_train_oh[np.arange(len(y_train)), y_train.to_numpy(dtype=\"int\")] = 1\n",
    "y_test_oh = np.zeros((len(y_test),2),dtype=\"int\")\n",
    "y_test_oh[np.arange(len(y_test)), y_test.to_numpy(dtype=\"int\")] = 1"
   ]
  },
  {
   "cell_type": "code",
   "execution_count": 541,
   "metadata": {},
   "outputs": [
    {
     "name": "stdout",
     "output_type": "stream",
     "text": [
      "Training accuracy:  0.9118458295694069\n",
      "Testing  accuracy:  0.9095726742785566\n",
      "precision:  0.908941830234497\n",
      "recall:  0.9095726742785566\n",
      "f1 score:  0.9092569110018608\n",
      "auc 0.5153940381167641\n",
      "ap 0.5828088096646373\n"
     ]
    }
   ],
   "source": [
    "from sklearn.metrics import confusion_matrix,f1_score,precision_score,recall_score\n",
    "from sklearn.metrics import roc_auc_score,average_precision_score\n",
    "test_pred = model4.predict(X_test)\n",
    "accuracy_training =model4.score(X_train,y_train)\n",
    "accuracy_testing =model4.score(X_test,y_test)\n",
    "f1 = f1_score(y_test,test_pred,average='weighted')\n",
    "precision = precision_score(y_test,test_pred,average='weighted')\n",
    "recall = recall_score(y_test,test_pred,average='weighted')\n",
    "auc = roc_auc_score(y_test,test_pred)\n",
    "test_probs = model4.predict_proba(X_test)\n",
    "ap = average_precision_score(y_test_oh,test_probs)\n",
    "\n",
    "print(\"Training accuracy: \",accuracy_training)\n",
    "print(\"Testing  accuracy: \",accuracy_testing)\n",
    "print(\"precision: \",precision)\n",
    "print(\"recall: \",recall)\n",
    "print(\"f1 score: \",f1)\n",
    "print(\"auc\",auc)\n",
    "print(\"ap\",ap)\n"
   ]
  },
  {
   "cell_type": "code",
   "execution_count": 542,
   "metadata": {},
   "outputs": [
    {
     "data": {
      "text/html": [
       "<div>\n",
       "<style scoped>\n",
       "    .dataframe tbody tr th:only-of-type {\n",
       "        vertical-align: middle;\n",
       "    }\n",
       "\n",
       "    .dataframe tbody tr th {\n",
       "        vertical-align: top;\n",
       "    }\n",
       "\n",
       "    .dataframe thead th {\n",
       "        text-align: right;\n",
       "    }\n",
       "</style>\n",
       "<table border=\"1\" class=\"dataframe\">\n",
       "  <thead>\n",
       "    <tr style=\"text-align: right;\">\n",
       "      <th></th>\n",
       "      <th>accuracy</th>\n",
       "      <th>precision</th>\n",
       "      <th>recall</th>\n",
       "      <th>f1_score</th>\n",
       "      <th>AUC</th>\n",
       "      <th>AP</th>\n",
       "    </tr>\n",
       "    <tr>\n",
       "      <th>Model</th>\n",
       "      <th></th>\n",
       "      <th></th>\n",
       "      <th></th>\n",
       "      <th></th>\n",
       "      <th></th>\n",
       "      <th></th>\n",
       "    </tr>\n",
       "  </thead>\n",
       "  <tbody>\n",
       "    <tr>\n",
       "      <th>1</th>\n",
       "      <td>0.944597</td>\n",
       "      <td>0.007937</td>\n",
       "      <td>0.000975</td>\n",
       "      <td>0.001736</td>\n",
       "      <td>0.610270</td>\n",
       "      <td>0.076289</td>\n",
       "    </tr>\n",
       "    <tr>\n",
       "      <th>2</th>\n",
       "      <td>0.884665</td>\n",
       "      <td>0.120843</td>\n",
       "      <td>0.212476</td>\n",
       "      <td>0.154064</td>\n",
       "      <td>0.625599</td>\n",
       "      <td>0.081058</td>\n",
       "    </tr>\n",
       "    <tr>\n",
       "      <th>3</th>\n",
       "      <td>0.888471</td>\n",
       "      <td>0.115683</td>\n",
       "      <td>0.189084</td>\n",
       "      <td>0.143544</td>\n",
       "      <td>0.633997</td>\n",
       "      <td>0.081028</td>\n",
       "    </tr>\n",
       "    <tr>\n",
       "      <th>4</th>\n",
       "      <td>0.909573</td>\n",
       "      <td>0.908942</td>\n",
       "      <td>0.909573</td>\n",
       "      <td>0.909257</td>\n",
       "      <td>0.515394</td>\n",
       "      <td>0.582809</td>\n",
       "    </tr>\n",
       "  </tbody>\n",
       "</table>\n",
       "</div>"
      ],
      "text/plain": [
       "       accuracy  precision    recall  f1_score       AUC        AP\n",
       "Model                                                             \n",
       "1      0.944597   0.007937  0.000975  0.001736  0.610270  0.076289\n",
       "2      0.884665   0.120843  0.212476  0.154064  0.625599  0.081058\n",
       "3      0.888471   0.115683  0.189084  0.143544  0.633997  0.081028\n",
       "4      0.909573   0.908942  0.909573  0.909257  0.515394  0.582809"
      ]
     },
     "execution_count": 542,
     "metadata": {},
     "output_type": "execute_result"
    }
   ],
   "source": [
    "model4_results = [accuracy_testing, precision, recall, f1, auc, ap]\n",
    "results_df.iloc[3,:] = model4_results\n",
    "results_df"
   ]
  },
  {
   "cell_type": "code",
   "execution_count": 543,
   "metadata": {},
   "outputs": [
    {
     "data": {
      "text/html": [
       "<div>\n",
       "<style scoped>\n",
       "    .dataframe tbody tr th:only-of-type {\n",
       "        vertical-align: middle;\n",
       "    }\n",
       "\n",
       "    .dataframe tbody tr th {\n",
       "        vertical-align: top;\n",
       "    }\n",
       "\n",
       "    .dataframe thead th {\n",
       "        text-align: right;\n",
       "    }\n",
       "</style>\n",
       "<table border=\"1\" class=\"dataframe\">\n",
       "  <thead>\n",
       "    <tr style=\"text-align: right;\">\n",
       "      <th></th>\n",
       "      <th>accuracy</th>\n",
       "      <th>precision</th>\n",
       "      <th>recall</th>\n",
       "      <th>f1_score</th>\n",
       "      <th>AUC</th>\n",
       "      <th>AP</th>\n",
       "    </tr>\n",
       "    <tr>\n",
       "      <th>Model</th>\n",
       "      <th></th>\n",
       "      <th></th>\n",
       "      <th></th>\n",
       "      <th></th>\n",
       "      <th></th>\n",
       "      <th></th>\n",
       "    </tr>\n",
       "  </thead>\n",
       "  <tbody>\n",
       "    <tr>\n",
       "      <th>1</th>\n",
       "      <td>0.944597</td>\n",
       "      <td>0.007937</td>\n",
       "      <td>0.000975</td>\n",
       "      <td>0.001736</td>\n",
       "      <td>0.610270</td>\n",
       "      <td>0.076289</td>\n",
       "    </tr>\n",
       "    <tr>\n",
       "      <th>2</th>\n",
       "      <td>0.884665</td>\n",
       "      <td>0.120843</td>\n",
       "      <td>0.212476</td>\n",
       "      <td>0.154064</td>\n",
       "      <td>0.625599</td>\n",
       "      <td>0.081058</td>\n",
       "    </tr>\n",
       "    <tr>\n",
       "      <th>3</th>\n",
       "      <td>0.888471</td>\n",
       "      <td>0.115683</td>\n",
       "      <td>0.189084</td>\n",
       "      <td>0.143544</td>\n",
       "      <td>0.633997</td>\n",
       "      <td>0.081028</td>\n",
       "    </tr>\n",
       "    <tr>\n",
       "      <th>4</th>\n",
       "      <td>0.909573</td>\n",
       "      <td>0.908942</td>\n",
       "      <td>0.909573</td>\n",
       "      <td>0.909257</td>\n",
       "      <td>0.515394</td>\n",
       "      <td>0.582809</td>\n",
       "    </tr>\n",
       "  </tbody>\n",
       "</table>\n",
       "</div>"
      ],
      "text/plain": [
       "       accuracy  precision    recall  f1_score       AUC        AP\n",
       "Model                                                             \n",
       "1      0.944597   0.007937  0.000975  0.001736  0.610270  0.076289\n",
       "2      0.884665   0.120843  0.212476  0.154064  0.625599  0.081058\n",
       "3      0.888471   0.115683  0.189084  0.143544  0.633997  0.081028\n",
       "4      0.909573   0.908942  0.909573  0.909257  0.515394  0.582809"
      ]
     },
     "execution_count": 543,
     "metadata": {},
     "output_type": "execute_result"
    }
   ],
   "source": [
    "Ped_results = results_df.copy()\n",
    "Ped_results"
   ]
  },
  {
   "cell_type": "markdown",
   "metadata": {},
   "source": [
    "Now let's build predictive models on cyclists accidents"
   ]
  },
  {
   "cell_type": "code",
   "execution_count": 544,
   "metadata": {},
   "outputs": [
    {
     "data": {
      "text/html": [
       "<div>\n",
       "<style scoped>\n",
       "    .dataframe tbody tr th:only-of-type {\n",
       "        vertical-align: middle;\n",
       "    }\n",
       "\n",
       "    .dataframe tbody tr th {\n",
       "        vertical-align: top;\n",
       "    }\n",
       "\n",
       "    .dataframe thead th {\n",
       "        text-align: right;\n",
       "    }\n",
       "</style>\n",
       "<table border=\"1\" class=\"dataframe\">\n",
       "  <thead>\n",
       "    <tr style=\"text-align: right;\">\n",
       "      <th></th>\n",
       "      <th>accuracy</th>\n",
       "      <th>precision</th>\n",
       "      <th>recall</th>\n",
       "      <th>f1_score</th>\n",
       "      <th>AUC</th>\n",
       "      <th>AP</th>\n",
       "    </tr>\n",
       "    <tr>\n",
       "      <th>Model</th>\n",
       "      <th></th>\n",
       "      <th></th>\n",
       "      <th></th>\n",
       "      <th></th>\n",
       "      <th></th>\n",
       "      <th></th>\n",
       "    </tr>\n",
       "  </thead>\n",
       "  <tbody>\n",
       "    <tr>\n",
       "      <th>1</th>\n",
       "      <td>0.0</td>\n",
       "      <td>0.0</td>\n",
       "      <td>0.0</td>\n",
       "      <td>0.0</td>\n",
       "      <td>0.0</td>\n",
       "      <td>0.0</td>\n",
       "    </tr>\n",
       "    <tr>\n",
       "      <th>2</th>\n",
       "      <td>0.0</td>\n",
       "      <td>0.0</td>\n",
       "      <td>0.0</td>\n",
       "      <td>0.0</td>\n",
       "      <td>0.0</td>\n",
       "      <td>0.0</td>\n",
       "    </tr>\n",
       "    <tr>\n",
       "      <th>3</th>\n",
       "      <td>0.0</td>\n",
       "      <td>0.0</td>\n",
       "      <td>0.0</td>\n",
       "      <td>0.0</td>\n",
       "      <td>0.0</td>\n",
       "      <td>0.0</td>\n",
       "    </tr>\n",
       "    <tr>\n",
       "      <th>4</th>\n",
       "      <td>0.0</td>\n",
       "      <td>0.0</td>\n",
       "      <td>0.0</td>\n",
       "      <td>0.0</td>\n",
       "      <td>0.0</td>\n",
       "      <td>0.0</td>\n",
       "    </tr>\n",
       "  </tbody>\n",
       "</table>\n",
       "</div>"
      ],
      "text/plain": [
       "       accuracy  precision  recall  f1_score  AUC   AP\n",
       "Model                                                 \n",
       "1           0.0        0.0     0.0       0.0  0.0  0.0\n",
       "2           0.0        0.0     0.0       0.0  0.0  0.0\n",
       "3           0.0        0.0     0.0       0.0  0.0  0.0\n",
       "4           0.0        0.0     0.0       0.0  0.0  0.0"
      ]
     },
     "execution_count": 544,
     "metadata": {},
     "output_type": "execute_result"
    }
   ],
   "source": [
    "# build a results df\n",
    "results_df = pd.DataFrame(np.zeros(shape=(4,6)))\n",
    "results_df.index=[1,2,3,4]\n",
    "results_df.columns = [\"accuracy\",\"precision\",\"recall\",\"f1_score\",\"AUC\",\"AP\"]\n",
    "results_df.index.rename(\"Model\",inplace=True)\n",
    "results_df"
   ]
  },
  {
   "cell_type": "markdown",
   "metadata": {},
   "source": [
    "Split the data into train and test"
   ]
  },
  {
   "cell_type": "code",
   "execution_count": 606,
   "metadata": {},
   "outputs": [],
   "source": [
    "import pandas as pd\n",
    "from sklearn.model_selection import train_test_split\n",
    "from sklearn.preprocessing import LabelEncoder,StandardScaler, OneHotEncoder\n",
    "from sklearn.impute import SimpleImputer\n",
    "from sklearn.compose import ColumnTransformer, make_column_transformer\n",
    "from sklearn.preprocessing import LabelBinarizer\n",
    "\n",
    "\n",
    "features_cat = ['crash_day_of_week', 'crash_hour_category','contributing_factor','zip_code','icon','vis_level','wind_level']\n",
    "features_num = ['Population','Density']\n",
    "\n",
    "y = df['cyclists_accident']\n",
    "y_dense = LabelBinarizer().fit_transform(y)\n",
    "\n",
    "\n",
    "# Encode categorical features\n",
    "label_encoder = LabelEncoder()\n",
    "for feature in features_cat:\n",
    "    df[feature] = label_encoder.fit_transform(df[feature])\n",
    "\n",
    "# Impute missing values\n",
    "imputer = SimpleImputer(strategy='mean')\n",
    "df[features_cat] = imputer.fit_transform(df[features_cat])\n",
    "\n",
    "# Make a column transformer object that scales (using StandardScaler) the non-categorical columns\n",
    "# and one hot encodes (using OneHotEncoder) the three categorical columns\n",
    "preprocess = make_column_transformer(\n",
    "    (StandardScaler(),features_num, ),\n",
    "    (OneHotEncoder(categories=\"auto\",drop=\"first\"),features_cat, )\n",
    ")\n",
    "\n",
    "#Generate the independent variable df\n",
    "X = preprocess.fit_transform(df).toarray()\n",
    "X = imputer.fit_transform(X)\n",
    "\n",
    "\n",
    "# Split the data into training and testing sets\n",
    "X_train, X_test, y_train, y_test = train_test_split(X, y, test_size=0.2, random_state=42)"
   ]
  },
  {
   "cell_type": "markdown",
   "metadata": {},
   "source": [
    "Model 1 - SDGClassifier"
   ]
  },
  {
   "cell_type": "code",
   "execution_count": 545,
   "metadata": {},
   "outputs": [
    {
     "name": "stdout",
     "output_type": "stream",
     "text": [
      "Fitting 5 folds for each of 12 candidates, totalling 60 fits\n",
      "[CV 2/5] END class_weight=balanced, loss=log_loss, max_iter=1000, penalty=l2, random_state=42;, score=0.646 total time=   9.0s\n",
      "[CV 1/5] END class_weight=balanced, loss=log_loss, max_iter=1000, penalty=l2, random_state=42;, score=0.668 total time=   9.4s\n",
      "[CV 3/5] END class_weight=balanced, loss=log_loss, max_iter=1000, penalty=l2, random_state=42;, score=0.727 total time=   9.6s\n",
      "[CV 4/5] END class_weight=balanced, loss=log_loss, max_iter=1000, penalty=l2, random_state=42;, score=0.561 total time=   5.8s\n",
      "[CV 1/5] END class_weight=balanced, loss=log_loss, max_iter=1000, penalty=l1, random_state=42;, score=0.745 total time=  16.4s\n",
      "[CV 2/5] END class_weight=balanced, loss=log_loss, max_iter=1000, penalty=l1, random_state=42;, score=0.698 total time=  16.7s\n",
      "[CV 5/5] END class_weight=balanced, loss=log_loss, max_iter=1000, penalty=l1, random_state=42;, score=0.637 total time=  17.5s\n",
      "[CV 3/5] END class_weight=balanced, loss=log_loss, max_iter=1000, penalty=l1, random_state=42;, score=0.721 total time=  18.6s\n",
      "[CV 5/5] END class_weight=balanced, loss=log_loss, max_iter=1000, penalty=l2, random_state=42;, score=0.659 total time=   8.3s\n",
      "[CV 4/5] END class_weight=balanced, loss=log_loss, max_iter=1000, penalty=l1, random_state=42;, score=0.642 total time=  22.4s\n",
      "[CV 1/5] END class_weight=balanced, loss=log_loss, max_iter=2000, penalty=l1, random_state=42;, score=0.745 total time=  13.9s\n",
      "[CV 2/5] END class_weight=balanced, loss=log_loss, max_iter=2000, penalty=l2, random_state=42;, score=0.646 total time=   6.8s\n",
      "[CV 1/5] END class_weight=balanced, loss=log_loss, max_iter=2000, penalty=l2, random_state=42;, score=0.668 total time=   7.3s\n",
      "[CV 1/5] END class_weight={}, loss=log_loss, max_iter=1000, penalty=l1, random_state=42;, score=0.953 total time=   3.9s\n",
      "[CV 2/5] END class_weight=balanced, loss=log_loss, max_iter=2000, penalty=l1, random_state=42;, score=0.698 total time=  14.9s\n",
      "[CV 3/5] END class_weight=balanced, loss=log_loss, max_iter=2000, penalty=l2, random_state=42;, score=0.727 total time=   9.1s\n",
      "[CV 4/5] END class_weight=balanced, loss=log_loss, max_iter=2000, penalty=l2, random_state=42;, score=0.561 total time=   7.5s\n",
      "[CV 2/5] END class_weight={}, loss=log_loss, max_iter=1000, penalty=l1, random_state=42;, score=0.953 total time=   5.1s\n",
      "[CV 5/5] END class_weight=balanced, loss=log_loss, max_iter=2000, penalty=l1, random_state=42;, score=0.637 total time=  17.0s\n",
      "[CV 3/5] END class_weight=balanced, loss=log_loss, max_iter=2000, penalty=l1, random_state=42;, score=0.721 total time=  18.8s\n",
      "[CV 3/5] END class_weight={}, loss=log_loss, max_iter=1000, penalty=l1, random_state=42;, score=0.952 total time=   4.9s\n",
      "[CV 5/5] END class_weight=balanced, loss=log_loss, max_iter=2000, penalty=l2, random_state=42;, score=0.659 total time=  10.2s\n",
      "[CV 5/5] END class_weight={}, loss=log_loss, max_iter=1000, penalty=l1, random_state=42;, score=0.952 total time=   4.6s\n",
      "[CV 4/5] END class_weight={}, loss=log_loss, max_iter=1000, penalty=l1, random_state=42;, score=0.953 total time=   5.1s\n",
      "[CV 1/5] END class_weight={}, loss=log_loss, max_iter=1000, penalty=l2, random_state=42;, score=0.953 total time=   2.9s\n",
      "[CV 2/5] END class_weight={}, loss=log_loss, max_iter=1000, penalty=l2, random_state=42;, score=0.952 total time=   3.0s\n",
      "[CV 3/5] END class_weight={}, loss=log_loss, max_iter=1000, penalty=l2, random_state=42;, score=0.952 total time=   2.9s\n",
      "[CV 4/5] END class_weight={}, loss=log_loss, max_iter=1000, penalty=l2, random_state=42;, score=0.953 total time=   3.0s\n",
      "[CV 5/5] END class_weight={}, loss=log_loss, max_iter=1000, penalty=l2, random_state=42;, score=0.952 total time=   2.9s\n",
      "[CV 4/5] END class_weight=balanced, loss=log_loss, max_iter=2000, penalty=l1, random_state=42;, score=0.642 total time=  23.4s\n",
      "[CV 1/5] END class_weight={}, loss=log_loss, max_iter=2000, penalty=l1, random_state=42;, score=0.953 total time=   4.2s\n",
      "[CV 1/5] END class_weight={}, loss=log_loss, max_iter=2000, penalty=l2, random_state=42;, score=0.953 total time=   2.9s\n",
      "[CV 2/5] END class_weight={}, loss=log_loss, max_iter=2000, penalty=l1, random_state=42;, score=0.953 total time=   4.7s\n",
      "[CV 2/5] END class_weight={}, loss=log_loss, max_iter=2000, penalty=l2, random_state=42;, score=0.952 total time=   3.1s\n",
      "[CV 3/5] END class_weight={}, loss=log_loss, max_iter=2000, penalty=l1, random_state=42;, score=0.952 total time=   4.2s\n",
      "[CV 5/5] END class_weight={}, loss=log_loss, max_iter=2000, penalty=l1, random_state=42;, score=0.952 total time=   4.2s\n",
      "[CV 4/5] END class_weight={}, loss=log_loss, max_iter=2000, penalty=l1, random_state=42;, score=0.953 total time=   4.9s\n",
      "[CV 3/5] END class_weight={}, loss=log_loss, max_iter=2000, penalty=l2, random_state=42;, score=0.952 total time=   3.6s\n",
      "[CV 4/5] END class_weight={}, loss=log_loss, max_iter=2000, penalty=l2, random_state=42;, score=0.953 total time=   3.7s\n",
      "[CV 5/5] END class_weight={}, loss=log_loss, max_iter=2000, penalty=l2, random_state=42;, score=0.952 total time=   3.8s\n",
      "[CV 1/5] END class_weight={0: 1, 1: 10}, loss=log_loss, max_iter=1000, penalty=l2, random_state=42;, score=0.885 total time=   8.7s\n",
      "[CV 3/5] END class_weight={0: 1, 1: 10}, loss=log_loss, max_iter=1000, penalty=l2, random_state=42;, score=0.792 total time=   7.5s\n",
      "[CV 2/5] END class_weight={0: 1, 1: 10}, loss=log_loss, max_iter=1000, penalty=l2, random_state=42;, score=0.817 total time=   8.7s\n",
      "[CV 1/5] END class_weight={0: 1, 1: 10}, loss=log_loss, max_iter=1000, penalty=l1, random_state=42;, score=0.847 total time=  12.8s\n",
      "[CV 4/5] END class_weight={0: 1, 1: 10}, loss=log_loss, max_iter=1000, penalty=l1, random_state=42;, score=0.787 total time=  12.5s\n",
      "[CV 2/5] END class_weight={0: 1, 1: 10}, loss=log_loss, max_iter=1000, penalty=l1, random_state=42;, score=0.818 total time=  15.2s\n",
      "[CV 4/5] END class_weight={0: 1, 1: 10}, loss=log_loss, max_iter=1000, penalty=l2, random_state=42;, score=0.805 total time=   4.5s\n",
      "[CV 5/5] END class_weight={0: 1, 1: 10}, loss=log_loss, max_iter=1000, penalty=l1, random_state=42;, score=0.849 total time=  14.3s\n",
      "[CV 5/5] END class_weight={0: 1, 1: 10}, loss=log_loss, max_iter=1000, penalty=l2, random_state=42;, score=0.762 total time=   5.6s\n",
      "[CV 3/5] END class_weight={0: 1, 1: 10}, loss=log_loss, max_iter=1000, penalty=l1, random_state=42;, score=0.857 total time=  18.5s\n",
      "[CV 1/5] END class_weight={0: 1, 1: 10}, loss=log_loss, max_iter=2000, penalty=l1, random_state=42;, score=0.847 total time=   9.8s\n",
      "[CV 1/5] END class_weight={0: 1, 1: 10}, loss=log_loss, max_iter=2000, penalty=l2, random_state=42;, score=0.885 total time=   7.0s\n",
      "[CV 2/5] END class_weight={0: 1, 1: 10}, loss=log_loss, max_iter=2000, penalty=l2, random_state=42;, score=0.817 total time=   7.3s\n",
      "[CV 2/5] END class_weight={0: 1, 1: 10}, loss=log_loss, max_iter=2000, penalty=l1, random_state=42;, score=0.818 total time=  12.3s\n",
      "[CV 3/5] END class_weight={0: 1, 1: 10}, loss=log_loss, max_iter=2000, penalty=l2, random_state=42;, score=0.792 total time=   6.2s\n",
      "[CV 4/5] END class_weight={0: 1, 1: 10}, loss=log_loss, max_iter=2000, penalty=l1, random_state=42;, score=0.787 total time=  10.3s\n",
      "[CV 4/5] END class_weight={0: 1, 1: 10}, loss=log_loss, max_iter=2000, penalty=l2, random_state=42;, score=0.805 total time=   4.4s\n",
      "[CV 5/5] END class_weight={0: 1, 1: 10}, loss=log_loss, max_iter=2000, penalty=l1, random_state=42;, score=0.849 total time=  11.4s\n",
      "[CV 5/5] END class_weight={0: 1, 1: 10}, loss=log_loss, max_iter=2000, penalty=l2, random_state=42;, score=0.762 total time=   4.5s\n",
      "[CV 3/5] END class_weight={0: 1, 1: 10}, loss=log_loss, max_iter=2000, penalty=l1, random_state=42;, score=0.857 total time=  13.9s\n",
      "CPU times: user 1.66 s, sys: 1.18 s, total: 2.84 s\n",
      "Wall time: 1min 23s\n"
     ]
    },
    {
     "data": {
      "text/html": [
       "<style>#sk-container-id-17 {color: black;}#sk-container-id-17 pre{padding: 0;}#sk-container-id-17 div.sk-toggleable {background-color: white;}#sk-container-id-17 label.sk-toggleable__label {cursor: pointer;display: block;width: 100%;margin-bottom: 0;padding: 0.3em;box-sizing: border-box;text-align: center;}#sk-container-id-17 label.sk-toggleable__label-arrow:before {content: \"▸\";float: left;margin-right: 0.25em;color: #696969;}#sk-container-id-17 label.sk-toggleable__label-arrow:hover:before {color: black;}#sk-container-id-17 div.sk-estimator:hover label.sk-toggleable__label-arrow:before {color: black;}#sk-container-id-17 div.sk-toggleable__content {max-height: 0;max-width: 0;overflow: hidden;text-align: left;background-color: #f0f8ff;}#sk-container-id-17 div.sk-toggleable__content pre {margin: 0.2em;color: black;border-radius: 0.25em;background-color: #f0f8ff;}#sk-container-id-17 input.sk-toggleable__control:checked~div.sk-toggleable__content {max-height: 200px;max-width: 100%;overflow: auto;}#sk-container-id-17 input.sk-toggleable__control:checked~label.sk-toggleable__label-arrow:before {content: \"▾\";}#sk-container-id-17 div.sk-estimator input.sk-toggleable__control:checked~label.sk-toggleable__label {background-color: #d4ebff;}#sk-container-id-17 div.sk-label input.sk-toggleable__control:checked~label.sk-toggleable__label {background-color: #d4ebff;}#sk-container-id-17 input.sk-hidden--visually {border: 0;clip: rect(1px 1px 1px 1px);clip: rect(1px, 1px, 1px, 1px);height: 1px;margin: -1px;overflow: hidden;padding: 0;position: absolute;width: 1px;}#sk-container-id-17 div.sk-estimator {font-family: monospace;background-color: #f0f8ff;border: 1px dotted black;border-radius: 0.25em;box-sizing: border-box;margin-bottom: 0.5em;}#sk-container-id-17 div.sk-estimator:hover {background-color: #d4ebff;}#sk-container-id-17 div.sk-parallel-item::after {content: \"\";width: 100%;border-bottom: 1px solid gray;flex-grow: 1;}#sk-container-id-17 div.sk-label:hover label.sk-toggleable__label {background-color: #d4ebff;}#sk-container-id-17 div.sk-serial::before {content: \"\";position: absolute;border-left: 1px solid gray;box-sizing: border-box;top: 0;bottom: 0;left: 50%;z-index: 0;}#sk-container-id-17 div.sk-serial {display: flex;flex-direction: column;align-items: center;background-color: white;padding-right: 0.2em;padding-left: 0.2em;position: relative;}#sk-container-id-17 div.sk-item {position: relative;z-index: 1;}#sk-container-id-17 div.sk-parallel {display: flex;align-items: stretch;justify-content: center;background-color: white;position: relative;}#sk-container-id-17 div.sk-item::before, #sk-container-id-17 div.sk-parallel-item::before {content: \"\";position: absolute;border-left: 1px solid gray;box-sizing: border-box;top: 0;bottom: 0;left: 50%;z-index: -1;}#sk-container-id-17 div.sk-parallel-item {display: flex;flex-direction: column;z-index: 1;position: relative;background-color: white;}#sk-container-id-17 div.sk-parallel-item:first-child::after {align-self: flex-end;width: 50%;}#sk-container-id-17 div.sk-parallel-item:last-child::after {align-self: flex-start;width: 50%;}#sk-container-id-17 div.sk-parallel-item:only-child::after {width: 0;}#sk-container-id-17 div.sk-dashed-wrapped {border: 1px dashed gray;margin: 0 0.4em 0.5em 0.4em;box-sizing: border-box;padding-bottom: 0.4em;background-color: white;}#sk-container-id-17 div.sk-label label {font-family: monospace;font-weight: bold;display: inline-block;line-height: 1.2em;}#sk-container-id-17 div.sk-label-container {text-align: center;}#sk-container-id-17 div.sk-container {/* jupyter's `normalize.less` sets `[hidden] { display: none; }` but bootstrap.min.css set `[hidden] { display: none !important; }` so we also need the `!important` here to be able to override the default hidden behavior on the sphinx rendered scikit-learn.org. See: https://github.com/scikit-learn/scikit-learn/issues/21755 */display: inline-block !important;position: relative;}#sk-container-id-17 div.sk-text-repr-fallback {display: none;}</style><div id=\"sk-container-id-17\" class=\"sk-top-container\"><div class=\"sk-text-repr-fallback\"><pre>GridSearchCV(estimator=SGDClassifier(), n_jobs=-1,\n",
       "             param_grid={&#x27;class_weight&#x27;: [&#x27;balanced&#x27;, {}, {0: 1, 1: 10}],\n",
       "                         &#x27;loss&#x27;: [&#x27;log_loss&#x27;], &#x27;max_iter&#x27;: [1000, 2000],\n",
       "                         &#x27;penalty&#x27;: [&#x27;l1&#x27;, &#x27;l2&#x27;], &#x27;random_state&#x27;: [42]},\n",
       "             verbose=3)</pre><b>In a Jupyter environment, please rerun this cell to show the HTML representation or trust the notebook. <br />On GitHub, the HTML representation is unable to render, please try loading this page with nbviewer.org.</b></div><div class=\"sk-container\" hidden><div class=\"sk-item sk-dashed-wrapped\"><div class=\"sk-label-container\"><div class=\"sk-label sk-toggleable\"><input class=\"sk-toggleable__control sk-hidden--visually\" id=\"sk-estimator-id-21\" type=\"checkbox\" ><label for=\"sk-estimator-id-21\" class=\"sk-toggleable__label sk-toggleable__label-arrow\">GridSearchCV</label><div class=\"sk-toggleable__content\"><pre>GridSearchCV(estimator=SGDClassifier(), n_jobs=-1,\n",
       "             param_grid={&#x27;class_weight&#x27;: [&#x27;balanced&#x27;, {}, {0: 1, 1: 10}],\n",
       "                         &#x27;loss&#x27;: [&#x27;log_loss&#x27;], &#x27;max_iter&#x27;: [1000, 2000],\n",
       "                         &#x27;penalty&#x27;: [&#x27;l1&#x27;, &#x27;l2&#x27;], &#x27;random_state&#x27;: [42]},\n",
       "             verbose=3)</pre></div></div></div><div class=\"sk-parallel\"><div class=\"sk-parallel-item\"><div class=\"sk-item\"><div class=\"sk-label-container\"><div class=\"sk-label sk-toggleable\"><input class=\"sk-toggleable__control sk-hidden--visually\" id=\"sk-estimator-id-22\" type=\"checkbox\" ><label for=\"sk-estimator-id-22\" class=\"sk-toggleable__label sk-toggleable__label-arrow\">estimator: SGDClassifier</label><div class=\"sk-toggleable__content\"><pre>SGDClassifier()</pre></div></div></div><div class=\"sk-serial\"><div class=\"sk-item\"><div class=\"sk-estimator sk-toggleable\"><input class=\"sk-toggleable__control sk-hidden--visually\" id=\"sk-estimator-id-23\" type=\"checkbox\" ><label for=\"sk-estimator-id-23\" class=\"sk-toggleable__label sk-toggleable__label-arrow\">SGDClassifier</label><div class=\"sk-toggleable__content\"><pre>SGDClassifier()</pre></div></div></div></div></div></div></div></div></div></div>"
      ],
      "text/plain": [
       "GridSearchCV(estimator=SGDClassifier(), n_jobs=-1,\n",
       "             param_grid={'class_weight': ['balanced', {}, {0: 1, 1: 10}],\n",
       "                         'loss': ['log_loss'], 'max_iter': [1000, 2000],\n",
       "                         'penalty': ['l1', 'l2'], 'random_state': [42]},\n",
       "             verbose=3)"
      ]
     },
     "execution_count": 545,
     "metadata": {},
     "output_type": "execute_result"
    }
   ],
   "source": [
    "%%time\n",
    "from sklearn.model_selection import GridSearchCV\n",
    "from sklearn.linear_model import SGDClassifier\n",
    "#Set up the hyperparameter options in param_grid\n",
    "param_grid = {\n",
    "    'class_weight': [\"balanced\",{},{0:1,1:10}], \n",
    "    'random_state':[42],\n",
    "    'max_iter': [1000, 2000],\n",
    "    'loss': [\"log_loss\"],\n",
    "    \"penalty\": [\"l1\",\"l2\"],\n",
    "}\n",
    "\n",
    "#Do the search\n",
    "gs_clf = GridSearchCV(SGDClassifier(),param_grid, n_jobs = -1, verbose = 3)\n",
    "gs_clf.fit(X_train, np.ravel(y_train))"
   ]
  },
  {
   "cell_type": "code",
   "execution_count": 549,
   "metadata": {},
   "outputs": [
    {
     "data": {
      "text/plain": [
       "(0.952652815417043,\n",
       " {'class_weight': {},\n",
       "  'loss': 'log_loss',\n",
       "  'max_iter': 1000,\n",
       "  'penalty': 'l2',\n",
       "  'random_state': 42})"
      ]
     },
     "execution_count": 549,
     "metadata": {},
     "output_type": "execute_result"
    }
   ],
   "source": [
    "gs_clf.best_score_,gs_clf.best_params_"
   ]
  },
  {
   "cell_type": "code",
   "execution_count": 550,
   "metadata": {},
   "outputs": [
    {
     "data": {
      "text/html": [
       "<style>#sk-container-id-18 {color: black;}#sk-container-id-18 pre{padding: 0;}#sk-container-id-18 div.sk-toggleable {background-color: white;}#sk-container-id-18 label.sk-toggleable__label {cursor: pointer;display: block;width: 100%;margin-bottom: 0;padding: 0.3em;box-sizing: border-box;text-align: center;}#sk-container-id-18 label.sk-toggleable__label-arrow:before {content: \"▸\";float: left;margin-right: 0.25em;color: #696969;}#sk-container-id-18 label.sk-toggleable__label-arrow:hover:before {color: black;}#sk-container-id-18 div.sk-estimator:hover label.sk-toggleable__label-arrow:before {color: black;}#sk-container-id-18 div.sk-toggleable__content {max-height: 0;max-width: 0;overflow: hidden;text-align: left;background-color: #f0f8ff;}#sk-container-id-18 div.sk-toggleable__content pre {margin: 0.2em;color: black;border-radius: 0.25em;background-color: #f0f8ff;}#sk-container-id-18 input.sk-toggleable__control:checked~div.sk-toggleable__content {max-height: 200px;max-width: 100%;overflow: auto;}#sk-container-id-18 input.sk-toggleable__control:checked~label.sk-toggleable__label-arrow:before {content: \"▾\";}#sk-container-id-18 div.sk-estimator input.sk-toggleable__control:checked~label.sk-toggleable__label {background-color: #d4ebff;}#sk-container-id-18 div.sk-label input.sk-toggleable__control:checked~label.sk-toggleable__label {background-color: #d4ebff;}#sk-container-id-18 input.sk-hidden--visually {border: 0;clip: rect(1px 1px 1px 1px);clip: rect(1px, 1px, 1px, 1px);height: 1px;margin: -1px;overflow: hidden;padding: 0;position: absolute;width: 1px;}#sk-container-id-18 div.sk-estimator {font-family: monospace;background-color: #f0f8ff;border: 1px dotted black;border-radius: 0.25em;box-sizing: border-box;margin-bottom: 0.5em;}#sk-container-id-18 div.sk-estimator:hover {background-color: #d4ebff;}#sk-container-id-18 div.sk-parallel-item::after {content: \"\";width: 100%;border-bottom: 1px solid gray;flex-grow: 1;}#sk-container-id-18 div.sk-label:hover label.sk-toggleable__label {background-color: #d4ebff;}#sk-container-id-18 div.sk-serial::before {content: \"\";position: absolute;border-left: 1px solid gray;box-sizing: border-box;top: 0;bottom: 0;left: 50%;z-index: 0;}#sk-container-id-18 div.sk-serial {display: flex;flex-direction: column;align-items: center;background-color: white;padding-right: 0.2em;padding-left: 0.2em;position: relative;}#sk-container-id-18 div.sk-item {position: relative;z-index: 1;}#sk-container-id-18 div.sk-parallel {display: flex;align-items: stretch;justify-content: center;background-color: white;position: relative;}#sk-container-id-18 div.sk-item::before, #sk-container-id-18 div.sk-parallel-item::before {content: \"\";position: absolute;border-left: 1px solid gray;box-sizing: border-box;top: 0;bottom: 0;left: 50%;z-index: -1;}#sk-container-id-18 div.sk-parallel-item {display: flex;flex-direction: column;z-index: 1;position: relative;background-color: white;}#sk-container-id-18 div.sk-parallel-item:first-child::after {align-self: flex-end;width: 50%;}#sk-container-id-18 div.sk-parallel-item:last-child::after {align-self: flex-start;width: 50%;}#sk-container-id-18 div.sk-parallel-item:only-child::after {width: 0;}#sk-container-id-18 div.sk-dashed-wrapped {border: 1px dashed gray;margin: 0 0.4em 0.5em 0.4em;box-sizing: border-box;padding-bottom: 0.4em;background-color: white;}#sk-container-id-18 div.sk-label label {font-family: monospace;font-weight: bold;display: inline-block;line-height: 1.2em;}#sk-container-id-18 div.sk-label-container {text-align: center;}#sk-container-id-18 div.sk-container {/* jupyter's `normalize.less` sets `[hidden] { display: none; }` but bootstrap.min.css set `[hidden] { display: none !important; }` so we also need the `!important` here to be able to override the default hidden behavior on the sphinx rendered scikit-learn.org. See: https://github.com/scikit-learn/scikit-learn/issues/21755 */display: inline-block !important;position: relative;}#sk-container-id-18 div.sk-text-repr-fallback {display: none;}</style><div id=\"sk-container-id-18\" class=\"sk-top-container\"><div class=\"sk-text-repr-fallback\"><pre>SGDClassifier(class_weight={}, loss=&#x27;log_loss&#x27;, penalty=&#x27;l1&#x27;, random_state=42)</pre><b>In a Jupyter environment, please rerun this cell to show the HTML representation or trust the notebook. <br />On GitHub, the HTML representation is unable to render, please try loading this page with nbviewer.org.</b></div><div class=\"sk-container\" hidden><div class=\"sk-item\"><div class=\"sk-estimator sk-toggleable\"><input class=\"sk-toggleable__control sk-hidden--visually\" id=\"sk-estimator-id-24\" type=\"checkbox\" checked><label for=\"sk-estimator-id-24\" class=\"sk-toggleable__label sk-toggleable__label-arrow\">SGDClassifier</label><div class=\"sk-toggleable__content\"><pre>SGDClassifier(class_weight={}, loss=&#x27;log_loss&#x27;, penalty=&#x27;l1&#x27;, random_state=42)</pre></div></div></div></div></div>"
      ],
      "text/plain": [
       "SGDClassifier(class_weight={}, loss='log_loss', penalty='l1', random_state=42)"
      ]
     },
     "execution_count": 550,
     "metadata": {},
     "output_type": "execute_result"
    }
   ],
   "source": [
    "model_1 = SGDClassifier(penalty = 'l1',random_state=42, max_iter=1000,loss=\"log_loss\", class_weight = {})\n",
    "model_1.fit(X_train, np.ravel(y_train))"
   ]
  },
  {
   "cell_type": "code",
   "execution_count": 560,
   "metadata": {},
   "outputs": [
    {
     "name": "stdout",
     "output_type": "stream",
     "text": [
      "Confusion Matrix: \n",
      " [[19711    20]\n",
      " [ 1001    25]]\n",
      "Training accuracy:  0.9527130382414936\n",
      "Testing  accuracy:  0.9508117743411861\n",
      "Precision:  0.5555555555555556\n",
      "Recall:  0.024366471734892786\n",
      "F1-Score:  0.046685340802987856\n",
      "AUC:  0.7327810760380133\n",
      "Average Precision:  0.17684184485509474\n"
     ]
    }
   ],
   "source": [
    "from sklearn.metrics import confusion_matrix\n",
    "from sklearn.metrics import f1_score,recall_score,precision_score\n",
    "from sklearn.metrics import average_precision_score,roc_auc_score\n",
    "\n",
    "y_test_pred = model_1.predict(X_test)\n",
    "cfm = confusion_matrix(y_test,y_test_pred)\n",
    "\n",
    "accuracy_training = model_1.score(X_train,y_train)\n",
    "accuracy_testing = model_1.score(X_test,y_test)\n",
    "recall = recall_score(y_test,y_test_pred)\n",
    "precision = precision_score(y_test,y_test_pred) \n",
    "f1 = f1_score(y_test,y_test_pred)\n",
    "\n",
    "prediction_probabilities_test = model_1.predict_proba(X_test)\n",
    "y_score = prediction_probabilities_test[:,1]\n",
    "ap = average_precision_score(y_test, y_score)\n",
    "auc = roc_auc_score(y_test,y_score)\n",
    "\n",
    "print(\"Confusion Matrix: \\n\",cfm)\n",
    "print(\"Training accuracy: \",accuracy_training)\n",
    "print(\"Testing  accuracy: \",accuracy_testing)\n",
    "print(\"Precision: \",precision)\n",
    "print(\"Recall: \",recall)\n",
    "print(\"F1-Score: \",f1)\n",
    "print(\"AUC: \",auc)\n",
    "print(\"Average Precision: \",ap)"
   ]
  },
  {
   "cell_type": "code",
   "execution_count": 561,
   "metadata": {},
   "outputs": [
    {
     "data": {
      "text/html": [
       "<div>\n",
       "<style scoped>\n",
       "    .dataframe tbody tr th:only-of-type {\n",
       "        vertical-align: middle;\n",
       "    }\n",
       "\n",
       "    .dataframe tbody tr th {\n",
       "        vertical-align: top;\n",
       "    }\n",
       "\n",
       "    .dataframe thead th {\n",
       "        text-align: right;\n",
       "    }\n",
       "</style>\n",
       "<table border=\"1\" class=\"dataframe\">\n",
       "  <thead>\n",
       "    <tr style=\"text-align: right;\">\n",
       "      <th></th>\n",
       "      <th>accuracy</th>\n",
       "      <th>precision</th>\n",
       "      <th>recall</th>\n",
       "      <th>f1_score</th>\n",
       "      <th>AUC</th>\n",
       "      <th>AP</th>\n",
       "    </tr>\n",
       "    <tr>\n",
       "      <th>Model</th>\n",
       "      <th></th>\n",
       "      <th></th>\n",
       "      <th></th>\n",
       "      <th></th>\n",
       "      <th></th>\n",
       "      <th></th>\n",
       "    </tr>\n",
       "  </thead>\n",
       "  <tbody>\n",
       "    <tr>\n",
       "      <th>1</th>\n",
       "      <td>0.950812</td>\n",
       "      <td>0.555556</td>\n",
       "      <td>0.024366</td>\n",
       "      <td>0.046685</td>\n",
       "      <td>0.732781</td>\n",
       "      <td>0.176842</td>\n",
       "    </tr>\n",
       "    <tr>\n",
       "      <th>2</th>\n",
       "      <td>0.000000</td>\n",
       "      <td>0.000000</td>\n",
       "      <td>0.000000</td>\n",
       "      <td>0.000000</td>\n",
       "      <td>0.000000</td>\n",
       "      <td>0.000000</td>\n",
       "    </tr>\n",
       "    <tr>\n",
       "      <th>3</th>\n",
       "      <td>0.000000</td>\n",
       "      <td>0.000000</td>\n",
       "      <td>0.000000</td>\n",
       "      <td>0.000000</td>\n",
       "      <td>0.000000</td>\n",
       "      <td>0.000000</td>\n",
       "    </tr>\n",
       "    <tr>\n",
       "      <th>4</th>\n",
       "      <td>0.000000</td>\n",
       "      <td>0.000000</td>\n",
       "      <td>0.000000</td>\n",
       "      <td>0.000000</td>\n",
       "      <td>0.000000</td>\n",
       "      <td>0.000000</td>\n",
       "    </tr>\n",
       "  </tbody>\n",
       "</table>\n",
       "</div>"
      ],
      "text/plain": [
       "       accuracy  precision    recall  f1_score       AUC        AP\n",
       "Model                                                             \n",
       "1      0.950812   0.555556  0.024366  0.046685  0.732781  0.176842\n",
       "2      0.000000   0.000000  0.000000  0.000000  0.000000  0.000000\n",
       "3      0.000000   0.000000  0.000000  0.000000  0.000000  0.000000\n",
       "4      0.000000   0.000000  0.000000  0.000000  0.000000  0.000000"
      ]
     },
     "execution_count": 561,
     "metadata": {},
     "output_type": "execute_result"
    }
   ],
   "source": [
    "model1_results = [accuracy_testing, precision, recall, f1, auc, ap]\n",
    "results_df.iloc[0,:] = model1_results\n",
    "results_df"
   ]
  },
  {
   "cell_type": "markdown",
   "metadata": {},
   "source": [
    "Model 2 - Random Forest"
   ]
  },
  {
   "cell_type": "code",
   "execution_count": 552,
   "metadata": {},
   "outputs": [
    {
     "data": {
      "text/html": [
       "<style>#sk-container-id-19 {color: black;}#sk-container-id-19 pre{padding: 0;}#sk-container-id-19 div.sk-toggleable {background-color: white;}#sk-container-id-19 label.sk-toggleable__label {cursor: pointer;display: block;width: 100%;margin-bottom: 0;padding: 0.3em;box-sizing: border-box;text-align: center;}#sk-container-id-19 label.sk-toggleable__label-arrow:before {content: \"▸\";float: left;margin-right: 0.25em;color: #696969;}#sk-container-id-19 label.sk-toggleable__label-arrow:hover:before {color: black;}#sk-container-id-19 div.sk-estimator:hover label.sk-toggleable__label-arrow:before {color: black;}#sk-container-id-19 div.sk-toggleable__content {max-height: 0;max-width: 0;overflow: hidden;text-align: left;background-color: #f0f8ff;}#sk-container-id-19 div.sk-toggleable__content pre {margin: 0.2em;color: black;border-radius: 0.25em;background-color: #f0f8ff;}#sk-container-id-19 input.sk-toggleable__control:checked~div.sk-toggleable__content {max-height: 200px;max-width: 100%;overflow: auto;}#sk-container-id-19 input.sk-toggleable__control:checked~label.sk-toggleable__label-arrow:before {content: \"▾\";}#sk-container-id-19 div.sk-estimator input.sk-toggleable__control:checked~label.sk-toggleable__label {background-color: #d4ebff;}#sk-container-id-19 div.sk-label input.sk-toggleable__control:checked~label.sk-toggleable__label {background-color: #d4ebff;}#sk-container-id-19 input.sk-hidden--visually {border: 0;clip: rect(1px 1px 1px 1px);clip: rect(1px, 1px, 1px, 1px);height: 1px;margin: -1px;overflow: hidden;padding: 0;position: absolute;width: 1px;}#sk-container-id-19 div.sk-estimator {font-family: monospace;background-color: #f0f8ff;border: 1px dotted black;border-radius: 0.25em;box-sizing: border-box;margin-bottom: 0.5em;}#sk-container-id-19 div.sk-estimator:hover {background-color: #d4ebff;}#sk-container-id-19 div.sk-parallel-item::after {content: \"\";width: 100%;border-bottom: 1px solid gray;flex-grow: 1;}#sk-container-id-19 div.sk-label:hover label.sk-toggleable__label {background-color: #d4ebff;}#sk-container-id-19 div.sk-serial::before {content: \"\";position: absolute;border-left: 1px solid gray;box-sizing: border-box;top: 0;bottom: 0;left: 50%;z-index: 0;}#sk-container-id-19 div.sk-serial {display: flex;flex-direction: column;align-items: center;background-color: white;padding-right: 0.2em;padding-left: 0.2em;position: relative;}#sk-container-id-19 div.sk-item {position: relative;z-index: 1;}#sk-container-id-19 div.sk-parallel {display: flex;align-items: stretch;justify-content: center;background-color: white;position: relative;}#sk-container-id-19 div.sk-item::before, #sk-container-id-19 div.sk-parallel-item::before {content: \"\";position: absolute;border-left: 1px solid gray;box-sizing: border-box;top: 0;bottom: 0;left: 50%;z-index: -1;}#sk-container-id-19 div.sk-parallel-item {display: flex;flex-direction: column;z-index: 1;position: relative;background-color: white;}#sk-container-id-19 div.sk-parallel-item:first-child::after {align-self: flex-end;width: 50%;}#sk-container-id-19 div.sk-parallel-item:last-child::after {align-self: flex-start;width: 50%;}#sk-container-id-19 div.sk-parallel-item:only-child::after {width: 0;}#sk-container-id-19 div.sk-dashed-wrapped {border: 1px dashed gray;margin: 0 0.4em 0.5em 0.4em;box-sizing: border-box;padding-bottom: 0.4em;background-color: white;}#sk-container-id-19 div.sk-label label {font-family: monospace;font-weight: bold;display: inline-block;line-height: 1.2em;}#sk-container-id-19 div.sk-label-container {text-align: center;}#sk-container-id-19 div.sk-container {/* jupyter's `normalize.less` sets `[hidden] { display: none; }` but bootstrap.min.css set `[hidden] { display: none !important; }` so we also need the `!important` here to be able to override the default hidden behavior on the sphinx rendered scikit-learn.org. See: https://github.com/scikit-learn/scikit-learn/issues/21755 */display: inline-block !important;position: relative;}#sk-container-id-19 div.sk-text-repr-fallback {display: none;}</style><div id=\"sk-container-id-19\" class=\"sk-top-container\"><div class=\"sk-text-repr-fallback\"><pre>RandomForestClassifier(class_weight={0: 1, 1: 10}, max_depth=6,\n",
       "                       min_samples_leaf=500, min_samples_split=4000,\n",
       "                       n_estimators=30, random_state=42)</pre><b>In a Jupyter environment, please rerun this cell to show the HTML representation or trust the notebook. <br />On GitHub, the HTML representation is unable to render, please try loading this page with nbviewer.org.</b></div><div class=\"sk-container\" hidden><div class=\"sk-item\"><div class=\"sk-estimator sk-toggleable\"><input class=\"sk-toggleable__control sk-hidden--visually\" id=\"sk-estimator-id-25\" type=\"checkbox\" checked><label for=\"sk-estimator-id-25\" class=\"sk-toggleable__label sk-toggleable__label-arrow\">RandomForestClassifier</label><div class=\"sk-toggleable__content\"><pre>RandomForestClassifier(class_weight={0: 1, 1: 10}, max_depth=6,\n",
       "                       min_samples_leaf=500, min_samples_split=4000,\n",
       "                       n_estimators=30, random_state=42)</pre></div></div></div></div></div>"
      ],
      "text/plain": [
       "RandomForestClassifier(class_weight={0: 1, 1: 10}, max_depth=6,\n",
       "                       min_samples_leaf=500, min_samples_split=4000,\n",
       "                       n_estimators=30, random_state=42)"
      ]
     },
     "execution_count": 552,
     "metadata": {},
     "output_type": "execute_result"
    }
   ],
   "source": [
    "from sklearn.ensemble import RandomForestClassifier\n",
    "model_2 = RandomForestClassifier(random_state=42,n_estimators=30,max_depth=6,min_samples_leaf=500,min_samples_split=4000, class_weight={0:1,1:10})\n",
    "model_2.fit(X_train,y_train)"
   ]
  },
  {
   "cell_type": "code",
   "execution_count": 553,
   "metadata": {},
   "outputs": [
    {
     "name": "stdout",
     "output_type": "stream",
     "text": [
      "Feature Importance:\n",
      "crash_hour_category: 0.22976347023354687\n",
      "crash_day_of_week: 0.034914440201963506\n",
      "Density: 0.008720484349183214\n",
      "wind_level: 0.0016411531458441755\n",
      "contributing_factor: 0.0008943263021852622\n",
      "vis_level: 0.0003710656709158801\n",
      "icon: 0.0002512550698244199\n",
      "zip_code: 0.00011013352065377203\n",
      "Population: 0.0\n"
     ]
    }
   ],
   "source": [
    "feature_importances = model_2.feature_importances_\n",
    "feature_names = features_cat + features_num\n",
    "feature_importance_dict = dict(zip(feature_names, feature_importances))\n",
    "sorted_feature_importance = sorted(feature_importance_dict.items(), key=lambda x: x[1], reverse=True)\n",
    "print(\"Feature Importance:\")\n",
    "for feature, importance in sorted_feature_importance:\n",
    "    print(f\"{feature}: {importance}\")"
   ]
  },
  {
   "cell_type": "code",
   "execution_count": 562,
   "metadata": {},
   "outputs": [
    {
     "name": "stderr",
     "output_type": "stream",
     "text": [
      "/Library/Frameworks/Python.framework/Versions/3.11/lib/python3.11/site-packages/sklearn/metrics/_classification.py:1469: UndefinedMetricWarning: Precision is ill-defined and being set to 0.0 due to no predicted samples. Use `zero_division` parameter to control this behavior.\n",
      "  _warn_prf(average, modifier, msg_start, len(result))\n"
     ]
    },
    {
     "name": "stdout",
     "output_type": "stream",
     "text": [
      "Confusion Matrix: \n",
      " [[19731     0]\n",
      " [ 1026     0]]\n",
      "Training accuracy:  0.952652815417043\n",
      "Testing  accuracy:  0.9505708917473623\n",
      "Precision:  0.0\n",
      "Recall:  0.0\n",
      "F1-Score:  0.0\n",
      "AUC:  0.7023332980636343\n",
      "Average Precision:  0.11145433198382476\n"
     ]
    }
   ],
   "source": [
    "from sklearn.metrics import confusion_matrix\n",
    "from sklearn.metrics import f1_score,recall_score,precision_score\n",
    "from sklearn.metrics import average_precision_score,roc_auc_score\n",
    "\n",
    "y_test_pred = model_2.predict(X_test)\n",
    "cfm = confusion_matrix(y_test,y_test_pred)\n",
    "\n",
    "accuracy_training = model_2.score(X_train,y_train)\n",
    "accuracy_testing = model_2.score(X_test,y_test)\n",
    "recall = recall_score(y_test,y_test_pred)\n",
    "precision = precision_score(y_test,y_test_pred) \n",
    "f1 = f1_score(y_test,y_test_pred)\n",
    "\n",
    "prediction_probabilities_test = model_2.predict_proba(X_test)\n",
    "y_score = prediction_probabilities_test[:,1]\n",
    "ap = average_precision_score(y_test, y_score)\n",
    "auc = roc_auc_score(y_test,y_score)\n",
    "\n",
    "print(\"Confusion Matrix: \\n\",cfm)\n",
    "print(\"Training accuracy: \",accuracy_training)\n",
    "print(\"Testing  accuracy: \",accuracy_testing)\n",
    "print(\"Precision: \",precision)\n",
    "print(\"Recall: \",recall)\n",
    "print(\"F1-Score: \",f1)\n",
    "print(\"AUC: \",auc)\n",
    "print(\"Average Precision: \",ap)"
   ]
  },
  {
   "cell_type": "code",
   "execution_count": 563,
   "metadata": {},
   "outputs": [
    {
     "data": {
      "text/html": [
       "<div>\n",
       "<style scoped>\n",
       "    .dataframe tbody tr th:only-of-type {\n",
       "        vertical-align: middle;\n",
       "    }\n",
       "\n",
       "    .dataframe tbody tr th {\n",
       "        vertical-align: top;\n",
       "    }\n",
       "\n",
       "    .dataframe thead th {\n",
       "        text-align: right;\n",
       "    }\n",
       "</style>\n",
       "<table border=\"1\" class=\"dataframe\">\n",
       "  <thead>\n",
       "    <tr style=\"text-align: right;\">\n",
       "      <th></th>\n",
       "      <th>accuracy</th>\n",
       "      <th>precision</th>\n",
       "      <th>recall</th>\n",
       "      <th>f1_score</th>\n",
       "      <th>AUC</th>\n",
       "      <th>AP</th>\n",
       "    </tr>\n",
       "    <tr>\n",
       "      <th>Model</th>\n",
       "      <th></th>\n",
       "      <th></th>\n",
       "      <th></th>\n",
       "      <th></th>\n",
       "      <th></th>\n",
       "      <th></th>\n",
       "    </tr>\n",
       "  </thead>\n",
       "  <tbody>\n",
       "    <tr>\n",
       "      <th>1</th>\n",
       "      <td>0.950812</td>\n",
       "      <td>0.555556</td>\n",
       "      <td>0.024366</td>\n",
       "      <td>0.046685</td>\n",
       "      <td>0.732781</td>\n",
       "      <td>0.176842</td>\n",
       "    </tr>\n",
       "    <tr>\n",
       "      <th>2</th>\n",
       "      <td>0.950571</td>\n",
       "      <td>0.000000</td>\n",
       "      <td>0.000000</td>\n",
       "      <td>0.000000</td>\n",
       "      <td>0.702333</td>\n",
       "      <td>0.111454</td>\n",
       "    </tr>\n",
       "    <tr>\n",
       "      <th>3</th>\n",
       "      <td>0.000000</td>\n",
       "      <td>0.000000</td>\n",
       "      <td>0.000000</td>\n",
       "      <td>0.000000</td>\n",
       "      <td>0.000000</td>\n",
       "      <td>0.000000</td>\n",
       "    </tr>\n",
       "    <tr>\n",
       "      <th>4</th>\n",
       "      <td>0.000000</td>\n",
       "      <td>0.000000</td>\n",
       "      <td>0.000000</td>\n",
       "      <td>0.000000</td>\n",
       "      <td>0.000000</td>\n",
       "      <td>0.000000</td>\n",
       "    </tr>\n",
       "  </tbody>\n",
       "</table>\n",
       "</div>"
      ],
      "text/plain": [
       "       accuracy  precision    recall  f1_score       AUC        AP\n",
       "Model                                                             \n",
       "1      0.950812   0.555556  0.024366  0.046685  0.732781  0.176842\n",
       "2      0.950571   0.000000  0.000000  0.000000  0.702333  0.111454\n",
       "3      0.000000   0.000000  0.000000  0.000000  0.000000  0.000000\n",
       "4      0.000000   0.000000  0.000000  0.000000  0.000000  0.000000"
      ]
     },
     "execution_count": 563,
     "metadata": {},
     "output_type": "execute_result"
    }
   ],
   "source": [
    "model2_results = [accuracy_testing, precision, recall, f1, auc, ap]\n",
    "results_df.iloc[1,:] = model2_results\n",
    "results_df"
   ]
  },
  {
   "cell_type": "markdown",
   "metadata": {},
   "source": [
    "Model 3 - Gradient Boosting Classifier"
   ]
  },
  {
   "cell_type": "code",
   "execution_count": 555,
   "metadata": {},
   "outputs": [
    {
     "data": {
      "text/html": [
       "<style>#sk-container-id-20 {color: black;}#sk-container-id-20 pre{padding: 0;}#sk-container-id-20 div.sk-toggleable {background-color: white;}#sk-container-id-20 label.sk-toggleable__label {cursor: pointer;display: block;width: 100%;margin-bottom: 0;padding: 0.3em;box-sizing: border-box;text-align: center;}#sk-container-id-20 label.sk-toggleable__label-arrow:before {content: \"▸\";float: left;margin-right: 0.25em;color: #696969;}#sk-container-id-20 label.sk-toggleable__label-arrow:hover:before {color: black;}#sk-container-id-20 div.sk-estimator:hover label.sk-toggleable__label-arrow:before {color: black;}#sk-container-id-20 div.sk-toggleable__content {max-height: 0;max-width: 0;overflow: hidden;text-align: left;background-color: #f0f8ff;}#sk-container-id-20 div.sk-toggleable__content pre {margin: 0.2em;color: black;border-radius: 0.25em;background-color: #f0f8ff;}#sk-container-id-20 input.sk-toggleable__control:checked~div.sk-toggleable__content {max-height: 200px;max-width: 100%;overflow: auto;}#sk-container-id-20 input.sk-toggleable__control:checked~label.sk-toggleable__label-arrow:before {content: \"▾\";}#sk-container-id-20 div.sk-estimator input.sk-toggleable__control:checked~label.sk-toggleable__label {background-color: #d4ebff;}#sk-container-id-20 div.sk-label input.sk-toggleable__control:checked~label.sk-toggleable__label {background-color: #d4ebff;}#sk-container-id-20 input.sk-hidden--visually {border: 0;clip: rect(1px 1px 1px 1px);clip: rect(1px, 1px, 1px, 1px);height: 1px;margin: -1px;overflow: hidden;padding: 0;position: absolute;width: 1px;}#sk-container-id-20 div.sk-estimator {font-family: monospace;background-color: #f0f8ff;border: 1px dotted black;border-radius: 0.25em;box-sizing: border-box;margin-bottom: 0.5em;}#sk-container-id-20 div.sk-estimator:hover {background-color: #d4ebff;}#sk-container-id-20 div.sk-parallel-item::after {content: \"\";width: 100%;border-bottom: 1px solid gray;flex-grow: 1;}#sk-container-id-20 div.sk-label:hover label.sk-toggleable__label {background-color: #d4ebff;}#sk-container-id-20 div.sk-serial::before {content: \"\";position: absolute;border-left: 1px solid gray;box-sizing: border-box;top: 0;bottom: 0;left: 50%;z-index: 0;}#sk-container-id-20 div.sk-serial {display: flex;flex-direction: column;align-items: center;background-color: white;padding-right: 0.2em;padding-left: 0.2em;position: relative;}#sk-container-id-20 div.sk-item {position: relative;z-index: 1;}#sk-container-id-20 div.sk-parallel {display: flex;align-items: stretch;justify-content: center;background-color: white;position: relative;}#sk-container-id-20 div.sk-item::before, #sk-container-id-20 div.sk-parallel-item::before {content: \"\";position: absolute;border-left: 1px solid gray;box-sizing: border-box;top: 0;bottom: 0;left: 50%;z-index: -1;}#sk-container-id-20 div.sk-parallel-item {display: flex;flex-direction: column;z-index: 1;position: relative;background-color: white;}#sk-container-id-20 div.sk-parallel-item:first-child::after {align-self: flex-end;width: 50%;}#sk-container-id-20 div.sk-parallel-item:last-child::after {align-self: flex-start;width: 50%;}#sk-container-id-20 div.sk-parallel-item:only-child::after {width: 0;}#sk-container-id-20 div.sk-dashed-wrapped {border: 1px dashed gray;margin: 0 0.4em 0.5em 0.4em;box-sizing: border-box;padding-bottom: 0.4em;background-color: white;}#sk-container-id-20 div.sk-label label {font-family: monospace;font-weight: bold;display: inline-block;line-height: 1.2em;}#sk-container-id-20 div.sk-label-container {text-align: center;}#sk-container-id-20 div.sk-container {/* jupyter's `normalize.less` sets `[hidden] { display: none; }` but bootstrap.min.css set `[hidden] { display: none !important; }` so we also need the `!important` here to be able to override the default hidden behavior on the sphinx rendered scikit-learn.org. See: https://github.com/scikit-learn/scikit-learn/issues/21755 */display: inline-block !important;position: relative;}#sk-container-id-20 div.sk-text-repr-fallback {display: none;}</style><div id=\"sk-container-id-20\" class=\"sk-top-container\"><div class=\"sk-text-repr-fallback\"><pre>GradientBoostingClassifier(max_depth=8, min_samples_leaf=100,\n",
       "                           min_samples_split=100, n_estimators=400,\n",
       "                           subsample=0.6)</pre><b>In a Jupyter environment, please rerun this cell to show the HTML representation or trust the notebook. <br />On GitHub, the HTML representation is unable to render, please try loading this page with nbviewer.org.</b></div><div class=\"sk-container\" hidden><div class=\"sk-item\"><div class=\"sk-estimator sk-toggleable\"><input class=\"sk-toggleable__control sk-hidden--visually\" id=\"sk-estimator-id-26\" type=\"checkbox\" checked><label for=\"sk-estimator-id-26\" class=\"sk-toggleable__label sk-toggleable__label-arrow\">GradientBoostingClassifier</label><div class=\"sk-toggleable__content\"><pre>GradientBoostingClassifier(max_depth=8, min_samples_leaf=100,\n",
       "                           min_samples_split=100, n_estimators=400,\n",
       "                           subsample=0.6)</pre></div></div></div></div></div>"
      ],
      "text/plain": [
       "GradientBoostingClassifier(max_depth=8, min_samples_leaf=100,\n",
       "                           min_samples_split=100, n_estimators=400,\n",
       "                           subsample=0.6)"
      ]
     },
     "execution_count": 555,
     "metadata": {},
     "output_type": "execute_result"
    }
   ],
   "source": [
    "from sklearn.ensemble import GradientBoostingClassifier\n",
    "\n",
    "sample_weight = np.array([4 if i == 1 else 1 for i in y_train])\n",
    "\n",
    "\n",
    "model_3 = GradientBoostingClassifier(min_samples_split=100,\n",
    "                                     max_depth=8,\n",
    "                                 min_samples_leaf=100,\n",
    "                                 n_estimators=400,\n",
    "                                 subsample=0.6)\n",
    "\n",
    "\n",
    "model_3.fit(X_train,y_train,sample_weight=sample_weight)"
   ]
  },
  {
   "cell_type": "code",
   "execution_count": 564,
   "metadata": {},
   "outputs": [
    {
     "name": "stdout",
     "output_type": "stream",
     "text": [
      "Training accuracy:  0.9464739536284251\n",
      "Testing  accuracy:  0.9397793515440575\n",
      "confusion matrix:\n",
      "[[19350   381]\n",
      " [  869   157]]\n",
      "precision:  0.29182156133828996\n",
      "recall:  0.1530214424951267\n",
      "f1 score:  0.20076726342710993\n",
      "auc 0.7381357721391706\n",
      "ap 0.163168547688434\n"
     ]
    }
   ],
   "source": [
    "#Calculate and print metrics\n",
    "from sklearn.metrics import confusion_matrix\n",
    "from sklearn.metrics import f1_score,recall_score,precision_score\n",
    "from sklearn.metrics import average_precision_score,roc_auc_score\n",
    "\n",
    "y_test_pred = model_3.predict(X_test)\n",
    "cfm = confusion_matrix(y_test,y_test_pred)\n",
    "\n",
    "accuracy_training = model_3.score(X_train,y_train)\n",
    "accuracy_testing = model_3.score(X_test,y_test)\n",
    "recall = recall_score(y_test,y_test_pred)\n",
    "precision = precision_score(y_test,y_test_pred) \n",
    "f1 = f1_score(y_test,y_test_pred)\n",
    "\n",
    "prediction_probabilities_test = model_3.predict_proba(X_test)\n",
    "y_score = prediction_probabilities_test[:,1]\n",
    "ap = average_precision_score(y_test, y_score)\n",
    "auc = roc_auc_score(y_test,y_score)\n",
    "\n",
    "\n",
    "print(\"Training accuracy: \",accuracy_training)\n",
    "print(\"Testing  accuracy: \",accuracy_testing)\n",
    "print(\"confusion matrix:\")\n",
    "print(cfm)\n",
    "\n",
    "print(\"precision: \",precision)\n",
    "print(\"recall: \",recall)\n",
    "print(\"f1 score: \",f1)\n",
    "print(\"auc\",auc)\n",
    "print(\"ap\",ap)"
   ]
  },
  {
   "cell_type": "code",
   "execution_count": 565,
   "metadata": {},
   "outputs": [
    {
     "data": {
      "text/html": [
       "<div>\n",
       "<style scoped>\n",
       "    .dataframe tbody tr th:only-of-type {\n",
       "        vertical-align: middle;\n",
       "    }\n",
       "\n",
       "    .dataframe tbody tr th {\n",
       "        vertical-align: top;\n",
       "    }\n",
       "\n",
       "    .dataframe thead th {\n",
       "        text-align: right;\n",
       "    }\n",
       "</style>\n",
       "<table border=\"1\" class=\"dataframe\">\n",
       "  <thead>\n",
       "    <tr style=\"text-align: right;\">\n",
       "      <th></th>\n",
       "      <th>accuracy</th>\n",
       "      <th>precision</th>\n",
       "      <th>recall</th>\n",
       "      <th>f1_score</th>\n",
       "      <th>AUC</th>\n",
       "      <th>AP</th>\n",
       "    </tr>\n",
       "    <tr>\n",
       "      <th>Model</th>\n",
       "      <th></th>\n",
       "      <th></th>\n",
       "      <th></th>\n",
       "      <th></th>\n",
       "      <th></th>\n",
       "      <th></th>\n",
       "    </tr>\n",
       "  </thead>\n",
       "  <tbody>\n",
       "    <tr>\n",
       "      <th>1</th>\n",
       "      <td>0.950812</td>\n",
       "      <td>0.555556</td>\n",
       "      <td>0.024366</td>\n",
       "      <td>0.046685</td>\n",
       "      <td>0.732781</td>\n",
       "      <td>0.176842</td>\n",
       "    </tr>\n",
       "    <tr>\n",
       "      <th>2</th>\n",
       "      <td>0.950571</td>\n",
       "      <td>0.000000</td>\n",
       "      <td>0.000000</td>\n",
       "      <td>0.000000</td>\n",
       "      <td>0.702333</td>\n",
       "      <td>0.111454</td>\n",
       "    </tr>\n",
       "    <tr>\n",
       "      <th>3</th>\n",
       "      <td>0.939779</td>\n",
       "      <td>0.291822</td>\n",
       "      <td>0.153021</td>\n",
       "      <td>0.200767</td>\n",
       "      <td>0.738136</td>\n",
       "      <td>0.163169</td>\n",
       "    </tr>\n",
       "    <tr>\n",
       "      <th>4</th>\n",
       "      <td>0.000000</td>\n",
       "      <td>0.000000</td>\n",
       "      <td>0.000000</td>\n",
       "      <td>0.000000</td>\n",
       "      <td>0.000000</td>\n",
       "      <td>0.000000</td>\n",
       "    </tr>\n",
       "  </tbody>\n",
       "</table>\n",
       "</div>"
      ],
      "text/plain": [
       "       accuracy  precision    recall  f1_score       AUC        AP\n",
       "Model                                                             \n",
       "1      0.950812   0.555556  0.024366  0.046685  0.732781  0.176842\n",
       "2      0.950571   0.000000  0.000000  0.000000  0.702333  0.111454\n",
       "3      0.939779   0.291822  0.153021  0.200767  0.738136  0.163169\n",
       "4      0.000000   0.000000  0.000000  0.000000  0.000000  0.000000"
      ]
     },
     "execution_count": 565,
     "metadata": {},
     "output_type": "execute_result"
    }
   ],
   "source": [
    "model3_results = [accuracy_testing, precision, recall, f1, auc, ap]\n",
    "results_df.iloc[2,:] = model3_results\n",
    "results_df"
   ]
  },
  {
   "cell_type": "markdown",
   "metadata": {},
   "source": [
    "Model 4 - Neural Network"
   ]
  },
  {
   "cell_type": "code",
   "execution_count": 605,
   "metadata": {},
   "outputs": [],
   "source": [
    "from sklearn.neural_network import MLPClassifier\n",
    "\n",
    "model4 = MLPClassifier(solver='lbfgs', alpha=1e-5,hidden_layer_sizes=60, max_iter = 500)"
   ]
  },
  {
   "cell_type": "code",
   "execution_count": 608,
   "metadata": {},
   "outputs": [
    {
     "name": "stderr",
     "output_type": "stream",
     "text": [
      "/Library/Frameworks/Python.framework/Versions/3.11/lib/python3.11/site-packages/sklearn/neural_network/_multilayer_perceptron.py:546: ConvergenceWarning: lbfgs failed to converge (status=1):\n",
      "STOP: TOTAL NO. of ITERATIONS REACHED LIMIT.\n",
      "\n",
      "Increase the number of iterations (max_iter) or scale the data as shown in:\n",
      "    https://scikit-learn.org/stable/modules/preprocessing.html\n",
      "  self.n_iter_ = _check_optimize_result(\"lbfgs\", opt_res, self.max_iter)\n"
     ]
    },
    {
     "data": {
      "text/html": [
       "<style>#sk-container-id-22 {color: black;}#sk-container-id-22 pre{padding: 0;}#sk-container-id-22 div.sk-toggleable {background-color: white;}#sk-container-id-22 label.sk-toggleable__label {cursor: pointer;display: block;width: 100%;margin-bottom: 0;padding: 0.3em;box-sizing: border-box;text-align: center;}#sk-container-id-22 label.sk-toggleable__label-arrow:before {content: \"▸\";float: left;margin-right: 0.25em;color: #696969;}#sk-container-id-22 label.sk-toggleable__label-arrow:hover:before {color: black;}#sk-container-id-22 div.sk-estimator:hover label.sk-toggleable__label-arrow:before {color: black;}#sk-container-id-22 div.sk-toggleable__content {max-height: 0;max-width: 0;overflow: hidden;text-align: left;background-color: #f0f8ff;}#sk-container-id-22 div.sk-toggleable__content pre {margin: 0.2em;color: black;border-radius: 0.25em;background-color: #f0f8ff;}#sk-container-id-22 input.sk-toggleable__control:checked~div.sk-toggleable__content {max-height: 200px;max-width: 100%;overflow: auto;}#sk-container-id-22 input.sk-toggleable__control:checked~label.sk-toggleable__label-arrow:before {content: \"▾\";}#sk-container-id-22 div.sk-estimator input.sk-toggleable__control:checked~label.sk-toggleable__label {background-color: #d4ebff;}#sk-container-id-22 div.sk-label input.sk-toggleable__control:checked~label.sk-toggleable__label {background-color: #d4ebff;}#sk-container-id-22 input.sk-hidden--visually {border: 0;clip: rect(1px 1px 1px 1px);clip: rect(1px, 1px, 1px, 1px);height: 1px;margin: -1px;overflow: hidden;padding: 0;position: absolute;width: 1px;}#sk-container-id-22 div.sk-estimator {font-family: monospace;background-color: #f0f8ff;border: 1px dotted black;border-radius: 0.25em;box-sizing: border-box;margin-bottom: 0.5em;}#sk-container-id-22 div.sk-estimator:hover {background-color: #d4ebff;}#sk-container-id-22 div.sk-parallel-item::after {content: \"\";width: 100%;border-bottom: 1px solid gray;flex-grow: 1;}#sk-container-id-22 div.sk-label:hover label.sk-toggleable__label {background-color: #d4ebff;}#sk-container-id-22 div.sk-serial::before {content: \"\";position: absolute;border-left: 1px solid gray;box-sizing: border-box;top: 0;bottom: 0;left: 50%;z-index: 0;}#sk-container-id-22 div.sk-serial {display: flex;flex-direction: column;align-items: center;background-color: white;padding-right: 0.2em;padding-left: 0.2em;position: relative;}#sk-container-id-22 div.sk-item {position: relative;z-index: 1;}#sk-container-id-22 div.sk-parallel {display: flex;align-items: stretch;justify-content: center;background-color: white;position: relative;}#sk-container-id-22 div.sk-item::before, #sk-container-id-22 div.sk-parallel-item::before {content: \"\";position: absolute;border-left: 1px solid gray;box-sizing: border-box;top: 0;bottom: 0;left: 50%;z-index: -1;}#sk-container-id-22 div.sk-parallel-item {display: flex;flex-direction: column;z-index: 1;position: relative;background-color: white;}#sk-container-id-22 div.sk-parallel-item:first-child::after {align-self: flex-end;width: 50%;}#sk-container-id-22 div.sk-parallel-item:last-child::after {align-self: flex-start;width: 50%;}#sk-container-id-22 div.sk-parallel-item:only-child::after {width: 0;}#sk-container-id-22 div.sk-dashed-wrapped {border: 1px dashed gray;margin: 0 0.4em 0.5em 0.4em;box-sizing: border-box;padding-bottom: 0.4em;background-color: white;}#sk-container-id-22 div.sk-label label {font-family: monospace;font-weight: bold;display: inline-block;line-height: 1.2em;}#sk-container-id-22 div.sk-label-container {text-align: center;}#sk-container-id-22 div.sk-container {/* jupyter's `normalize.less` sets `[hidden] { display: none; }` but bootstrap.min.css set `[hidden] { display: none !important; }` so we also need the `!important` here to be able to override the default hidden behavior on the sphinx rendered scikit-learn.org. See: https://github.com/scikit-learn/scikit-learn/issues/21755 */display: inline-block !important;position: relative;}#sk-container-id-22 div.sk-text-repr-fallback {display: none;}</style><div id=\"sk-container-id-22\" class=\"sk-top-container\"><div class=\"sk-text-repr-fallback\"><pre>MLPClassifier(alpha=1e-05, hidden_layer_sizes=60, max_iter=500, solver=&#x27;lbfgs&#x27;)</pre><b>In a Jupyter environment, please rerun this cell to show the HTML representation or trust the notebook. <br />On GitHub, the HTML representation is unable to render, please try loading this page with nbviewer.org.</b></div><div class=\"sk-container\" hidden><div class=\"sk-item\"><div class=\"sk-estimator sk-toggleable\"><input class=\"sk-toggleable__control sk-hidden--visually\" id=\"sk-estimator-id-28\" type=\"checkbox\" checked><label for=\"sk-estimator-id-28\" class=\"sk-toggleable__label sk-toggleable__label-arrow\">MLPClassifier</label><div class=\"sk-toggleable__content\"><pre>MLPClassifier(alpha=1e-05, hidden_layer_sizes=60, max_iter=500, solver=&#x27;lbfgs&#x27;)</pre></div></div></div></div></div>"
      ],
      "text/plain": [
       "MLPClassifier(alpha=1e-05, hidden_layer_sizes=60, max_iter=500, solver='lbfgs')"
      ]
     },
     "execution_count": 608,
     "metadata": {},
     "output_type": "execute_result"
    }
   ],
   "source": [
    "model4.fit(X_train,y_train)"
   ]
  },
  {
   "cell_type": "code",
   "execution_count": 609,
   "metadata": {},
   "outputs": [],
   "source": [
    "y_train_oh = np.zeros((len(y_train),2),dtype=\"int\")\n",
    "y_train_oh[np.arange(len(y_train)), y_train.to_numpy(dtype=\"int\")] = 1\n",
    "y_test_oh = np.zeros((len(y_test),2),dtype=\"int\")\n",
    "y_test_oh[np.arange(len(y_test)), y_test.to_numpy(dtype=\"int\")] = 1"
   ]
  },
  {
   "cell_type": "code",
   "execution_count": 610,
   "metadata": {},
   "outputs": [
    {
     "name": "stdout",
     "output_type": "stream",
     "text": [
      "Training accuracy:  0.9715386931647094\n",
      "Testing  accuracy:  0.9258081611022787\n",
      "precision:  0.9140377960989616\n",
      "recall:  0.9258081611022787\n",
      "f1 score:  0.9196882017256343\n",
      "auc 0.5354836142609324\n",
      "ap 0.5390408456228272\n"
     ]
    }
   ],
   "source": [
    "from sklearn.metrics import confusion_matrix,f1_score,precision_score,recall_score\n",
    "from sklearn.metrics import roc_auc_score,average_precision_score\n",
    "test_pred = model4.predict(X_test)\n",
    "accuracy_training =model4.score(X_train,y_train)\n",
    "accuracy_testing =model4.score(X_test,y_test)\n",
    "f1 = f1_score(y_test,test_pred,average='weighted')\n",
    "precision = precision_score(y_test,test_pred,average='weighted')\n",
    "recall = recall_score(y_test,test_pred,average='weighted')\n",
    "auc = roc_auc_score(y_test,test_pred)\n",
    "test_probs = model4.predict_proba(X_test)\n",
    "ap = average_precision_score(y_test_oh,test_probs)\n",
    "\n",
    "print(\"Training accuracy: \",accuracy_training)\n",
    "print(\"Testing  accuracy: \",accuracy_testing)\n",
    "print(\"precision: \",precision)\n",
    "print(\"recall: \",recall)\n",
    "print(\"f1 score: \",f1)\n",
    "print(\"auc\",auc)\n",
    "print(\"ap\",ap)"
   ]
  },
  {
   "cell_type": "code",
   "execution_count": 611,
   "metadata": {},
   "outputs": [
    {
     "data": {
      "text/html": [
       "<div>\n",
       "<style scoped>\n",
       "    .dataframe tbody tr th:only-of-type {\n",
       "        vertical-align: middle;\n",
       "    }\n",
       "\n",
       "    .dataframe tbody tr th {\n",
       "        vertical-align: top;\n",
       "    }\n",
       "\n",
       "    .dataframe thead th {\n",
       "        text-align: right;\n",
       "    }\n",
       "</style>\n",
       "<table border=\"1\" class=\"dataframe\">\n",
       "  <thead>\n",
       "    <tr style=\"text-align: right;\">\n",
       "      <th></th>\n",
       "      <th>accuracy</th>\n",
       "      <th>precision</th>\n",
       "      <th>recall</th>\n",
       "      <th>f1_score</th>\n",
       "      <th>AUC</th>\n",
       "      <th>AP</th>\n",
       "    </tr>\n",
       "    <tr>\n",
       "      <th>Model</th>\n",
       "      <th></th>\n",
       "      <th></th>\n",
       "      <th></th>\n",
       "      <th></th>\n",
       "      <th></th>\n",
       "      <th></th>\n",
       "    </tr>\n",
       "  </thead>\n",
       "  <tbody>\n",
       "    <tr>\n",
       "      <th>1</th>\n",
       "      <td>0.950812</td>\n",
       "      <td>0.555556</td>\n",
       "      <td>0.024366</td>\n",
       "      <td>0.046685</td>\n",
       "      <td>0.732781</td>\n",
       "      <td>0.176842</td>\n",
       "    </tr>\n",
       "    <tr>\n",
       "      <th>2</th>\n",
       "      <td>0.950571</td>\n",
       "      <td>0.000000</td>\n",
       "      <td>0.000000</td>\n",
       "      <td>0.000000</td>\n",
       "      <td>0.702333</td>\n",
       "      <td>0.111454</td>\n",
       "    </tr>\n",
       "    <tr>\n",
       "      <th>3</th>\n",
       "      <td>0.939779</td>\n",
       "      <td>0.291822</td>\n",
       "      <td>0.153021</td>\n",
       "      <td>0.200767</td>\n",
       "      <td>0.738136</td>\n",
       "      <td>0.163169</td>\n",
       "    </tr>\n",
       "    <tr>\n",
       "      <th>4</th>\n",
       "      <td>0.925808</td>\n",
       "      <td>0.914038</td>\n",
       "      <td>0.925808</td>\n",
       "      <td>0.919688</td>\n",
       "      <td>0.535484</td>\n",
       "      <td>0.539041</td>\n",
       "    </tr>\n",
       "  </tbody>\n",
       "</table>\n",
       "</div>"
      ],
      "text/plain": [
       "       accuracy  precision    recall  f1_score       AUC        AP\n",
       "Model                                                             \n",
       "1      0.950812   0.555556  0.024366  0.046685  0.732781  0.176842\n",
       "2      0.950571   0.000000  0.000000  0.000000  0.702333  0.111454\n",
       "3      0.939779   0.291822  0.153021  0.200767  0.738136  0.163169\n",
       "4      0.925808   0.914038  0.925808  0.919688  0.535484  0.539041"
      ]
     },
     "execution_count": 611,
     "metadata": {},
     "output_type": "execute_result"
    }
   ],
   "source": [
    "model4_results = [accuracy_testing, precision, recall, f1, auc, ap]\n",
    "results_df.iloc[3,:] = model4_results\n",
    "results_df"
   ]
  },
  {
   "cell_type": "code",
   "execution_count": 612,
   "metadata": {},
   "outputs": [],
   "source": [
    "results_df_c = results_df.copy()"
   ]
  }
 ],
 "metadata": {
  "kernelspec": {
   "display_name": "Python 3.11.0 64-bit",
   "language": "python",
   "name": "python3"
  },
  "language_info": {
   "codemirror_mode": {
    "name": "ipython",
    "version": 3
   },
   "file_extension": ".py",
   "mimetype": "text/x-python",
   "name": "python",
   "nbconvert_exporter": "python",
   "pygments_lexer": "ipython3",
   "version": "3.11.0"
  },
  "orig_nbformat": 4,
  "vscode": {
   "interpreter": {
    "hash": "aee8b7b246df8f9039afb4144a1f6fd8d2ca17a180786b69acc140d282b71a49"
   }
  }
 },
 "nbformat": 4,
 "nbformat_minor": 2
}
